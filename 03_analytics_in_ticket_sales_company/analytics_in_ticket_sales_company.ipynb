{
 "cells": [
  {
   "cell_type": "markdown",
   "metadata": {},
   "source": [
    "# Аналитика в сервисе по продаже билетов <a name=\"content\"></a>"
   ]
  },
  {
   "cell_type": "markdown",
   "metadata": {},
   "source": [
    "# Оглавление"
   ]
  },
  {
   "cell_type": "markdown",
   "metadata": {},
   "source": [
    "* [Описание проекта](#project_description)\n",
    "* [Описание данных](#data_description)\n",
    "* [Шаг 1. Изучение и предобработка входных данных](#step_1)\n",
    "    * [1.1. Изучение входных данных](#step_1_1)\n",
    "    * [1.2. Подготовка данных к анализу](#step_1_2)\n",
    "    * [Шаг 1. Вывод](#step_1_end)\n",
    "* [Шаг 2. Продукт. Расчёт метрик](#step_2)\n",
    "    * [2.1. Оценка пользовательской активности (dau, wau, mau)](#step_2_1)\n",
    "    * [2.3. Пользовательская сессия. Продолжительность сессии](step_2_2)\n",
    "    * [2.3. Пользовательская сессия. Количество сессий в день](#step_2_3)\n",
    "    * [2.3. Retention Rare и Churn Rate. Как часто люди возвращаются?](#step_2_4)\n",
    "    * [Шаг 2. Вывод (продукт)](#step_2_end)\n",
    "* [Шаг 3. Продажи. Расчёт метрик](#step_3)\n",
    "    * [3.1. Когда пользователи начинают покупать?](#step_3_1)\n",
    "    * [3.2. Количество покупок за период](#step_3_2)\n",
    "    * [3.3. Средний чек](#step_3_3)\n",
    "    * [3.4. Количество приносмых денег (LTV)](#step_3_4)\n",
    "    * [Шаг 3. Вывод (продажи)](#step_3_end)\n",
    "* [Шаг 4. Маркетинг. Расчёт метрик](#step_4)\n",
    "    * [4.1. Расчёт метрик CAC и ROI](#step_4_1)\n",
    "    * [4.2. Сколько денег потратили](#step_4_2)\n",
    "* [Шаг 5. Рекомендации маркетологам](#step_5)\n",
    "* [Шаг 6. Общий вывод](#step_6)"
   ]
  },
  {
   "cell_type": "markdown",
   "metadata": {},
   "source": [
    "# Описание проекта <a name=\"project_description\"></a>"
   ]
  },
  {
   "cell_type": "markdown",
   "metadata": {},
   "source": [
    "Необходимо оптимизировать маркетинговые затраты в **сервисе по продаже билетов**.\n",
    "\n",
    "В распоряжении есть данные от сервиса с июня 2017 по конец мая 2018 года:\n",
    "\n",
    "* лог сервера с данными о посещениях сайта сервиса,\n",
    "\n",
    "\n",
    "* выгрузка всех заказов за этот период,\n",
    "\n",
    "\n",
    "* статистика рекламных расходов."
   ]
  },
  {
   "cell_type": "markdown",
   "metadata": {},
   "source": [
    "[**Вернуться к оглавлению...**](#content)"
   ]
  },
  {
   "cell_type": "markdown",
   "metadata": {},
   "source": [
    "# Описание данных <a name=\"data_description\"></a>"
   ]
  },
  {
   "cell_type": "markdown",
   "metadata": {},
   "source": [
    "Таблица **visits** (лог сервера с информацией о посещениях сайта):\n",
    "\n",
    "* **Uid** — уникальный идентификатор пользователя;\n",
    "\n",
    "\n",
    "* **Device** — категория устройства пользователя;\n",
    "\n",
    "\n",
    "* **Start Ts** — дата и время начала сессии;\n",
    "\n",
    "\n",
    "* **End Ts** — дата и время окончания сессии;\n",
    "\n",
    "\n",
    "* **Source Id** — идентификатор рекламного источника, из которого пришел пользователь.\n",
    "\n",
    "Таблица **orders** (информация о заказах):\n",
    "\n",
    "* **Uid** — уникальный id пользователя, который сделал заказ;\n",
    "\n",
    "\n",
    "* **Buy Ts** — дата и время заказа;\n",
    "\n",
    "\n",
    "* **Revenue** — выручка Яндекс.Афиши с этого заказа.\n",
    "\n",
    "Таблица costs (информация о затратах на маркетинг):\n",
    "\n",
    "* **source_id** — идентификатор рекламного источника;\n",
    "\n",
    "\n",
    "* **dt** — дата;\n",
    "\n",
    "\n",
    "* **costs** — затраты на этот рекламный источник в этот день;"
   ]
  },
  {
   "cell_type": "markdown",
   "metadata": {},
   "source": [
    "[**Вернуться к оглавлению...**](#content)"
   ]
  },
  {
   "cell_type": "markdown",
   "metadata": {},
   "source": [
    "# Шаг 1. Изучение  и предобработка входных данных <a name=\"step_1\"></a>"
   ]
  },
  {
   "cell_type": "markdown",
   "metadata": {},
   "source": [
    "## 1.1. Изучение вдходных данных <a name=\"step_1_1\"></a>"
   ]
  },
  {
   "cell_type": "markdown",
   "metadata": {},
   "source": [
    "Импорт библиотек, необходимых для решения поставленной задачи."
   ]
  },
  {
   "cell_type": "code",
   "execution_count": 1,
   "metadata": {},
   "outputs": [],
   "source": [
    "import pandas as pd\n",
    "import numpy as np\n",
    "import seaborn as sns\n",
    "from scipy import stats as st\n",
    "from matplotlib import pyplot as plt"
   ]
  },
  {
   "cell_type": "code",
   "execution_count": 2,
   "metadata": {},
   "outputs": [],
   "source": [
    "from pandas.plotting import register_matplotlib_converters\n",
    "register_matplotlib_converters()"
   ]
  },
  {
   "cell_type": "markdown",
   "metadata": {},
   "source": [
    "Чтение файлов с входными данными."
   ]
  },
  {
   "cell_type": "code",
   "execution_count": 3,
   "metadata": {},
   "outputs": [],
   "source": [
    "visits = pd.read_csv('../project_datasets/visits_log.csv')\n",
    "orders = pd.read_csv('../project_datasets/orders_log.csv')\n",
    "costs = pd.read_csv('../project_datasets/costs.csv')"
   ]
  },
  {
   "cell_type": "markdown",
   "metadata": {},
   "source": [
    "Получим общую информацию о датафрейме `visits`."
   ]
  },
  {
   "cell_type": "code",
   "execution_count": 4,
   "metadata": {},
   "outputs": [
    {
     "name": "stdout",
     "output_type": "stream",
     "text": [
      "<class 'pandas.core.frame.DataFrame'>\n",
      "RangeIndex: 359400 entries, 0 to 359399\n",
      "Data columns (total 5 columns):\n",
      "Device       359400 non-null object\n",
      "End Ts       359400 non-null object\n",
      "Source Id    359400 non-null int64\n",
      "Start Ts     359400 non-null object\n",
      "Uid          359400 non-null uint64\n",
      "dtypes: int64(1), object(3), uint64(1)\n",
      "memory usage: 13.7+ MB\n"
     ]
    }
   ],
   "source": [
    "visits.info()"
   ]
  },
  {
   "cell_type": "code",
   "execution_count": 5,
   "metadata": {},
   "outputs": [
    {
     "data": {
      "text/html": [
       "<div>\n",
       "<style scoped>\n",
       "    .dataframe tbody tr th:only-of-type {\n",
       "        vertical-align: middle;\n",
       "    }\n",
       "\n",
       "    .dataframe tbody tr th {\n",
       "        vertical-align: top;\n",
       "    }\n",
       "\n",
       "    .dataframe thead th {\n",
       "        text-align: right;\n",
       "    }\n",
       "</style>\n",
       "<table border=\"1\" class=\"dataframe\">\n",
       "  <thead>\n",
       "    <tr style=\"text-align: right;\">\n",
       "      <th></th>\n",
       "      <th>Device</th>\n",
       "      <th>End Ts</th>\n",
       "      <th>Source Id</th>\n",
       "      <th>Start Ts</th>\n",
       "      <th>Uid</th>\n",
       "    </tr>\n",
       "  </thead>\n",
       "  <tbody>\n",
       "    <tr>\n",
       "      <td>0</td>\n",
       "      <td>touch</td>\n",
       "      <td>2017-12-20 17:38:00</td>\n",
       "      <td>4</td>\n",
       "      <td>2017-12-20 17:20:00</td>\n",
       "      <td>16879256277535980062</td>\n",
       "    </tr>\n",
       "    <tr>\n",
       "      <td>1</td>\n",
       "      <td>desktop</td>\n",
       "      <td>2018-02-19 17:21:00</td>\n",
       "      <td>2</td>\n",
       "      <td>2018-02-19 16:53:00</td>\n",
       "      <td>104060357244891740</td>\n",
       "    </tr>\n",
       "    <tr>\n",
       "      <td>2</td>\n",
       "      <td>touch</td>\n",
       "      <td>2017-07-01 01:54:00</td>\n",
       "      <td>5</td>\n",
       "      <td>2017-07-01 01:54:00</td>\n",
       "      <td>7459035603376831527</td>\n",
       "    </tr>\n",
       "    <tr>\n",
       "      <td>3</td>\n",
       "      <td>desktop</td>\n",
       "      <td>2018-05-20 11:23:00</td>\n",
       "      <td>9</td>\n",
       "      <td>2018-05-20 10:59:00</td>\n",
       "      <td>16174680259334210214</td>\n",
       "    </tr>\n",
       "    <tr>\n",
       "      <td>4</td>\n",
       "      <td>desktop</td>\n",
       "      <td>2017-12-27 14:06:00</td>\n",
       "      <td>3</td>\n",
       "      <td>2017-12-27 14:06:00</td>\n",
       "      <td>9969694820036681168</td>\n",
       "    </tr>\n",
       "  </tbody>\n",
       "</table>\n",
       "</div>"
      ],
      "text/plain": [
       "    Device               End Ts  Source Id             Start Ts  \\\n",
       "0    touch  2017-12-20 17:38:00          4  2017-12-20 17:20:00   \n",
       "1  desktop  2018-02-19 17:21:00          2  2018-02-19 16:53:00   \n",
       "2    touch  2017-07-01 01:54:00          5  2017-07-01 01:54:00   \n",
       "3  desktop  2018-05-20 11:23:00          9  2018-05-20 10:59:00   \n",
       "4  desktop  2017-12-27 14:06:00          3  2017-12-27 14:06:00   \n",
       "\n",
       "                    Uid  \n",
       "0  16879256277535980062  \n",
       "1    104060357244891740  \n",
       "2   7459035603376831527  \n",
       "3  16174680259334210214  \n",
       "4   9969694820036681168  "
      ]
     },
     "execution_count": 5,
     "metadata": {},
     "output_type": "execute_result"
    }
   ],
   "source": [
    "visits.head()"
   ]
  },
  {
   "cell_type": "markdown",
   "metadata": {},
   "source": [
    "Получим общую информацию о датафрейме `orders`."
   ]
  },
  {
   "cell_type": "code",
   "execution_count": 6,
   "metadata": {},
   "outputs": [
    {
     "name": "stdout",
     "output_type": "stream",
     "text": [
      "<class 'pandas.core.frame.DataFrame'>\n",
      "RangeIndex: 50415 entries, 0 to 50414\n",
      "Data columns (total 3 columns):\n",
      "Buy Ts     50415 non-null object\n",
      "Revenue    50415 non-null float64\n",
      "Uid        50415 non-null uint64\n",
      "dtypes: float64(1), object(1), uint64(1)\n",
      "memory usage: 1.2+ MB\n"
     ]
    }
   ],
   "source": [
    "orders.info()"
   ]
  },
  {
   "cell_type": "code",
   "execution_count": 7,
   "metadata": {},
   "outputs": [
    {
     "data": {
      "text/html": [
       "<div>\n",
       "<style scoped>\n",
       "    .dataframe tbody tr th:only-of-type {\n",
       "        vertical-align: middle;\n",
       "    }\n",
       "\n",
       "    .dataframe tbody tr th {\n",
       "        vertical-align: top;\n",
       "    }\n",
       "\n",
       "    .dataframe thead th {\n",
       "        text-align: right;\n",
       "    }\n",
       "</style>\n",
       "<table border=\"1\" class=\"dataframe\">\n",
       "  <thead>\n",
       "    <tr style=\"text-align: right;\">\n",
       "      <th></th>\n",
       "      <th>Buy Ts</th>\n",
       "      <th>Revenue</th>\n",
       "      <th>Uid</th>\n",
       "    </tr>\n",
       "  </thead>\n",
       "  <tbody>\n",
       "    <tr>\n",
       "      <td>0</td>\n",
       "      <td>2017-06-01 00:10:00</td>\n",
       "      <td>17.00</td>\n",
       "      <td>10329302124590727494</td>\n",
       "    </tr>\n",
       "    <tr>\n",
       "      <td>1</td>\n",
       "      <td>2017-06-01 00:25:00</td>\n",
       "      <td>0.55</td>\n",
       "      <td>11627257723692907447</td>\n",
       "    </tr>\n",
       "    <tr>\n",
       "      <td>2</td>\n",
       "      <td>2017-06-01 00:27:00</td>\n",
       "      <td>0.37</td>\n",
       "      <td>17903680561304213844</td>\n",
       "    </tr>\n",
       "    <tr>\n",
       "      <td>3</td>\n",
       "      <td>2017-06-01 00:29:00</td>\n",
       "      <td>0.55</td>\n",
       "      <td>16109239769442553005</td>\n",
       "    </tr>\n",
       "    <tr>\n",
       "      <td>4</td>\n",
       "      <td>2017-06-01 07:58:00</td>\n",
       "      <td>0.37</td>\n",
       "      <td>14200605875248379450</td>\n",
       "    </tr>\n",
       "  </tbody>\n",
       "</table>\n",
       "</div>"
      ],
      "text/plain": [
       "                Buy Ts  Revenue                   Uid\n",
       "0  2017-06-01 00:10:00    17.00  10329302124590727494\n",
       "1  2017-06-01 00:25:00     0.55  11627257723692907447\n",
       "2  2017-06-01 00:27:00     0.37  17903680561304213844\n",
       "3  2017-06-01 00:29:00     0.55  16109239769442553005\n",
       "4  2017-06-01 07:58:00     0.37  14200605875248379450"
      ]
     },
     "execution_count": 7,
     "metadata": {},
     "output_type": "execute_result"
    }
   ],
   "source": [
    "orders.head()"
   ]
  },
  {
   "cell_type": "markdown",
   "metadata": {},
   "source": [
    "Получим общую информацию о датафрейме `costs`."
   ]
  },
  {
   "cell_type": "code",
   "execution_count": 8,
   "metadata": {},
   "outputs": [
    {
     "name": "stdout",
     "output_type": "stream",
     "text": [
      "<class 'pandas.core.frame.DataFrame'>\n",
      "RangeIndex: 2542 entries, 0 to 2541\n",
      "Data columns (total 3 columns):\n",
      "source_id    2542 non-null int64\n",
      "dt           2542 non-null object\n",
      "costs        2542 non-null float64\n",
      "dtypes: float64(1), int64(1), object(1)\n",
      "memory usage: 59.7+ KB\n"
     ]
    }
   ],
   "source": [
    "costs.info()"
   ]
  },
  {
   "cell_type": "code",
   "execution_count": 9,
   "metadata": {},
   "outputs": [
    {
     "data": {
      "text/html": [
       "<div>\n",
       "<style scoped>\n",
       "    .dataframe tbody tr th:only-of-type {\n",
       "        vertical-align: middle;\n",
       "    }\n",
       "\n",
       "    .dataframe tbody tr th {\n",
       "        vertical-align: top;\n",
       "    }\n",
       "\n",
       "    .dataframe thead th {\n",
       "        text-align: right;\n",
       "    }\n",
       "</style>\n",
       "<table border=\"1\" class=\"dataframe\">\n",
       "  <thead>\n",
       "    <tr style=\"text-align: right;\">\n",
       "      <th></th>\n",
       "      <th>source_id</th>\n",
       "      <th>dt</th>\n",
       "      <th>costs</th>\n",
       "    </tr>\n",
       "  </thead>\n",
       "  <tbody>\n",
       "    <tr>\n",
       "      <td>0</td>\n",
       "      <td>1</td>\n",
       "      <td>2017-06-01</td>\n",
       "      <td>75.20</td>\n",
       "    </tr>\n",
       "    <tr>\n",
       "      <td>1</td>\n",
       "      <td>1</td>\n",
       "      <td>2017-06-02</td>\n",
       "      <td>62.25</td>\n",
       "    </tr>\n",
       "    <tr>\n",
       "      <td>2</td>\n",
       "      <td>1</td>\n",
       "      <td>2017-06-03</td>\n",
       "      <td>36.53</td>\n",
       "    </tr>\n",
       "    <tr>\n",
       "      <td>3</td>\n",
       "      <td>1</td>\n",
       "      <td>2017-06-04</td>\n",
       "      <td>55.00</td>\n",
       "    </tr>\n",
       "    <tr>\n",
       "      <td>4</td>\n",
       "      <td>1</td>\n",
       "      <td>2017-06-05</td>\n",
       "      <td>57.08</td>\n",
       "    </tr>\n",
       "  </tbody>\n",
       "</table>\n",
       "</div>"
      ],
      "text/plain": [
       "   source_id          dt  costs\n",
       "0          1  2017-06-01  75.20\n",
       "1          1  2017-06-02  62.25\n",
       "2          1  2017-06-03  36.53\n",
       "3          1  2017-06-04  55.00\n",
       "4          1  2017-06-05  57.08"
      ]
     },
     "execution_count": 9,
     "metadata": {},
     "output_type": "execute_result"
    }
   ],
   "source": [
    "costs.head()"
   ]
  },
  {
   "cell_type": "markdown",
   "metadata": {},
   "source": [
    "[**Вернуться к оглавлению...**](#content)"
   ]
  },
  {
   "cell_type": "markdown",
   "metadata": {},
   "source": [
    "## 1.2. Подготовка данных к анализу <a name=\"step_1_2\"></a>"
   ]
  },
  {
   "cell_type": "code",
   "execution_count": 10,
   "metadata": {},
   "outputs": [],
   "source": [
    "for data in [visits, orders, costs]:\n",
    "    data.columns = data.columns.str.replace(' ', '_').str.lower()"
   ]
  },
  {
   "cell_type": "code",
   "execution_count": 11,
   "metadata": {},
   "outputs": [],
   "source": [
    "costs = costs.rename(columns = {'dt': 'date'})\n",
    "orders = orders.rename(columns = {'buy_ts': 'order_date'})"
   ]
  },
  {
   "cell_type": "code",
   "execution_count": 12,
   "metadata": {},
   "outputs": [],
   "source": [
    "def to_datetime_format(series):\n",
    "    if series.name == 'date':\n",
    "        datetime_format = '%Y-%m-%d'\n",
    "    else:\n",
    "        datetime_format = '%Y-%m-%d %H:%M:%S'\n",
    "    series = pd.to_datetime(series, format = datetime_format)\n",
    "    return series"
   ]
  },
  {
   "cell_type": "code",
   "execution_count": 13,
   "metadata": {},
   "outputs": [],
   "source": [
    "costs['date'] = to_datetime_format(costs['date'])\n",
    "visits['end_ts'] = to_datetime_format(visits['end_ts'])\n",
    "visits['start_ts'] = to_datetime_format(visits['start_ts'])\n",
    "orders['order_date'] = to_datetime_format(visits['end_ts'])"
   ]
  },
  {
   "cell_type": "markdown",
   "metadata": {},
   "source": [
    "Изучим строки, в которых дата и время начала сессии больше, чем дата и время окончания сессии."
   ]
  },
  {
   "cell_type": "code",
   "execution_count": 14,
   "metadata": {},
   "outputs": [
    {
     "data": {
      "text/html": [
       "<div>\n",
       "<style scoped>\n",
       "    .dataframe tbody tr th:only-of-type {\n",
       "        vertical-align: middle;\n",
       "    }\n",
       "\n",
       "    .dataframe tbody tr th {\n",
       "        vertical-align: top;\n",
       "    }\n",
       "\n",
       "    .dataframe thead th {\n",
       "        text-align: right;\n",
       "    }\n",
       "</style>\n",
       "<table border=\"1\" class=\"dataframe\">\n",
       "  <thead>\n",
       "    <tr style=\"text-align: right;\">\n",
       "      <th></th>\n",
       "      <th>device</th>\n",
       "      <th>end_ts</th>\n",
       "      <th>source_id</th>\n",
       "      <th>start_ts</th>\n",
       "      <th>uid</th>\n",
       "    </tr>\n",
       "  </thead>\n",
       "  <tbody>\n",
       "    <tr>\n",
       "      <td>4181</td>\n",
       "      <td>desktop</td>\n",
       "      <td>2018-03-25 03:18:00</td>\n",
       "      <td>3</td>\n",
       "      <td>2018-03-25 03:50:00</td>\n",
       "      <td>13092152539246794986</td>\n",
       "    </tr>\n",
       "    <tr>\n",
       "      <td>177972</td>\n",
       "      <td>desktop</td>\n",
       "      <td>2018-03-25 03:09:00</td>\n",
       "      <td>9</td>\n",
       "      <td>2018-03-25 03:55:00</td>\n",
       "      <td>4621202742905035453</td>\n",
       "    </tr>\n",
       "  </tbody>\n",
       "</table>\n",
       "</div>"
      ],
      "text/plain": [
       "         device              end_ts  source_id            start_ts  \\\n",
       "4181    desktop 2018-03-25 03:18:00          3 2018-03-25 03:50:00   \n",
       "177972  desktop 2018-03-25 03:09:00          9 2018-03-25 03:55:00   \n",
       "\n",
       "                         uid  \n",
       "4181    13092152539246794986  \n",
       "177972   4621202742905035453  "
      ]
     },
     "execution_count": 14,
     "metadata": {},
     "output_type": "execute_result"
    }
   ],
   "source": [
    "visits[visits['start_ts'] > visits['end_ts']]"
   ]
  },
  {
   "cell_type": "markdown",
   "metadata": {},
   "source": [
    "Таких строк оказалось всего 2. Посмотрим, какой процент от общего числа данных они составляют."
   ]
  },
  {
   "cell_type": "code",
   "execution_count": 15,
   "metadata": {},
   "outputs": [
    {
     "name": "stdout",
     "output_type": "stream",
     "text": [
      "0.00056%\n"
     ]
    }
   ],
   "source": [
    "print('{:.5%}'.format(len(visits[visits['start_ts'] > visits['end_ts']]) / len(visits)))"
   ]
  },
  {
   "cell_type": "markdown",
   "metadata": {},
   "source": [
    "Процент найденных значений оказался равен меньше 0.01%, что позволяет нам просто избавиться от данной аномалии."
   ]
  },
  {
   "cell_type": "markdown",
   "metadata": {},
   "source": [
    "Далее посмотрим, присутствуют ли строки, в которых дата и время начала и окончания сессии полностью равны."
   ]
  },
  {
   "cell_type": "code",
   "execution_count": 16,
   "metadata": {},
   "outputs": [
    {
     "data": {
      "text/html": [
       "<div>\n",
       "<style scoped>\n",
       "    .dataframe tbody tr th:only-of-type {\n",
       "        vertical-align: middle;\n",
       "    }\n",
       "\n",
       "    .dataframe tbody tr th {\n",
       "        vertical-align: top;\n",
       "    }\n",
       "\n",
       "    .dataframe thead th {\n",
       "        text-align: right;\n",
       "    }\n",
       "</style>\n",
       "<table border=\"1\" class=\"dataframe\">\n",
       "  <thead>\n",
       "    <tr style=\"text-align: right;\">\n",
       "      <th></th>\n",
       "      <th>device</th>\n",
       "      <th>end_ts</th>\n",
       "      <th>source_id</th>\n",
       "      <th>start_ts</th>\n",
       "      <th>uid</th>\n",
       "    </tr>\n",
       "  </thead>\n",
       "  <tbody>\n",
       "    <tr>\n",
       "      <td>2</td>\n",
       "      <td>touch</td>\n",
       "      <td>2017-07-01 01:54:00</td>\n",
       "      <td>5</td>\n",
       "      <td>2017-07-01 01:54:00</td>\n",
       "      <td>7459035603376831527</td>\n",
       "    </tr>\n",
       "    <tr>\n",
       "      <td>4</td>\n",
       "      <td>desktop</td>\n",
       "      <td>2017-12-27 14:06:00</td>\n",
       "      <td>3</td>\n",
       "      <td>2017-12-27 14:06:00</td>\n",
       "      <td>9969694820036681168</td>\n",
       "    </tr>\n",
       "    <tr>\n",
       "      <td>28</td>\n",
       "      <td>desktop</td>\n",
       "      <td>2017-11-09 15:53:00</td>\n",
       "      <td>4</td>\n",
       "      <td>2017-11-09 15:53:00</td>\n",
       "      <td>17892541477379911957</td>\n",
       "    </tr>\n",
       "    <tr>\n",
       "      <td>32</td>\n",
       "      <td>desktop</td>\n",
       "      <td>2017-11-30 12:29:00</td>\n",
       "      <td>4</td>\n",
       "      <td>2017-11-30 12:29:00</td>\n",
       "      <td>13410401624913285510</td>\n",
       "    </tr>\n",
       "    <tr>\n",
       "      <td>54</td>\n",
       "      <td>desktop</td>\n",
       "      <td>2018-02-23 16:52:00</td>\n",
       "      <td>10</td>\n",
       "      <td>2018-02-23 16:52:00</td>\n",
       "      <td>13423278602430425332</td>\n",
       "    </tr>\n",
       "  </tbody>\n",
       "</table>\n",
       "</div>"
      ],
      "text/plain": [
       "     device              end_ts  source_id            start_ts  \\\n",
       "2     touch 2017-07-01 01:54:00          5 2017-07-01 01:54:00   \n",
       "4   desktop 2017-12-27 14:06:00          3 2017-12-27 14:06:00   \n",
       "28  desktop 2017-11-09 15:53:00          4 2017-11-09 15:53:00   \n",
       "32  desktop 2017-11-30 12:29:00          4 2017-11-30 12:29:00   \n",
       "54  desktop 2018-02-23 16:52:00         10 2018-02-23 16:52:00   \n",
       "\n",
       "                     uid  \n",
       "2    7459035603376831527  \n",
       "4    9969694820036681168  \n",
       "28  17892541477379911957  \n",
       "32  13410401624913285510  \n",
       "54  13423278602430425332  "
      ]
     },
     "execution_count": 16,
     "metadata": {},
     "output_type": "execute_result"
    }
   ],
   "source": [
    "visits[visits['start_ts'] == visits['end_ts']].head()"
   ]
  },
  {
   "cell_type": "code",
   "execution_count": 17,
   "metadata": {},
   "outputs": [
    {
     "name": "stdout",
     "output_type": "stream",
     "text": [
      "9.95938%\n"
     ]
    }
   ],
   "source": [
    "print('{:.5%}'.format(len(visits[visits['start_ts'] == visits['end_ts']]) / len(visits)))"
   ]
  },
  {
   "cell_type": "markdown",
   "metadata": {},
   "source": [
    "Процент строк с полным совпадением даты и времени равен почти 10%. Эти данные могут говорить нам о том, что у пользователя не получилось воспользоваться сервисом, но попытка входа была зарегистрирована. Это может быть связано, к примеру, с тем, что у пользователя в момент входа пропало интернет-соединение. Мы сохраним эти данные, но нем будем учитывать их при расчётах продолжительность пользовательской сессии."
   ]
  },
  {
   "cell_type": "markdown",
   "metadata": {},
   "source": [
    "Перезапишем данные датафрейма `visits`."
   ]
  },
  {
   "cell_type": "code",
   "execution_count": 18,
   "metadata": {},
   "outputs": [],
   "source": [
    "visits = visits[visits['start_ts'] <= visits['end_ts']].copy()"
   ]
  },
  {
   "cell_type": "markdown",
   "metadata": {},
   "source": [
    "Изучим значения параметра `revenue` датафрейма `orders`."
   ]
  },
  {
   "cell_type": "code",
   "execution_count": 19,
   "metadata": {},
   "outputs": [
    {
     "data": {
      "text/plain": [
       "count    50415.000000\n",
       "mean         4.999647\n",
       "std         21.818359\n",
       "min          0.000000\n",
       "25%          1.220000\n",
       "50%          2.500000\n",
       "75%          4.890000\n",
       "max       2633.280000\n",
       "Name: revenue, dtype: float64"
      ]
     },
     "execution_count": 19,
     "metadata": {},
     "output_type": "execute_result"
    }
   ],
   "source": [
    "orders['revenue'].describe()"
   ]
  },
  {
   "cell_type": "markdown",
   "metadata": {},
   "source": [
    "Результат работы метода `describe()` показал, что в параметре присутствуют нулевые значения. Значения с нулевой выручкой могут говорить нам, как минимум, о двух возможных вариантах образования этих данных. \n",
    "\n",
    "По-моему мнению, это могут быть либо какие-то акционные заказы или заказы с применением промокода, не принесшие выручку, либо это баг. При расчёте необходимых метрик эти данные могу исказить результаты, поэтому их необходимо удалить.\n",
    "\n",
    "Посчитаем какой процент составляют данные с нулевой выручкой."
   ]
  },
  {
   "cell_type": "code",
   "execution_count": 20,
   "metadata": {},
   "outputs": [
    {
     "name": "stdout",
     "output_type": "stream",
     "text": [
      "0.10%\n"
     ]
    }
   ],
   "source": [
    "print('{:.2%}'.format(len(orders[orders['revenue'] == 0]) / len(orders)))"
   ]
  },
  {
   "cell_type": "markdown",
   "metadata": {},
   "source": [
    "Данные, от которых мы хотели избавяться составляют 0.1%. Перезапишем датафрейм `orders`, в который будут включены только те, покупки в которых выручка сервиса больше 0."
   ]
  },
  {
   "cell_type": "code",
   "execution_count": 21,
   "metadata": {},
   "outputs": [],
   "source": [
    "orders = orders[orders['revenue'] > 0].copy()"
   ]
  },
  {
   "cell_type": "markdown",
   "metadata": {},
   "source": [
    "[**Вернуться к оглавлению...**](#content)"
   ]
  },
  {
   "cell_type": "markdown",
   "metadata": {},
   "source": [
    "## Шаг 1. Вывод <a name=\"step_1_end\"></a>"
   ]
  },
  {
   "cell_type": "markdown",
   "metadata": {},
   "source": [
    "**1.1. Изучение входных данных:**\n",
    "\n",
    "* Датасеты `visits.csv`, `orders.csv`, `costs.csv` были прочитаны при помощи метода `read_csv()`.\n",
    "\n",
    "\n",
    "* Пропущенные значения, в исследуемых датафреймах `visits`, `orders`, `costs`, не были обнаружены.\n",
    "\n",
    "\n",
    "\n",
    "* Типы данных во всех датафреймах были проверены на соответствие. В результате проверки было обнаружено, что некоторые параметры, хранящие в себе информацию о датах имели тип данных `object`. \n",
    "\n",
    "\n",
    "\n",
    "* В наименованиях некоторых параметров были обнаружены пробелы.\n",
    "\n",
    "**1.2. Подготовка данных к анализу:**\n",
    "\n",
    "В ходе предобробатки в данных были проивзедены следующие изменения:\n",
    "\n",
    "* Пробелы в наименованиях параметров были заменены на нижнее подчёркивание `_`.\n",
    "\n",
    "\n",
    "* Наименования параметров были приведены к нижнему регистру.\n",
    "\n",
    "\n",
    "* Наименование параметра `dt` датафрейма `costs` было изменено на `date`.\n",
    "\n",
    "\n",
    "\n",
    "* Параметры `ens_ts` и `start_ts` датафрейма `visits`, параметр `buy_ts` датафрейма `orders` и параметр `date` датафрейма `costs` были приведены к типу данных `datetime64`.\n",
    "\n",
    "\n",
    "* В датафрейме `visits` были удалены аномалии, где время дата и время начала сесии были больше даты и времени её окончания.\n",
    "\n",
    "\n",
    "* Из датафрейма `orders` были удалены строки в которых значения параметра `revenue` были равны нулю."
   ]
  },
  {
   "cell_type": "markdown",
   "metadata": {},
   "source": [
    "[**Вернуться к оглавлению...**](#content)"
   ]
  },
  {
   "cell_type": "markdown",
   "metadata": {},
   "source": [
    "# Шаг 2. Продукт. Расчёт метрик <a name=\"step_2\"></a>"
   ]
  },
  {
   "cell_type": "markdown",
   "metadata": {},
   "source": [
    "## 2.1. Оценка пользовательской активности (dau, wau, mau) <a name=\"step_2_1\"></a>"
   ]
  },
  {
   "cell_type": "markdown",
   "metadata": {},
   "source": [
    "Для того чтобы ответить на вопрос, **какое количество людей пользуются сервисом в день/неделю/месяц** необходимо произвести расчёт **vanity metrics** (англ. *«метрики тщеславия»*). В их число входят такие метрики как:\n",
    "\n",
    "* **DAU** (от англ. *daily active users*) — количество уникальных пользователей в день;\n",
    "\n",
    "\n",
    "* **WAU** (от англ. *weekly active users*) — количество уникальных пользователей в неделю;\n",
    "\n",
    "\n",
    "* **MAU** (от англ. *monthly active users*) — количество уникальных пользователей в месяц."
   ]
  },
  {
   "cell_type": "markdown",
   "metadata": {},
   "source": [
    "При расчётах необходимо учитывать именнно уникальных пользователей. Их количество будет показателем того, что продуктом интересуются не только те, кто с ним уже знаком."
   ]
  },
  {
   "cell_type": "markdown",
   "metadata": {},
   "source": [
    "Для расчёта вышеупомянутых метрик, выделим в отдельные столбцы год, месяц, неделю, а также полную дату."
   ]
  },
  {
   "cell_type": "code",
   "execution_count": 22,
   "metadata": {},
   "outputs": [],
   "source": [
    "visits['session_year'] = visits['start_ts'].dt.year\n",
    "visits['session_month'] = visits['start_ts'].astype('datetime64[M]')\n",
    "visits['session_week'] = visits['start_ts'].dt.week\n",
    "visits['session_date'] = visits['start_ts'].dt.date"
   ]
  },
  {
   "cell_type": "markdown",
   "metadata": {},
   "source": [
    "Посмотрим, какие категории устройств присутствуют в датафрейме `visits`."
   ]
  },
  {
   "cell_type": "code",
   "execution_count": 23,
   "metadata": {},
   "outputs": [
    {
     "data": {
      "text/plain": [
       "array(['touch', 'desktop'], dtype=object)"
      ]
     },
     "execution_count": 23,
     "metadata": {},
     "output_type": "execute_result"
    }
   ],
   "source": [
    "visits['device'].unique()"
   ]
  },
  {
   "cell_type": "markdown",
   "metadata": {},
   "source": [
    "Создадим функцию, которая будет группировать датафрейм, принимаемый на вход по заданному, в качестве второго аргумента функции, параметру."
   ]
  },
  {
   "cell_type": "code",
   "execution_count": 24,
   "metadata": {},
   "outputs": [],
   "source": [
    "def generate_pivot(data, metric_type):\n",
    "    return (data\n",
    "            .groupby(['session_year', ('session_' + str(metric_type))])\n",
    "            .agg({'uid': 'nunique'})\n",
    "            .reset_index()\n",
    "            .rename(columns = {'uid': 'amount_unique_user'}))"
   ]
  },
  {
   "cell_type": "markdown",
   "metadata": {},
   "source": [
    "Сгруппируем данные по дню, неделе и месяцу использования, расчитав при этом количество уникальных пользователей для каждой категории устройств."
   ]
  },
  {
   "cell_type": "markdown",
   "metadata": {},
   "source": [
    "Расчёт метрики **dau** общей и для каждой категории устройств."
   ]
  },
  {
   "cell_type": "code",
   "execution_count": 25,
   "metadata": {},
   "outputs": [],
   "source": [
    "dau_total = generate_pivot(visits, 'date')\n",
    "dau_touch = generate_pivot(\n",
    "    visits[visits['device'] == 'touch'], 'date')\n",
    "dau_desktop = generate_pivot(\n",
    "    visits[visits['device'] == 'desktop'], 'date')"
   ]
  },
  {
   "cell_type": "markdown",
   "metadata": {},
   "source": [
    "Расчёт метрики **wau** общей и для каждой категории устройств."
   ]
  },
  {
   "cell_type": "code",
   "execution_count": 26,
   "metadata": {},
   "outputs": [],
   "source": [
    "wau_total = generate_pivot(visits, 'week')\n",
    "wau_touch = generate_pivot(\n",
    "    visits[visits['device'] == 'touch'], 'week')\n",
    "wau_desktop = generate_pivot(\n",
    "    visits[visits['device'] == 'desktop'], 'week')"
   ]
  },
  {
   "cell_type": "markdown",
   "metadata": {},
   "source": [
    "Создадим функцию `year_of_week`, которая будет для каждой недели в параметре `session_week` добавлять маркер года."
   ]
  },
  {
   "cell_type": "code",
   "execution_count": 27,
   "metadata": {},
   "outputs": [],
   "source": [
    "def year_of_week(data):\n",
    "    if data['session_year'] == 2017:\n",
    "        return data['session_week'].astype('str') + ' (2017)'\n",
    "    elif data['session_year'] == 2018:\n",
    "        return data['session_week'].astype('str') + ' (2018)'"
   ]
  },
  {
   "cell_type": "markdown",
   "metadata": {},
   "source": [
    "Применим функцию `year_of_week` ко всем датафрейма с расчётом метрики **wau**."
   ]
  },
  {
   "cell_type": "code",
   "execution_count": 28,
   "metadata": {},
   "outputs": [],
   "source": [
    "wau_total['session_week'] = wau_total.apply(year_of_week, axis = 1)\n",
    "wau_touch['session_week'] = wau_touch.apply(year_of_week, axis = 1)\n",
    "wau_desktop['session_week'] = wau_desktop.apply(year_of_week, axis = 1)"
   ]
  },
  {
   "cell_type": "markdown",
   "metadata": {},
   "source": [
    "Расчёт метрики **mau** общей и для каждой категории устройств."
   ]
  },
  {
   "cell_type": "code",
   "execution_count": 29,
   "metadata": {},
   "outputs": [],
   "source": [
    "mau_total = generate_pivot(visits, 'month')\n",
    "mau_touch = generate_pivot(visits[visits['device'] == 'touch'], 'month')\n",
    "mau_desktop = generate_pivot(visits[visits['device'] == 'desktop'], 'month')"
   ]
  },
  {
   "cell_type": "markdown",
   "metadata": {},
   "source": [
    "Для каждого датафрейма с расчётом **mau** переведём параметр `session_month` к типу данных `str`."
   ]
  },
  {
   "cell_type": "code",
   "execution_count": 30,
   "metadata": {},
   "outputs": [],
   "source": [
    "mau_total['session_month'] = mau_total['session_month'].dt.to_period('M').astype('str')\n",
    "mau_touch['session_month'] = mau_touch['session_month'].dt.to_period('M').astype('str')\n",
    "mau_desktop['session_month'] = mau_desktop['session_month'].dt.to_period('M').astype('str')"
   ]
  },
  {
   "cell_type": "code",
   "execution_count": 31,
   "metadata": {},
   "outputs": [
    {
     "data": {
      "image/png": "[encoded data removed]",
      "text/plain": [
       "<Figure size 1440x432 with 1 Axes>"
      ]
     },
     "metadata": {
      "needs_background": "light"
     },
     "output_type": "display_data"
    },
    {
     "data": {
      "image/png": "[encoded data removed]",
      "text/plain": [
       "<Figure size 1440x432 with 1 Axes>"
      ]
     },
     "metadata": {
      "needs_background": "light"
     },
     "output_type": "display_data"
    },
    {
     "data": {
      "image/png": "[encoded data removed]",
      "text/plain": [
       "<Figure size 1440x432 with 1 Axes>"
      ]
     },
     "metadata": {
      "needs_background": "light"
     },
     "output_type": "display_data"
    }
   ],
   "source": [
    "plt.figure(figsize = (20, 6))\n",
    "plt.grid()\n",
    "ax = plt.plot(mau_total['session_month'], mau_total['amount_unique_user'], color = 'red')\n",
    "ax1 = plt.plot(mau_touch['session_month'], mau_touch['amount_unique_user'], color = 'green')\n",
    "plt.plot(mau_desktop['session_month'], mau_desktop['amount_unique_user'], color = 'blue')\n",
    "plt.title('Количество уникальных пользователей в месяц (MAU)')\n",
    "plt.legend(['total', 'touch', 'desktop'])\n",
    "plt.xlabel('session_month')\n",
    "plt.ylabel('amount_unique_user')\n",
    "plt.xticks(rotation = 0)\n",
    "plt.show()\n",
    "\n",
    "plt.figure(figsize = (20, 6))\n",
    "plt.grid()\n",
    "ax = plt.plot(wau_total['session_week'], wau_total['amount_unique_user'], color = 'red')\n",
    "ax1 = plt.plot(wau_touch['session_week'], wau_touch['amount_unique_user'], color = 'green')\n",
    "plt.plot(wau_desktop['session_week'], wau_desktop['amount_unique_user'], color = 'blue')\n",
    "plt.title('Количество уникальных пользователей в неделю (WAU)')\n",
    "plt.legend(['total', 'touch', 'desktop'])\n",
    "plt.xlabel('session_week')\n",
    "plt.ylabel('amount_unique_user')\n",
    "plt.xticks(rotation = 315)\n",
    "plt.show()\n",
    "\n",
    "plt.figure(figsize = (20, 6))\n",
    "plt.grid()\n",
    "ax = plt.plot(dau_total['session_date'], dau_total['amount_unique_user'], color = 'red')\n",
    "ax1 = plt.plot(dau_touch['session_date'], dau_touch['amount_unique_user'], color = 'green')\n",
    "plt.plot(dau_desktop['session_date'], dau_desktop['amount_unique_user'], color = 'blue')\n",
    "plt.title('Количество уникальных пользователей в день (DAU)')\n",
    "plt.legend(['total', 'touch', 'desktop'])\n",
    "plt.xlabel('session_month')\n",
    "plt.ylabel('amount_unique_user')\n",
    "plt.xticks(mau_total['session_month'].values, rotation = 0)\n",
    "plt.show()"
   ]
  },
  {
   "cell_type": "markdown",
   "metadata": {},
   "source": [
    "Исходя из увиденного на графике, можно сделать вывод, что в среднем пользователи, использующие для входа категорию устройств `desktop` заходят на сайт в большем количестчем, чем те пользователи, которые используют для входа категорию устройств `touch`."
   ]
  },
  {
   "cell_type": "markdown",
   "metadata": {},
   "source": [
    "На графике **dau** наблюдаются два аномальных значения. Посмотрим, в какой точно день произошёл такой резкий наплыв пользователей."
   ]
  },
  {
   "cell_type": "code",
   "execution_count": 32,
   "metadata": {},
   "outputs": [
    {
     "data": {
      "text/html": [
       "<div>\n",
       "<style scoped>\n",
       "    .dataframe tbody tr th:only-of-type {\n",
       "        vertical-align: middle;\n",
       "    }\n",
       "\n",
       "    .dataframe tbody tr th {\n",
       "        vertical-align: top;\n",
       "    }\n",
       "\n",
       "    .dataframe thead th {\n",
       "        text-align: right;\n",
       "    }\n",
       "</style>\n",
       "<table border=\"1\" class=\"dataframe\">\n",
       "  <thead>\n",
       "    <tr style=\"text-align: right;\">\n",
       "      <th></th>\n",
       "      <th>session_year</th>\n",
       "      <th>session_date</th>\n",
       "      <th>amount_unique_user</th>\n",
       "    </tr>\n",
       "  </thead>\n",
       "  <tbody>\n",
       "    <tr>\n",
       "      <td>176</td>\n",
       "      <td>2017</td>\n",
       "      <td>2017-11-24</td>\n",
       "      <td>3319</td>\n",
       "    </tr>\n",
       "    <tr>\n",
       "      <td>363</td>\n",
       "      <td>2018</td>\n",
       "      <td>2018-05-31</td>\n",
       "      <td>1997</td>\n",
       "    </tr>\n",
       "  </tbody>\n",
       "</table>\n",
       "</div>"
      ],
      "text/plain": [
       "     session_year session_date  amount_unique_user\n",
       "176          2017   2017-11-24                3319\n",
       "363          2018   2018-05-31                1997"
      ]
     },
     "execution_count": 32,
     "metadata": {},
     "output_type": "execute_result"
    }
   ],
   "source": [
    "dau_total[dau_total['amount_unique_user'] > 1900]"
   ]
  },
  {
   "cell_type": "markdown",
   "metadata": {},
   "source": [
    "Итак, два всплеска приходятся на 24 ноября 2017 и 31 мая 2018. Возможно, в этот на сервисе проводилась акция или розыгрыш билетов."
   ]
  },
  {
   "cell_type": "markdown",
   "metadata": {},
   "source": [
    "**Расчёт средних значений метрик.**\n",
    "\n",
    "Посчитаем метрики, путём нахождения среднего количества пользователей."
   ]
  },
  {
   "cell_type": "code",
   "execution_count": 33,
   "metadata": {},
   "outputs": [],
   "source": [
    "dau_mean = int(dau_total['amount_unique_user'].mean())\n",
    "wau_mean = int(wau_total['amount_unique_user'].mean())\n",
    "mau_mean = int(mau_total['amount_unique_user'].mean())"
   ]
  },
  {
   "cell_type": "markdown",
   "metadata": {},
   "source": [
    "Выведем на экран значения, которым равны искомые метрики."
   ]
  },
  {
   "cell_type": "code",
   "execution_count": 34,
   "metadata": {},
   "outputs": [
    {
     "name": "stdout",
     "output_type": "stream",
     "text": [
      "\n",
      "dau: 907\n",
      "wau: 5716\n",
      "mau: 23228\n",
      "\n"
     ]
    }
   ],
   "source": [
    "print('''\n",
    "dau: {}\n",
    "wau: {}\n",
    "mau: {}\n",
    "'''.format(dau_mean, wau_mean, mau_mean))"
   ]
  },
  {
   "cell_type": "markdown",
   "metadata": {},
   "source": [
    "Ещё одна метрика - **sticky factor** (англ. *«липкий фактор»*). Расчёт этой метрики производят для определения регулярности использования сервиса."
   ]
  },
  {
   "cell_type": "code",
   "execution_count": 35,
   "metadata": {},
   "outputs": [],
   "source": [
    "sticky_wau = (dau_mean / wau_mean) * 100\n",
    "sticky_mau = (dau_mean / mau_mean) * 100"
   ]
  },
  {
   "cell_type": "code",
   "execution_count": 36,
   "metadata": {},
   "outputs": [
    {
     "name": "stdout",
     "output_type": "stream",
     "text": [
      "\n",
      "sticky_wau: 15.87\n",
      "sticky_mau: 3.90\n",
      "\n"
     ]
    }
   ],
   "source": [
    "print('''\n",
    "sticky_wau: {:.2f}\n",
    "sticky_mau: {:.2f}\n",
    "'''.format(sticky_wau, sticky_mau))"
   ]
  },
  {
   "cell_type": "markdown",
   "metadata": {},
   "source": [
    "[**Вернуться к оглавлению...**](#content)"
   ]
  },
  {
   "cell_type": "markdown",
   "metadata": {},
   "source": [
    "## 2.2. Пользовательская сессия. Продолжительность сессии <a name=\"step_2_3\"></a>"
   ]
  },
  {
   "cell_type": "markdown",
   "metadata": {},
   "source": [
    "Далее определим среднюю продолжительность пользовательской сессии. Эта метрика называется **ASL** (англ. *average session length*)."
   ]
  },
  {
   "cell_type": "markdown",
   "metadata": {},
   "source": [
    "Посчитаем продолжительность сессиий для каждого визита."
   ]
  },
  {
   "cell_type": "code",
   "execution_count": 37,
   "metadata": {},
   "outputs": [],
   "source": [
    "visits['duration'] = (visits['end_ts'] - visits['start_ts']).dt.seconds"
   ]
  },
  {
   "cell_type": "markdown",
   "metadata": {},
   "source": [
    "В датафрейме `visits_with_duration` выделим сессии с ненулевой длительность."
   ]
  },
  {
   "cell_type": "code",
   "execution_count": 38,
   "metadata": {},
   "outputs": [],
   "source": [
    "visits_with_duration = visits[visits['duration'] > 0].copy()"
   ]
  },
  {
   "cell_type": "markdown",
   "metadata": {},
   "source": [
    "Мы знаем, что существуют две категории устройств, с помощью которых пользователи посещают сайт. Выделим эти две категории в отдельные датафреймы."
   ]
  },
  {
   "cell_type": "code",
   "execution_count": 39,
   "metadata": {},
   "outputs": [],
   "source": [
    "visits_touch = visits_with_duration[\n",
    "    visits_with_duration['device'] == 'touch'].copy()\n",
    "visits_desktop = visits_with_duration[\n",
    "    visits_with_duration['device'] == 'desktop'].copy()"
   ]
  },
  {
   "cell_type": "markdown",
   "metadata": {},
   "source": [
    "Для того чтобы правильно определить меру центральной тенденции для продолжительности пользовательской сессии, взглянем на её распределение."
   ]
  },
  {
   "cell_type": "code",
   "execution_count": 40,
   "metadata": {},
   "outputs": [
    {
     "data": {
      "image/png": "[encoded data removed]",
      "text/plain": [
       "<Figure size 720x360 with 1 Axes>"
      ]
     },
     "metadata": {
      "needs_background": "light"
     },
     "output_type": "display_data"
    }
   ],
   "source": [
    "plt.figure(figsize = (10, 5))\n",
    "plt.grid()\n",
    "ax = plt.hist(visits_with_duration['duration'],\n",
    "              color = 'red', bins = 50, range = (0, 5000), alpha = 0.75)\n",
    "ax1 = plt.hist(visits_desktop['duration'],\n",
    "               color = 'blue', bins = 50, range = (0, 5000), alpha = 0.85)\n",
    "plt.hist(visits_touch['duration'],\n",
    "         color = 'green', bins = 50, range = (0, 5000))\n",
    "plt.title('Продолжительность пользовательской сессии')\n",
    "plt.legend(['total', 'desktop', 'touch'])\n",
    "plt.xlabel('Продолжительность сессии (с)')\n",
    "plt.ylabel('Частота')\n",
    "plt.show()"
   ]
  },
  {
   "cell_type": "markdown",
   "metadata": {},
   "source": [
    "Данное распредедение далеко от нормального, поэтому в качестве меры центральной тенденции лучше использовать значение, которое в данной выборке встречается чаще всего."
   ]
  },
  {
   "cell_type": "code",
   "execution_count": 41,
   "metadata": {},
   "outputs": [],
   "source": [
    "asl_total = int(visits_with_duration['duration'].mode())\n",
    "asl_touch = int(visits_touch['duration'].mode())\n",
    "asl_desktop = int(visits_desktop['duration'].mode())"
   ]
  },
  {
   "cell_type": "code",
   "execution_count": 42,
   "metadata": {},
   "outputs": [
    {
     "name": "stdout",
     "output_type": "stream",
     "text": [
      "\n",
      "Средняя продолжительность сессии total: 60 (c)\n",
      "Средняя продолжительность сессии touch: 60 (c)\n",
      "Средняя продолжительность сессии desktop: 60 (c)\n",
      "\n"
     ]
    }
   ],
   "source": [
    "print('''\n",
    "Средняя продолжительность сессии total: {} (c)\n",
    "Средняя продолжительность сессии touch: {} (c)\n",
    "Средняя продолжительность сессии desktop: {} (c)\n",
    "'''.format(asl_total, asl_touch, asl_desktop))"
   ]
  },
  {
   "cell_type": "markdown",
   "metadata": {},
   "source": [
    "Мы видим, что при сравнении моды продолжительности для двух типов устройств получается одинаковый результат. В таком случае необходимо проверить, существует ли статистическое различие между средними двух генеральных совокупностей."
   ]
  },
  {
   "cell_type": "markdown",
   "metadata": {},
   "source": [
    "Проверим, существует ли статистически значимое различие между средним временем посещений при использовании пользователями двух различных категорий устройств."
   ]
  },
  {
   "cell_type": "markdown",
   "metadata": {},
   "source": [
    "<b>Формулировка нулевой гипотезы H<sub>0</sub>:</b> Средние продолжительности пользовательских сессий для категорий устройств `desktop` и `touch` **равны**.\n",
    "\n",
    "<b>Формулировка альтернативной гипотезы H<sub>1</sub>:</b> Средние продолжительности пользовательских сессий для категорий устройств `desktop` и `touch` **не равны**."
   ]
  },
  {
   "cell_type": "code",
   "execution_count": 43,
   "metadata": {},
   "outputs": [],
   "source": [
    "visits_touch_duration = visits_touch['duration']\n",
    "visits_desktop_duration = visits_desktop['duration']"
   ]
  },
  {
   "cell_type": "code",
   "execution_count": 44,
   "metadata": {},
   "outputs": [
    {
     "name": "stdout",
     "output_type": "stream",
     "text": [
      "Отвергаем нулевую гипотезу!\n"
     ]
    }
   ],
   "source": [
    "alpha = 0.05\n",
    "results = st.ttest_ind(visits_touch_duration,\n",
    "                       visits_desktop_duration, equal_var = False)\n",
    "\n",
    "if (results.pvalue < alpha):\n",
    "    print(\"Отвергаем нулевую гипотезу!\")\n",
    "else:\n",
    "    print(\"Не получилось отвергнуть нулевую гипотезу!\")"
   ]
  },
  {
   "cell_type": "markdown",
   "metadata": {},
   "source": [
    "Нулевая гипотеза отвергнута, следовательно, средние продолжительности сессий на разных категориях устройств, **не равны**."
   ]
  },
  {
   "cell_type": "markdown",
   "metadata": {},
   "source": [
    "[**Вернуться к оглавлению...**](#content)"
   ]
  },
  {
   "cell_type": "markdown",
   "metadata": {},
   "source": [
    "## 2.3. Пользовательская сессия. Количество сессий в день <a name=\"step_2_2\"></a>"
   ]
  },
  {
   "cell_type": "markdown",
   "metadata": {},
   "source": [
    "Определим, насколько регулярно пользователи используют приложение. Для этого необходимо разделить количество сессий на количество пользователей, к примеру, за день."
   ]
  },
  {
   "cell_type": "markdown",
   "metadata": {},
   "source": [
    "Для начала построим сводную таблицу `sessions_per_user`, где для каждого месяца каждого года найдём количество сессий и количество уникальных пользователей."
   ]
  },
  {
   "cell_type": "code",
   "execution_count": 45,
   "metadata": {},
   "outputs": [],
   "source": [
    "sessions_per_user = (\n",
    "    visits\n",
    "    .groupby(['session_year', 'session_month'])\n",
    "    .agg({'uid': ['count','nunique']}))"
   ]
  },
  {
   "cell_type": "markdown",
   "metadata": {},
   "source": [
    "Переименуем параметры таблицы `sessions_per_user`."
   ]
  },
  {
   "cell_type": "code",
   "execution_count": 46,
   "metadata": {},
   "outputs": [],
   "source": [
    "sessions_per_user.columns = ['n_sessions', 'n_users']"
   ]
  },
  {
   "cell_type": "markdown",
   "metadata": {},
   "source": [
    "Определим, сколько сессий приходится на одного пользователя в месяц."
   ]
  },
  {
   "cell_type": "code",
   "execution_count": 47,
   "metadata": {},
   "outputs": [],
   "source": [
    "sessions_per_user['sessions_per_user'] = \\\n",
    "sessions_per_user['n_sessions'] / sessions_per_user['n_users']"
   ]
  },
  {
   "cell_type": "code",
   "execution_count": 48,
   "metadata": {},
   "outputs": [],
   "source": [
    "sessions_per_user = sessions_per_user.reset_index()"
   ]
  },
  {
   "cell_type": "markdown",
   "metadata": {},
   "source": [
    "Выведем таблицу `sessions_per_user` на экран."
   ]
  },
  {
   "cell_type": "code",
   "execution_count": 49,
   "metadata": {},
   "outputs": [
    {
     "data": {
      "text/html": [
       "<div>\n",
       "<style scoped>\n",
       "    .dataframe tbody tr th:only-of-type {\n",
       "        vertical-align: middle;\n",
       "    }\n",
       "\n",
       "    .dataframe tbody tr th {\n",
       "        vertical-align: top;\n",
       "    }\n",
       "\n",
       "    .dataframe thead th {\n",
       "        text-align: right;\n",
       "    }\n",
       "</style>\n",
       "<table border=\"1\" class=\"dataframe\">\n",
       "  <thead>\n",
       "    <tr style=\"text-align: right;\">\n",
       "      <th></th>\n",
       "      <th>session_year</th>\n",
       "      <th>session_month</th>\n",
       "      <th>n_sessions</th>\n",
       "      <th>n_users</th>\n",
       "      <th>sessions_per_user</th>\n",
       "    </tr>\n",
       "  </thead>\n",
       "  <tbody>\n",
       "    <tr>\n",
       "      <td>0</td>\n",
       "      <td>2017</td>\n",
       "      <td>2017-06-01</td>\n",
       "      <td>16505</td>\n",
       "      <td>13259</td>\n",
       "      <td>1.244815</td>\n",
       "    </tr>\n",
       "    <tr>\n",
       "      <td>1</td>\n",
       "      <td>2017</td>\n",
       "      <td>2017-07-01</td>\n",
       "      <td>17828</td>\n",
       "      <td>14183</td>\n",
       "      <td>1.256998</td>\n",
       "    </tr>\n",
       "    <tr>\n",
       "      <td>2</td>\n",
       "      <td>2017</td>\n",
       "      <td>2017-08-01</td>\n",
       "      <td>14355</td>\n",
       "      <td>11631</td>\n",
       "      <td>1.234202</td>\n",
       "    </tr>\n",
       "    <tr>\n",
       "      <td>3</td>\n",
       "      <td>2017</td>\n",
       "      <td>2017-09-01</td>\n",
       "      <td>23907</td>\n",
       "      <td>18975</td>\n",
       "      <td>1.259921</td>\n",
       "    </tr>\n",
       "    <tr>\n",
       "      <td>4</td>\n",
       "      <td>2017</td>\n",
       "      <td>2017-10-01</td>\n",
       "      <td>37903</td>\n",
       "      <td>29692</td>\n",
       "      <td>1.276539</td>\n",
       "    </tr>\n",
       "    <tr>\n",
       "      <td>5</td>\n",
       "      <td>2017</td>\n",
       "      <td>2017-11-01</td>\n",
       "      <td>43969</td>\n",
       "      <td>32797</td>\n",
       "      <td>1.340641</td>\n",
       "    </tr>\n",
       "    <tr>\n",
       "      <td>6</td>\n",
       "      <td>2017</td>\n",
       "      <td>2017-12-01</td>\n",
       "      <td>41983</td>\n",
       "      <td>31557</td>\n",
       "      <td>1.330386</td>\n",
       "    </tr>\n",
       "    <tr>\n",
       "      <td>7</td>\n",
       "      <td>2018</td>\n",
       "      <td>2018-01-01</td>\n",
       "      <td>36939</td>\n",
       "      <td>28716</td>\n",
       "      <td>1.286356</td>\n",
       "    </tr>\n",
       "    <tr>\n",
       "      <td>8</td>\n",
       "      <td>2018</td>\n",
       "      <td>2018-02-01</td>\n",
       "      <td>37182</td>\n",
       "      <td>28749</td>\n",
       "      <td>1.293332</td>\n",
       "    </tr>\n",
       "    <tr>\n",
       "      <td>9</td>\n",
       "      <td>2018</td>\n",
       "      <td>2018-03-01</td>\n",
       "      <td>35677</td>\n",
       "      <td>27473</td>\n",
       "      <td>1.298620</td>\n",
       "    </tr>\n",
       "    <tr>\n",
       "      <td>10</td>\n",
       "      <td>2018</td>\n",
       "      <td>2018-04-01</td>\n",
       "      <td>26515</td>\n",
       "      <td>21008</td>\n",
       "      <td>1.262138</td>\n",
       "    </tr>\n",
       "    <tr>\n",
       "      <td>11</td>\n",
       "      <td>2018</td>\n",
       "      <td>2018-05-01</td>\n",
       "      <td>26635</td>\n",
       "      <td>20701</td>\n",
       "      <td>1.286653</td>\n",
       "    </tr>\n",
       "  </tbody>\n",
       "</table>\n",
       "</div>"
      ],
      "text/plain": [
       "    session_year session_month  n_sessions  n_users  sessions_per_user\n",
       "0           2017    2017-06-01       16505    13259           1.244815\n",
       "1           2017    2017-07-01       17828    14183           1.256998\n",
       "2           2017    2017-08-01       14355    11631           1.234202\n",
       "3           2017    2017-09-01       23907    18975           1.259921\n",
       "4           2017    2017-10-01       37903    29692           1.276539\n",
       "5           2017    2017-11-01       43969    32797           1.340641\n",
       "6           2017    2017-12-01       41983    31557           1.330386\n",
       "7           2018    2018-01-01       36939    28716           1.286356\n",
       "8           2018    2018-02-01       37182    28749           1.293332\n",
       "9           2018    2018-03-01       35677    27473           1.298620\n",
       "10          2018    2018-04-01       26515    21008           1.262138\n",
       "11          2018    2018-05-01       26635    20701           1.286653"
      ]
     },
     "execution_count": 49,
     "metadata": {},
     "output_type": "execute_result"
    }
   ],
   "source": [
    "sessions_per_user"
   ]
  },
  {
   "cell_type": "markdown",
   "metadata": {},
   "source": [
    "Посчитаем среднее количество сессий, приходящееся на одного пользователя в месяц."
   ]
  },
  {
   "cell_type": "code",
   "execution_count": 50,
   "metadata": {},
   "outputs": [
    {
     "name": "stdout",
     "output_type": "stream",
     "text": [
      "1.28\n"
     ]
    }
   ],
   "source": [
    "print('{:.2f}'.format(sessions_per_user['sessions_per_user'].mean()))"
   ]
  },
  {
   "cell_type": "markdown",
   "metadata": {},
   "source": [
    "В месяц один пользователь в среднем проводит в приложении максимум 1 сессию. Не сказать, что продукт используется регулярно."
   ]
  },
  {
   "cell_type": "markdown",
   "metadata": {},
   "source": [
    "Аналогичным образом расчитаем среднее количество сессий, приходящееся на одного пользователя в день."
   ]
  },
  {
   "cell_type": "code",
   "execution_count": 51,
   "metadata": {},
   "outputs": [],
   "source": [
    "sessions_per_day = (\n",
    "    visits\n",
    "    .groupby(['session_year', 'session_date'])\n",
    "    .agg({'uid': ['count', 'nunique']}))"
   ]
  },
  {
   "cell_type": "code",
   "execution_count": 52,
   "metadata": {},
   "outputs": [],
   "source": [
    "sessions_per_day.columns = ['n_sessions', 'n_users']"
   ]
  },
  {
   "cell_type": "code",
   "execution_count": 53,
   "metadata": {},
   "outputs": [],
   "source": [
    "sessions_per_day['sessions_per_day'] = \\\n",
    "sessions_per_day['n_sessions'] / sessions_per_day['n_users']"
   ]
  },
  {
   "cell_type": "code",
   "execution_count": 54,
   "metadata": {},
   "outputs": [],
   "source": [
    "sessions_per_day = sessions_per_day.reset_index()"
   ]
  },
  {
   "cell_type": "code",
   "execution_count": 55,
   "metadata": {},
   "outputs": [
    {
     "data": {
      "text/html": [
       "<div>\n",
       "<style scoped>\n",
       "    .dataframe tbody tr th:only-of-type {\n",
       "        vertical-align: middle;\n",
       "    }\n",
       "\n",
       "    .dataframe tbody tr th {\n",
       "        vertical-align: top;\n",
       "    }\n",
       "\n",
       "    .dataframe thead th {\n",
       "        text-align: right;\n",
       "    }\n",
       "</style>\n",
       "<table border=\"1\" class=\"dataframe\">\n",
       "  <thead>\n",
       "    <tr style=\"text-align: right;\">\n",
       "      <th></th>\n",
       "      <th>session_year</th>\n",
       "      <th>session_date</th>\n",
       "      <th>n_sessions</th>\n",
       "      <th>n_users</th>\n",
       "      <th>sessions_per_day</th>\n",
       "    </tr>\n",
       "  </thead>\n",
       "  <tbody>\n",
       "    <tr>\n",
       "      <td>0</td>\n",
       "      <td>2017</td>\n",
       "      <td>2017-06-01</td>\n",
       "      <td>664</td>\n",
       "      <td>605</td>\n",
       "      <td>1.097521</td>\n",
       "    </tr>\n",
       "    <tr>\n",
       "      <td>1</td>\n",
       "      <td>2017</td>\n",
       "      <td>2017-06-02</td>\n",
       "      <td>658</td>\n",
       "      <td>608</td>\n",
       "      <td>1.082237</td>\n",
       "    </tr>\n",
       "    <tr>\n",
       "      <td>2</td>\n",
       "      <td>2017</td>\n",
       "      <td>2017-06-03</td>\n",
       "      <td>477</td>\n",
       "      <td>445</td>\n",
       "      <td>1.071910</td>\n",
       "    </tr>\n",
       "    <tr>\n",
       "      <td>3</td>\n",
       "      <td>2017</td>\n",
       "      <td>2017-06-04</td>\n",
       "      <td>510</td>\n",
       "      <td>476</td>\n",
       "      <td>1.071429</td>\n",
       "    </tr>\n",
       "    <tr>\n",
       "      <td>4</td>\n",
       "      <td>2017</td>\n",
       "      <td>2017-06-05</td>\n",
       "      <td>893</td>\n",
       "      <td>820</td>\n",
       "      <td>1.089024</td>\n",
       "    </tr>\n",
       "  </tbody>\n",
       "</table>\n",
       "</div>"
      ],
      "text/plain": [
       "   session_year session_date  n_sessions  n_users  sessions_per_day\n",
       "0          2017   2017-06-01         664      605          1.097521\n",
       "1          2017   2017-06-02         658      608          1.082237\n",
       "2          2017   2017-06-03         477      445          1.071910\n",
       "3          2017   2017-06-04         510      476          1.071429\n",
       "4          2017   2017-06-05         893      820          1.089024"
      ]
     },
     "execution_count": 55,
     "metadata": {},
     "output_type": "execute_result"
    }
   ],
   "source": [
    "sessions_per_day.head()"
   ]
  },
  {
   "cell_type": "code",
   "execution_count": 56,
   "metadata": {},
   "outputs": [
    {
     "name": "stdout",
     "output_type": "stream",
     "text": [
      "1.08\n"
     ]
    }
   ],
   "source": [
    "print('{:.2f}'.format(sessions_per_day['sessions_per_day'].mean()))"
   ]
  },
  {
   "cell_type": "markdown",
   "metadata": {},
   "source": [
    "В среднем на одного пользователя в день приходится не более 1 сессии."
   ]
  },
  {
   "cell_type": "markdown",
   "metadata": {},
   "source": [
    "[**Вернуться к оглавлению...**](#content)"
   ]
  },
  {
   "cell_type": "markdown",
   "metadata": {},
   "source": [
    "# 2.4. Retention Rate и Churn Rate. Как часто люди возвращаются? <a name=\"step_2_4\"></a>"
   ]
  },
  {
   "cell_type": "markdown",
   "metadata": {},
   "source": [
    "Создадим датафрейм `user_activity`, включив в него два параметра из датафрейма `visits`."
   ]
  },
  {
   "cell_type": "code",
   "execution_count": 57,
   "metadata": {},
   "outputs": [],
   "source": [
    "user_activity = visits[['uid', 'start_ts']].copy()\n",
    "user_activity.columns = ['user_id', 'activity_date']"
   ]
  },
  {
   "cell_type": "markdown",
   "metadata": {},
   "source": [
    "Выделим из параметра `activity_date` только дату."
   ]
  },
  {
   "cell_type": "code",
   "execution_count": 58,
   "metadata": {},
   "outputs": [],
   "source": [
    "user_activity['activity_date'] = pd.to_datetime(\n",
    "    user_activity['activity_date'].dt.date, format = '%Y-%m-%d')"
   ]
  },
  {
   "cell_type": "markdown",
   "metadata": {},
   "source": [
    "Сгруппируем данные по параметру `user_id` и найдём первую дату посещения сервиса для каждого пользователя."
   ]
  },
  {
   "cell_type": "code",
   "execution_count": 59,
   "metadata": {},
   "outputs": [],
   "source": [
    "first_activity_date = (\n",
    "    user_activity\n",
    "    .groupby(['user_id'])['activity_date'].min()\n",
    "    .reset_index())\n",
    "\n",
    "first_activity_date = (\n",
    "    first_activity_date\n",
    "    .rename(columns = {'activity_date': 'first_activity_date'}))"
   ]
  },
  {
   "cell_type": "code",
   "execution_count": 60,
   "metadata": {},
   "outputs": [
    {
     "data": {
      "text/html": [
       "<div>\n",
       "<style scoped>\n",
       "    .dataframe tbody tr th:only-of-type {\n",
       "        vertical-align: middle;\n",
       "    }\n",
       "\n",
       "    .dataframe tbody tr th {\n",
       "        vertical-align: top;\n",
       "    }\n",
       "\n",
       "    .dataframe thead th {\n",
       "        text-align: right;\n",
       "    }\n",
       "</style>\n",
       "<table border=\"1\" class=\"dataframe\">\n",
       "  <thead>\n",
       "    <tr style=\"text-align: right;\">\n",
       "      <th></th>\n",
       "      <th>user_id</th>\n",
       "      <th>first_activity_date</th>\n",
       "    </tr>\n",
       "  </thead>\n",
       "  <tbody>\n",
       "    <tr>\n",
       "      <td>0</td>\n",
       "      <td>11863502262781</td>\n",
       "      <td>2018-03-01</td>\n",
       "    </tr>\n",
       "    <tr>\n",
       "      <td>1</td>\n",
       "      <td>49537067089222</td>\n",
       "      <td>2018-02-06</td>\n",
       "    </tr>\n",
       "    <tr>\n",
       "      <td>2</td>\n",
       "      <td>297729379853735</td>\n",
       "      <td>2017-06-07</td>\n",
       "    </tr>\n",
       "    <tr>\n",
       "      <td>3</td>\n",
       "      <td>313578113262317</td>\n",
       "      <td>2017-09-18</td>\n",
       "    </tr>\n",
       "    <tr>\n",
       "      <td>4</td>\n",
       "      <td>325320750514679</td>\n",
       "      <td>2017-09-30</td>\n",
       "    </tr>\n",
       "  </tbody>\n",
       "</table>\n",
       "</div>"
      ],
      "text/plain": [
       "           user_id first_activity_date\n",
       "0   11863502262781          2018-03-01\n",
       "1   49537067089222          2018-02-06\n",
       "2  297729379853735          2017-06-07\n",
       "3  313578113262317          2017-09-18\n",
       "4  325320750514679          2017-09-30"
      ]
     },
     "execution_count": 60,
     "metadata": {},
     "output_type": "execute_result"
    }
   ],
   "source": [
    "first_activity_date.head()"
   ]
  },
  {
   "cell_type": "markdown",
   "metadata": {},
   "source": [
    "Соеденими датафреймы `user_activity` и `first_activity_date` по параметру `user_id`."
   ]
  },
  {
   "cell_type": "code",
   "execution_count": 61,
   "metadata": {},
   "outputs": [],
   "source": [
    "user_activity = user_activity.merge(\n",
    "    first_activity_date, how = 'left', on = 'user_id')"
   ]
  },
  {
   "cell_type": "markdown",
   "metadata": {},
   "source": [
    "Выделим из даты активности и даты первой активности месяца для корректного расчёта времени жизни когорты."
   ]
  },
  {
   "cell_type": "code",
   "execution_count": 62,
   "metadata": {},
   "outputs": [],
   "source": [
    "user_activity['activity_month'] = (\n",
    "    user_activity['activity_date'].astype('datetime64[M]'))"
   ]
  },
  {
   "cell_type": "code",
   "execution_count": 63,
   "metadata": {},
   "outputs": [],
   "source": [
    "user_activity['first_activity_month'] = (\n",
    "    user_activity['first_activity_date'].astype('datetime64[M]'))"
   ]
  },
  {
   "cell_type": "markdown",
   "metadata": {},
   "source": [
    "Далее в таблицу `user_activity` добавим параметр, который будет хранить в себе время жизни когорты в месяцах."
   ]
  },
  {
   "cell_type": "code",
   "execution_count": 64,
   "metadata": {},
   "outputs": [],
   "source": [
    "user_activity['cohort_lifetime'] = (\n",
    "    (user_activity['activity_month'] - \n",
    "     user_activity['first_activity_month']) / \n",
    "    np.timedelta64(1,'M')).round().astype('int64')"
   ]
  },
  {
   "cell_type": "markdown",
   "metadata": {},
   "source": [
    "Выведем первые 5 строк таблицы `user_activity`, чтобы оценить результат проделанной работы."
   ]
  },
  {
   "cell_type": "code",
   "execution_count": 65,
   "metadata": {},
   "outputs": [
    {
     "data": {
      "text/html": [
       "<div>\n",
       "<style scoped>\n",
       "    .dataframe tbody tr th:only-of-type {\n",
       "        vertical-align: middle;\n",
       "    }\n",
       "\n",
       "    .dataframe tbody tr th {\n",
       "        vertical-align: top;\n",
       "    }\n",
       "\n",
       "    .dataframe thead th {\n",
       "        text-align: right;\n",
       "    }\n",
       "</style>\n",
       "<table border=\"1\" class=\"dataframe\">\n",
       "  <thead>\n",
       "    <tr style=\"text-align: right;\">\n",
       "      <th></th>\n",
       "      <th>user_id</th>\n",
       "      <th>activity_date</th>\n",
       "      <th>first_activity_date</th>\n",
       "      <th>activity_month</th>\n",
       "      <th>first_activity_month</th>\n",
       "      <th>cohort_lifetime</th>\n",
       "    </tr>\n",
       "  </thead>\n",
       "  <tbody>\n",
       "    <tr>\n",
       "      <td>0</td>\n",
       "      <td>16879256277535980062</td>\n",
       "      <td>2017-12-20</td>\n",
       "      <td>2017-12-20</td>\n",
       "      <td>2017-12-01</td>\n",
       "      <td>2017-12-01</td>\n",
       "      <td>0</td>\n",
       "    </tr>\n",
       "    <tr>\n",
       "      <td>1</td>\n",
       "      <td>104060357244891740</td>\n",
       "      <td>2018-02-19</td>\n",
       "      <td>2018-02-19</td>\n",
       "      <td>2018-02-01</td>\n",
       "      <td>2018-02-01</td>\n",
       "      <td>0</td>\n",
       "    </tr>\n",
       "    <tr>\n",
       "      <td>2</td>\n",
       "      <td>7459035603376831527</td>\n",
       "      <td>2017-07-01</td>\n",
       "      <td>2017-07-01</td>\n",
       "      <td>2017-07-01</td>\n",
       "      <td>2017-07-01</td>\n",
       "      <td>0</td>\n",
       "    </tr>\n",
       "    <tr>\n",
       "      <td>3</td>\n",
       "      <td>16174680259334210214</td>\n",
       "      <td>2018-05-20</td>\n",
       "      <td>2018-03-09</td>\n",
       "      <td>2018-05-01</td>\n",
       "      <td>2018-03-01</td>\n",
       "      <td>2</td>\n",
       "    </tr>\n",
       "    <tr>\n",
       "      <td>4</td>\n",
       "      <td>9969694820036681168</td>\n",
       "      <td>2017-12-27</td>\n",
       "      <td>2017-12-27</td>\n",
       "      <td>2017-12-01</td>\n",
       "      <td>2017-12-01</td>\n",
       "      <td>0</td>\n",
       "    </tr>\n",
       "  </tbody>\n",
       "</table>\n",
       "</div>"
      ],
      "text/plain": [
       "                user_id activity_date first_activity_date activity_month  \\\n",
       "0  16879256277535980062    2017-12-20          2017-12-20     2017-12-01   \n",
       "1    104060357244891740    2018-02-19          2018-02-19     2018-02-01   \n",
       "2   7459035603376831527    2017-07-01          2017-07-01     2017-07-01   \n",
       "3  16174680259334210214    2018-05-20          2018-03-09     2018-05-01   \n",
       "4   9969694820036681168    2017-12-27          2017-12-27     2017-12-01   \n",
       "\n",
       "  first_activity_month  cohort_lifetime  \n",
       "0           2017-12-01                0  \n",
       "1           2018-02-01                0  \n",
       "2           2017-07-01                0  \n",
       "3           2018-03-01                2  \n",
       "4           2017-12-01                0  "
      ]
     },
     "execution_count": 65,
     "metadata": {},
     "output_type": "execute_result"
    }
   ],
   "source": [
    "user_activity.head()"
   ]
  },
  {
   "cell_type": "markdown",
   "metadata": {},
   "source": [
    "Сгруппируем данные по когорте и **lifetime**. Посчитаем для каждой когорты количество активных пользователей на определённый «месяц жизни». Результат сохраним в переменной `cohorts`."
   ]
  },
  {
   "cell_type": "code",
   "execution_count": 66,
   "metadata": {},
   "outputs": [],
   "source": [
    "cohorts = (user_activity\n",
    "           .groupby(['first_activity_month', 'cohort_lifetime'])\n",
    "           .agg({'user_id': 'nunique'}).reset_index())"
   ]
  },
  {
   "cell_type": "markdown",
   "metadata": {},
   "source": [
    "Найдём исходное количество пользователей в когорте. Возьмём их число на нулевой месяц. Данные сохраним в переменной `initial_users_count`."
   ]
  },
  {
   "cell_type": "code",
   "execution_count": 67,
   "metadata": {},
   "outputs": [],
   "source": [
    "initial_users_count = (\n",
    "    cohorts[cohorts['cohort_lifetime'] == 0]\n",
    "    [['first_activity_month','user_id']].reset_index(drop = True))\n",
    "\n",
    "initial_users_count = \\\n",
    "initial_users_count.rename(columns = {'user_id' : 'cohort_users'})"
   ]
  },
  {
   "cell_type": "markdown",
   "metadata": {},
   "source": [
    "Выведем `initial_users_count` на экран."
   ]
  },
  {
   "cell_type": "code",
   "execution_count": 68,
   "metadata": {},
   "outputs": [
    {
     "data": {
      "text/html": [
       "<div>\n",
       "<style scoped>\n",
       "    .dataframe tbody tr th:only-of-type {\n",
       "        vertical-align: middle;\n",
       "    }\n",
       "\n",
       "    .dataframe tbody tr th {\n",
       "        vertical-align: top;\n",
       "    }\n",
       "\n",
       "    .dataframe thead th {\n",
       "        text-align: right;\n",
       "    }\n",
       "</style>\n",
       "<table border=\"1\" class=\"dataframe\">\n",
       "  <thead>\n",
       "    <tr style=\"text-align: right;\">\n",
       "      <th></th>\n",
       "      <th>first_activity_month</th>\n",
       "      <th>cohort_users</th>\n",
       "    </tr>\n",
       "  </thead>\n",
       "  <tbody>\n",
       "    <tr>\n",
       "      <td>0</td>\n",
       "      <td>2017-06-01</td>\n",
       "      <td>13259</td>\n",
       "    </tr>\n",
       "    <tr>\n",
       "      <td>1</td>\n",
       "      <td>2017-07-01</td>\n",
       "      <td>13140</td>\n",
       "    </tr>\n",
       "    <tr>\n",
       "      <td>2</td>\n",
       "      <td>2017-08-01</td>\n",
       "      <td>10181</td>\n",
       "    </tr>\n",
       "    <tr>\n",
       "      <td>3</td>\n",
       "      <td>2017-09-01</td>\n",
       "      <td>16704</td>\n",
       "    </tr>\n",
       "    <tr>\n",
       "      <td>4</td>\n",
       "      <td>2017-10-01</td>\n",
       "      <td>25977</td>\n",
       "    </tr>\n",
       "    <tr>\n",
       "      <td>5</td>\n",
       "      <td>2017-11-01</td>\n",
       "      <td>27248</td>\n",
       "    </tr>\n",
       "    <tr>\n",
       "      <td>6</td>\n",
       "      <td>2017-12-01</td>\n",
       "      <td>25268</td>\n",
       "    </tr>\n",
       "    <tr>\n",
       "      <td>7</td>\n",
       "      <td>2018-01-01</td>\n",
       "      <td>22624</td>\n",
       "    </tr>\n",
       "    <tr>\n",
       "      <td>8</td>\n",
       "      <td>2018-02-01</td>\n",
       "      <td>22197</td>\n",
       "    </tr>\n",
       "    <tr>\n",
       "      <td>9</td>\n",
       "      <td>2018-03-01</td>\n",
       "      <td>20589</td>\n",
       "    </tr>\n",
       "    <tr>\n",
       "      <td>10</td>\n",
       "      <td>2018-04-01</td>\n",
       "      <td>15709</td>\n",
       "    </tr>\n",
       "    <tr>\n",
       "      <td>11</td>\n",
       "      <td>2018-05-01</td>\n",
       "      <td>15273</td>\n",
       "    </tr>\n",
       "  </tbody>\n",
       "</table>\n",
       "</div>"
      ],
      "text/plain": [
       "   first_activity_month  cohort_users\n",
       "0            2017-06-01         13259\n",
       "1            2017-07-01         13140\n",
       "2            2017-08-01         10181\n",
       "3            2017-09-01         16704\n",
       "4            2017-10-01         25977\n",
       "5            2017-11-01         27248\n",
       "6            2017-12-01         25268\n",
       "7            2018-01-01         22624\n",
       "8            2018-02-01         22197\n",
       "9            2018-03-01         20589\n",
       "10           2018-04-01         15709\n",
       "11           2018-05-01         15273"
      ]
     },
     "execution_count": 68,
     "metadata": {},
     "output_type": "execute_result"
    }
   ],
   "source": [
    "initial_users_count"
   ]
  },
  {
   "cell_type": "markdown",
   "metadata": {},
   "source": [
    "Объединим данные по когортам с исходным количеством пользователей в когорте."
   ]
  },
  {
   "cell_type": "code",
   "execution_count": 69,
   "metadata": {},
   "outputs": [],
   "source": [
    "cohorts = cohorts.merge(\n",
    "    initial_users_count, how = 'left', on = 'first_activity_month')"
   ]
  },
  {
   "cell_type": "markdown",
   "metadata": {},
   "source": [
    "Наконец, рассчитаем **Retention Rate**. Разделим количество активных пользователей в каждый из месяцев на исходное число пользователей в когорте."
   ]
  },
  {
   "cell_type": "code",
   "execution_count": 70,
   "metadata": {},
   "outputs": [],
   "source": [
    "cohorts['retention'] = cohorts['user_id'] / cohorts['cohort_users']"
   ]
  },
  {
   "cell_type": "markdown",
   "metadata": {},
   "source": [
    "Оставим в данных о месяце первого заказа только месяц и год."
   ]
  },
  {
   "cell_type": "code",
   "execution_count": 71,
   "metadata": {},
   "outputs": [],
   "source": [
    "cohorts['first_activity_month'] = (\n",
    "    cohorts['first_activity_month'].dt.to_period('M'))"
   ]
  },
  {
   "cell_type": "code",
   "execution_count": 72,
   "metadata": {},
   "outputs": [
    {
     "data": {
      "text/html": [
       "<div>\n",
       "<style scoped>\n",
       "    .dataframe tbody tr th:only-of-type {\n",
       "        vertical-align: middle;\n",
       "    }\n",
       "\n",
       "    .dataframe tbody tr th {\n",
       "        vertical-align: top;\n",
       "    }\n",
       "\n",
       "    .dataframe thead th {\n",
       "        text-align: right;\n",
       "    }\n",
       "</style>\n",
       "<table border=\"1\" class=\"dataframe\">\n",
       "  <thead>\n",
       "    <tr style=\"text-align: right;\">\n",
       "      <th></th>\n",
       "      <th>first_activity_month</th>\n",
       "      <th>cohort_lifetime</th>\n",
       "      <th>user_id</th>\n",
       "      <th>cohort_users</th>\n",
       "      <th>retention</th>\n",
       "    </tr>\n",
       "  </thead>\n",
       "  <tbody>\n",
       "    <tr>\n",
       "      <td>0</td>\n",
       "      <td>2017-06</td>\n",
       "      <td>0</td>\n",
       "      <td>13259</td>\n",
       "      <td>13259</td>\n",
       "      <td>1.000000</td>\n",
       "    </tr>\n",
       "    <tr>\n",
       "      <td>1</td>\n",
       "      <td>2017-06</td>\n",
       "      <td>1</td>\n",
       "      <td>1043</td>\n",
       "      <td>13259</td>\n",
       "      <td>0.078664</td>\n",
       "    </tr>\n",
       "    <tr>\n",
       "      <td>2</td>\n",
       "      <td>2017-06</td>\n",
       "      <td>2</td>\n",
       "      <td>713</td>\n",
       "      <td>13259</td>\n",
       "      <td>0.053775</td>\n",
       "    </tr>\n",
       "    <tr>\n",
       "      <td>3</td>\n",
       "      <td>2017-06</td>\n",
       "      <td>3</td>\n",
       "      <td>814</td>\n",
       "      <td>13259</td>\n",
       "      <td>0.061392</td>\n",
       "    </tr>\n",
       "    <tr>\n",
       "      <td>4</td>\n",
       "      <td>2017-06</td>\n",
       "      <td>4</td>\n",
       "      <td>909</td>\n",
       "      <td>13259</td>\n",
       "      <td>0.068557</td>\n",
       "    </tr>\n",
       "  </tbody>\n",
       "</table>\n",
       "</div>"
      ],
      "text/plain": [
       "  first_activity_month  cohort_lifetime  user_id  cohort_users  retention\n",
       "0              2017-06                0    13259         13259   1.000000\n",
       "1              2017-06                1     1043         13259   0.078664\n",
       "2              2017-06                2      713         13259   0.053775\n",
       "3              2017-06                3      814         13259   0.061392\n",
       "4              2017-06                4      909         13259   0.068557"
      ]
     },
     "execution_count": 72,
     "metadata": {},
     "output_type": "execute_result"
    }
   ],
   "source": [
    "cohorts.head()"
   ]
  },
  {
   "cell_type": "markdown",
   "metadata": {},
   "source": [
    "Создадим функцию, которая будет строить тепловую карту для переданной ей, в качестве аргумента, таблицы."
   ]
  },
  {
   "cell_type": "markdown",
   "metadata": {},
   "source": [
    "Создадим сводную таблицу с расчётом **retantion rate** для построения тепловой карты."
   ]
  },
  {
   "cell_type": "code",
   "execution_count": 73,
   "metadata": {},
   "outputs": [],
   "source": [
    "rr_table = cohorts.pivot_table(\n",
    "    index = 'first_activity_month',\n",
    "    columns = 'cohort_lifetime',\n",
    "    values = 'retention',\n",
    "    aggfunc = 'sum')"
   ]
  },
  {
   "cell_type": "markdown",
   "metadata": {},
   "source": [
    "Построим тепловую карту **retantion rate**."
   ]
  },
  {
   "cell_type": "code",
   "execution_count": 74,
   "metadata": {},
   "outputs": [
    {
     "data": {
      "image/png": "[encoded data removed]",
      "text/plain": [
       "<Figure size 864x432 with 2 Axes>"
      ]
     },
     "metadata": {},
     "output_type": "display_data"
    }
   ],
   "source": [
    "yticks = rr_table.index\n",
    "sns.set(style = 'white')\n",
    "plt.figure(figsize = (12, 6))\n",
    "sns.heatmap(rr_table, annot = True, fmt = '.1%', linewidths = 1,\n",
    "            yticklabels = yticks, linecolor = 'gray', vmax = 0.1)\n",
    "plt.title('Коэффициент удержания (Retantion Rate)')\n",
    "plt.yticks(rotation = 0)\n",
    "plt.show()"
   ]
  },
  {
   "cell_type": "markdown",
   "metadata": {},
   "source": [
    "Определим на сколько пользователей в когорте становиться меньше в сравнении с предыдущим периодом, расчитав метрику **churn rate**."
   ]
  },
  {
   "cell_type": "code",
   "execution_count": 75,
   "metadata": {},
   "outputs": [],
   "source": [
    "cohorts['churn_rate'] = (\n",
    "    cohorts.groupby(['first_activity_month'])['user_id'].pct_change())"
   ]
  },
  {
   "cell_type": "markdown",
   "metadata": {},
   "source": [
    "Построим сводную таблицу и выведем на экран тепловую карту."
   ]
  },
  {
   "cell_type": "code",
   "execution_count": 76,
   "metadata": {},
   "outputs": [],
   "source": [
    "cr_table = cohorts.pivot_table(\n",
    "    index = 'first_activity_month',\n",
    "    columns = 'cohort_lifetime',\n",
    "    values = 'churn_rate',\n",
    "    aggfunc = 'sum')"
   ]
  },
  {
   "cell_type": "code",
   "execution_count": 77,
   "metadata": {
    "scrolled": false
   },
   "outputs": [
    {
     "data": {
      "image/png": "[encoded data removed]",
      "text/plain": [
       "<Figure size 864x432 with 2 Axes>"
      ]
     },
     "metadata": {},
     "output_type": "display_data"
    }
   ],
   "source": [
    "yticks = cr_table.index\n",
    "sns.set(style = 'white')\n",
    "plt.figure(figsize = (12, 6))\n",
    "sns.heatmap(cr_table, annot = True, fmt = '.1%', linewidths = 1,\n",
    "            yticklabels = yticks, linecolor = 'gray')\n",
    "plt.title('Коэффициент оттока (Churn Rate)')\n",
    "plt.yticks(rotation = 0)\n",
    "plt.show()"
   ]
  },
  {
   "cell_type": "markdown",
   "metadata": {},
   "source": [
    "Данные, отображённые на тепловых картах, говорят нам о том, что на второй месяц жизни каждая когорта теряет более 90% пользователей."
   ]
  },
  {
   "cell_type": "markdown",
   "metadata": {},
   "source": [
    "[**Вернуться к оглавлению...**](#content)"
   ]
  },
  {
   "cell_type": "markdown",
   "metadata": {},
   "source": [
    "## Шаг 2. Вывод (продукт) <a name=\"step_2_end\"></a>"
   ]
  },
  {
   "cell_type": "markdown",
   "metadata": {},
   "source": [
    "**1.** Для продукта была проведена оценка пользовательской активности. В результате были посчитаны следующие метрики:\n",
    "    \n",
    " \n",
    "* **DAU** = 907;\n",
    "    \n",
    " \n",
    "* **WAU** = 5716;\n",
    "    \n",
    " \n",
    "* **MAU** = 23228;\n",
    "    \n",
    "\n",
    "* **Sticky factor (WAU)** = 15.87;\n",
    "    \n",
    " \n",
    "* **Sticky factor (MAU)** = 3.90\n",
    "   \n",
    "Кроме того, был построен графики, сравнивающие метрики **dau**, **wau**, **mau** на двух разных типах устройств. График показал, что пользователей, использующих тип устройства `desktop` ежедневно/еженедельно/ежемесячно приходит больше, чем пользователей, использующих `touch`.\n",
    "\n",
    "Также стоит отметить, что на графике **dau** присутствуют два аномальных значения по количеству пришеддших пользователей. Два аномальных паплыва приходятся на 24 ноября 2017 и 31 мая 2018. Возможно, в этот на сервисе проводилась акция или розыгрыш билетов.\n",
    "\n",
    "**2.** Пользовательская сессия\n",
    "\n",
    "\n",
    "* Следующим шагом в изучения продукта была оценка пользовательской сессии. Первым делом был произведён подсчёт количества сессий в месяц и в день, в среднем приходящееся на одного пользователя. Результаты расчёта равны **1.28 сессий на одного пользователя**. Это значит, что пользователи не посещают сервис более одного раза в месяц. \n",
    "\n",
    "\n",
    "* Средняя продолжительность сессии **ASL** равна **1-й минуте**. Кроме того, продолжительности пользовательских сессий на разных типах устройств имеют статистические различия. Пользователи, использующие тип устройств `desktop` в среднем проводят больше времени за сессию. Можно сделать предположение, что сайт или приложение в мобильной версии отображаются некорректно или имеют прочие технические ошибки. Стоит это проверить.\n",
    "\n",
    "**3.** Retantion Rate и Churn Rate. Были построеные две тепловые карты для вышеупомянутых метрик. Тепловая карта метрики Churn Rate показала, что большой отток пользователей происходит на 2 месяце жизни когорты. Возможно, на этом этапе у пользователей возникают сложности с взаимодействием с продуктом или они уходят по каким-то другим причинам. "
   ]
  },
  {
   "cell_type": "markdown",
   "metadata": {},
   "source": [
    "[**Вернуться к оглавлению...**](#content)"
   ]
  },
  {
   "cell_type": "markdown",
   "metadata": {},
   "source": [
    "# Шаг 3. Продажи. Расчёт метрик <a name=\"step_3\"></a>"
   ]
  },
  {
   "cell_type": "markdown",
   "metadata": {},
   "source": [
    "## 3.1. Когда пользователи начинают покупать? <a name=\"step_3_1\"></a>"
   ]
  },
  {
   "cell_type": "markdown",
   "metadata": {},
   "source": [
    "Далее определим, спустя какое время после своего первого визита на сайт пользователи начинают совершать покупки."
   ]
  },
  {
   "cell_type": "markdown",
   "metadata": {},
   "source": [
    "Для начала преобразуем датафрейм `visits` в исходный вид, чтобы параметры, задействованные на предыдуших шагах не мешали."
   ]
  },
  {
   "cell_type": "code",
   "execution_count": 78,
   "metadata": {},
   "outputs": [],
   "source": [
    "visits = visits[['device', 'end_ts', 'source_id', 'start_ts', 'uid']].copy()"
   ]
  },
  {
   "cell_type": "markdown",
   "metadata": {},
   "source": [
    "Далее определим для каждого пользователя дату и время его первого визита, а после дату и время первой покупки. Полученные результаты сохраним в датафреймах `first_visit` и `first_order` соответсвенно. Далее объединим эти таблицы, создав единый датафрейм `order_visit_diff`, включив в него только тех пользователей, который когда-либо совершали покупку на сайте."
   ]
  },
  {
   "cell_type": "code",
   "execution_count": 79,
   "metadata": {},
   "outputs": [],
   "source": [
    "first_visit = (visits.groupby('uid')['start_ts'].min()\n",
    "               .reset_index().rename(columns = {'start_ts':'first_visit_date'}))\n",
    "\n",
    "first_order = (orders.groupby('uid')['order_date'].min()\n",
    "               .reset_index().rename(columns = {'order_date':'first_order_date'}))\n",
    "\n",
    "order_visit_diff = first_order.merge(first_visit, how = 'left', on = 'uid')"
   ]
  },
  {
   "cell_type": "markdown",
   "metadata": {},
   "source": [
    "Выделим из даты первого визита месяц. Это необходимо для дальнейшей группировки пользователей по соответствующим когортам."
   ]
  },
  {
   "cell_type": "code",
   "execution_count": 80,
   "metadata": {},
   "outputs": [],
   "source": [
    "order_visit_diff['first_visit_month'] = order_visit_diff['first_visit_date'].astype('datetime64[M]')\n",
    "order_visit_diff['first_visit_month'] = order_visit_diff['first_visit_month'].dt.to_period('M')"
   ]
  },
  {
   "cell_type": "markdown",
   "metadata": {},
   "source": [
    "Найдём разницу в секундах между первым посещением сайта и первой покупкой для каждого пользователя. Результат сохраним в параметр `diff_in_seconds`."
   ]
  },
  {
   "cell_type": "code",
   "execution_count": 81,
   "metadata": {},
   "outputs": [],
   "source": [
    "order_visit_diff['diff_in_seconds'] = \\\n",
    "(order_visit_diff['first_order_date'] - order_visit_diff['first_visit_date']).dt.seconds"
   ]
  },
  {
   "cell_type": "markdown",
   "metadata": {},
   "source": [
    "Далее сгруппируем данные таблицы `order_visit_diff` по месяцу первого посещения и определим, сколько в среднем прошло времмени перед тем как пользователи, впервые посетившие сайт в соответстующий месяц, совершили свою первую покупку."
   ]
  },
  {
   "cell_type": "code",
   "execution_count": 82,
   "metadata": {},
   "outputs": [],
   "source": [
    "diff_pivot = (order_visit_diff.groupby('first_visit_month')['diff_in_seconds']\n",
    "              .mean().reset_index().rename(columns = {'diff_in_seconds':'diff_in_seconds_mean'}))"
   ]
  },
  {
   "cell_type": "markdown",
   "metadata": {},
   "source": [
    "Переведём полученный результат средней продолжительности из секунд в часы."
   ]
  },
  {
   "cell_type": "code",
   "execution_count": 83,
   "metadata": {},
   "outputs": [],
   "source": [
    "diff_pivot['diff_in_hours_mean'] = (diff_pivot['diff_in_seconds_mean'] // 3600).round().astype('int64')"
   ]
  },
  {
   "cell_type": "code",
   "execution_count": 84,
   "metadata": {},
   "outputs": [],
   "source": [
    "diff_pivot['first_visit_month'] = diff_pivot['first_visit_month'].dt.strftime('%Y-%m')"
   ]
  },
  {
   "cell_type": "markdown",
   "metadata": {},
   "source": [
    "Выведем, полученную сводную таблицу на экран."
   ]
  },
  {
   "cell_type": "code",
   "execution_count": 85,
   "metadata": {},
   "outputs": [
    {
     "data": {
      "text/html": [
       "<div>\n",
       "<style scoped>\n",
       "    .dataframe tbody tr th:only-of-type {\n",
       "        vertical-align: middle;\n",
       "    }\n",
       "\n",
       "    .dataframe tbody tr th {\n",
       "        vertical-align: top;\n",
       "    }\n",
       "\n",
       "    .dataframe thead th {\n",
       "        text-align: right;\n",
       "    }\n",
       "</style>\n",
       "<table border=\"1\" class=\"dataframe\">\n",
       "  <thead>\n",
       "    <tr style=\"text-align: right;\">\n",
       "      <th></th>\n",
       "      <th>first_visit_month</th>\n",
       "      <th>diff_in_seconds_mean</th>\n",
       "      <th>diff_in_hours_mean</th>\n",
       "    </tr>\n",
       "  </thead>\n",
       "  <tbody>\n",
       "    <tr>\n",
       "      <td>0</td>\n",
       "      <td>2017-06</td>\n",
       "      <td>43135.462012</td>\n",
       "      <td>11</td>\n",
       "    </tr>\n",
       "    <tr>\n",
       "      <td>1</td>\n",
       "      <td>2017-07</td>\n",
       "      <td>42249.597070</td>\n",
       "      <td>11</td>\n",
       "    </tr>\n",
       "    <tr>\n",
       "      <td>2</td>\n",
       "      <td>2017-08</td>\n",
       "      <td>41795.525857</td>\n",
       "      <td>11</td>\n",
       "    </tr>\n",
       "    <tr>\n",
       "      <td>3</td>\n",
       "      <td>2017-09</td>\n",
       "      <td>42454.229637</td>\n",
       "      <td>11</td>\n",
       "    </tr>\n",
       "    <tr>\n",
       "      <td>4</td>\n",
       "      <td>2017-10</td>\n",
       "      <td>42288.251389</td>\n",
       "      <td>11</td>\n",
       "    </tr>\n",
       "    <tr>\n",
       "      <td>5</td>\n",
       "      <td>2017-11</td>\n",
       "      <td>43377.393754</td>\n",
       "      <td>12</td>\n",
       "    </tr>\n",
       "    <tr>\n",
       "      <td>6</td>\n",
       "      <td>2017-12</td>\n",
       "      <td>43023.199017</td>\n",
       "      <td>11</td>\n",
       "    </tr>\n",
       "    <tr>\n",
       "      <td>7</td>\n",
       "      <td>2018-01</td>\n",
       "      <td>43635.177942</td>\n",
       "      <td>12</td>\n",
       "    </tr>\n",
       "    <tr>\n",
       "      <td>8</td>\n",
       "      <td>2018-02</td>\n",
       "      <td>42474.387947</td>\n",
       "      <td>11</td>\n",
       "    </tr>\n",
       "    <tr>\n",
       "      <td>9</td>\n",
       "      <td>2018-03</td>\n",
       "      <td>42308.372093</td>\n",
       "      <td>11</td>\n",
       "    </tr>\n",
       "    <tr>\n",
       "      <td>10</td>\n",
       "      <td>2018-04</td>\n",
       "      <td>43167.807203</td>\n",
       "      <td>11</td>\n",
       "    </tr>\n",
       "    <tr>\n",
       "      <td>11</td>\n",
       "      <td>2018-05</td>\n",
       "      <td>41460.233362</td>\n",
       "      <td>11</td>\n",
       "    </tr>\n",
       "  </tbody>\n",
       "</table>\n",
       "</div>"
      ],
      "text/plain": [
       "   first_visit_month  diff_in_seconds_mean  diff_in_hours_mean\n",
       "0            2017-06          43135.462012                  11\n",
       "1            2017-07          42249.597070                  11\n",
       "2            2017-08          41795.525857                  11\n",
       "3            2017-09          42454.229637                  11\n",
       "4            2017-10          42288.251389                  11\n",
       "5            2017-11          43377.393754                  12\n",
       "6            2017-12          43023.199017                  11\n",
       "7            2018-01          43635.177942                  12\n",
       "8            2018-02          42474.387947                  11\n",
       "9            2018-03          42308.372093                  11\n",
       "10           2018-04          43167.807203                  11\n",
       "11           2018-05          41460.233362                  11"
      ]
     },
     "execution_count": 85,
     "metadata": {},
     "output_type": "execute_result"
    }
   ],
   "source": [
    "diff_pivot"
   ]
  },
  {
   "cell_type": "markdown",
   "metadata": {},
   "source": [
    "Построим график зависимости среднего времени до первой покупки от месяца покупки."
   ]
  },
  {
   "cell_type": "code",
   "execution_count": 86,
   "metadata": {},
   "outputs": [
    {
     "data": {
      "image/png": "[encoded data removed]",
      "text/plain": [
       "<Figure size 504x324 with 1 Axes>"
      ]
     },
     "metadata": {},
     "output_type": "display_data"
    }
   ],
   "source": [
    "diff_pivot.plot(x = 'first_visit_month',\n",
    "                y = 'diff_in_hours_mean', kind = 'bar',\n",
    "                color = 'skyblue', grid = True, figsize = (7, 4.5))\n",
    "\n",
    "plt.title('Кол-во часов до первой покупки')\n",
    "plt.ylabel('diff_in_hours_mean')\n",
    "plt.xticks(rotation = 315)\n",
    "plt.show()"
   ]
  },
  {
   "cell_type": "markdown",
   "metadata": {},
   "source": [
    "Итак, на графике мы видим, что с течением времени пользователи, впервые посетившие сайт в разные месяцы указанного периода, начинают приходить к моменту совершения первой покупки быстрее."
   ]
  },
  {
   "cell_type": "markdown",
   "metadata": {},
   "source": [
    "[**Вернуться к оглавлению...**](#content)"
   ]
  },
  {
   "cell_type": "markdown",
   "metadata": {},
   "source": [
    "## 3.2. Количество покупок за период <a name=\"step_3_2\"></a>"
   ]
  },
  {
   "cell_type": "code",
   "execution_count": 87,
   "metadata": {},
   "outputs": [],
   "source": [
    "orders_upd = orders[orders['order_date'] < '2018-06-01'].copy()\n",
    "orders_upd['order_month'] = orders_upd['order_date'].astype('datetime64[M]').dt.strftime('%Y-%m')"
   ]
  },
  {
   "cell_type": "markdown",
   "metadata": {},
   "source": [
    "Посчитаем количество покупок для каждого месяца, исследуемого временного интервала."
   ]
  },
  {
   "cell_type": "code",
   "execution_count": 88,
   "metadata": {},
   "outputs": [],
   "source": [
    "orders_amount = (orders_upd.groupby('order_month').agg({'uid': 'count'})\n",
    "                 .reset_index().rename(columns = {'uid': 'orders_amount'}))"
   ]
  },
  {
   "cell_type": "markdown",
   "metadata": {},
   "source": [
    "Отобразим полученный результат на графике."
   ]
  },
  {
   "cell_type": "code",
   "execution_count": 89,
   "metadata": {},
   "outputs": [
    {
     "data": {
      "image/png": "[encoded data removed]",
      "text/plain": [
       "<Figure size 720x360 with 1 Axes>"
      ]
     },
     "metadata": {},
     "output_type": "display_data"
    }
   ],
   "source": [
    "ax = orders_amount.plot(x = 'order_month', y = 'orders_amount', \n",
    "                   color = 'red', grid = True, figsize = (10, 5))\n",
    "\n",
    "orders_amount.plot(x = 'order_month', y = 'orders_amount', kind = 'bar', \n",
    "                   color = 'slateblue', grid = True, figsize = (10, 5), ax = ax)\n",
    "\n",
    "plt.title('Количество покупок в месяц')\n",
    "plt.legend(['line', 'bar'])\n",
    "plt.ylabel('orders_amount')\n",
    "plt.xticks(rotation = 315)\n",
    "plt.show()"
   ]
  },
  {
   "cell_type": "markdown",
   "metadata": {},
   "source": [
    "По графику можно сделать вывод, что общее количество покупок возрастает в ноябре и декабре. Вероятно, в предверии новогодних праздников. И показатель общего количества покупко в первые месяцы 2018 года в среднем выше, чем в конце 2017. Этот факт говорит о положительной динамике."
   ]
  },
  {
   "cell_type": "markdown",
   "metadata": {},
   "source": [
    "[**Вернуться к оглавлению...**](#content)"
   ]
  },
  {
   "cell_type": "markdown",
   "metadata": {},
   "source": [
    "## 3.3. Средний чек <a name=\"step_3_3\"></a>"
   ]
  },
  {
   "cell_type": "markdown",
   "metadata": {},
   "source": [
    "Создадим сводную таблицу `avg_check`, чтобы определить как изменяется средний в чек зависимости от месяца исследуемого периода."
   ]
  },
  {
   "cell_type": "code",
   "execution_count": 90,
   "metadata": {},
   "outputs": [],
   "source": [
    "avg_check = (orders_upd.groupby('order_month')['revenue'].mean()\n",
    "             .reset_index().rename(columns = {'revenue': 'avg_check'}))"
   ]
  },
  {
   "cell_type": "code",
   "execution_count": 91,
   "metadata": {},
   "outputs": [
    {
     "data": {
      "text/html": [
       "<div>\n",
       "<style scoped>\n",
       "    .dataframe tbody tr th:only-of-type {\n",
       "        vertical-align: middle;\n",
       "    }\n",
       "\n",
       "    .dataframe tbody tr th {\n",
       "        vertical-align: top;\n",
       "    }\n",
       "\n",
       "    .dataframe thead th {\n",
       "        text-align: right;\n",
       "    }\n",
       "</style>\n",
       "<table border=\"1\" class=\"dataframe\">\n",
       "  <thead>\n",
       "    <tr style=\"text-align: right;\">\n",
       "      <th></th>\n",
       "      <th>order_month</th>\n",
       "      <th>avg_check</th>\n",
       "    </tr>\n",
       "  </thead>\n",
       "  <tbody>\n",
       "    <tr>\n",
       "      <td>0</td>\n",
       "      <td>2017-06</td>\n",
       "      <td>4.540915</td>\n",
       "    </tr>\n",
       "    <tr>\n",
       "      <td>1</td>\n",
       "      <td>2017-07</td>\n",
       "      <td>4.763243</td>\n",
       "    </tr>\n",
       "    <tr>\n",
       "      <td>2</td>\n",
       "      <td>2017-08</td>\n",
       "      <td>6.075165</td>\n",
       "    </tr>\n",
       "    <tr>\n",
       "      <td>3</td>\n",
       "      <td>2017-09</td>\n",
       "      <td>4.772424</td>\n",
       "    </tr>\n",
       "    <tr>\n",
       "      <td>4</td>\n",
       "      <td>2017-10</td>\n",
       "      <td>4.886517</td>\n",
       "    </tr>\n",
       "    <tr>\n",
       "      <td>5</td>\n",
       "      <td>2017-11</td>\n",
       "      <td>4.723464</td>\n",
       "    </tr>\n",
       "    <tr>\n",
       "      <td>6</td>\n",
       "      <td>2017-12</td>\n",
       "      <td>4.820650</td>\n",
       "    </tr>\n",
       "    <tr>\n",
       "      <td>7</td>\n",
       "      <td>2018-01</td>\n",
       "      <td>4.979955</td>\n",
       "    </tr>\n",
       "    <tr>\n",
       "      <td>8</td>\n",
       "      <td>2018-02</td>\n",
       "      <td>5.770743</td>\n",
       "    </tr>\n",
       "    <tr>\n",
       "      <td>9</td>\n",
       "      <td>2018-03</td>\n",
       "      <td>5.108890</td>\n",
       "    </tr>\n",
       "    <tr>\n",
       "      <td>10</td>\n",
       "      <td>2018-04</td>\n",
       "      <td>5.127073</td>\n",
       "    </tr>\n",
       "    <tr>\n",
       "      <td>11</td>\n",
       "      <td>2018-05</td>\n",
       "      <td>4.717781</td>\n",
       "    </tr>\n",
       "  </tbody>\n",
       "</table>\n",
       "</div>"
      ],
      "text/plain": [
       "   order_month  avg_check\n",
       "0      2017-06   4.540915\n",
       "1      2017-07   4.763243\n",
       "2      2017-08   6.075165\n",
       "3      2017-09   4.772424\n",
       "4      2017-10   4.886517\n",
       "5      2017-11   4.723464\n",
       "6      2017-12   4.820650\n",
       "7      2018-01   4.979955\n",
       "8      2018-02   5.770743\n",
       "9      2018-03   5.108890\n",
       "10     2018-04   5.127073\n",
       "11     2018-05   4.717781"
      ]
     },
     "execution_count": 91,
     "metadata": {},
     "output_type": "execute_result"
    }
   ],
   "source": [
    "avg_check"
   ]
  },
  {
   "cell_type": "markdown",
   "metadata": {},
   "source": [
    "Построим график изменения среднего чека."
   ]
  },
  {
   "cell_type": "code",
   "execution_count": 92,
   "metadata": {},
   "outputs": [
    {
     "data": {
      "image/png": "[encoded data removed]",
      "text/plain": [
       "<Figure size 720x360 with 1 Axes>"
      ]
     },
     "metadata": {},
     "output_type": "display_data"
    }
   ],
   "source": [
    "ax = avg_check.plot(\n",
    "    x = 'order_month', y = 'avg_check', \n",
    "    color = 'red', grid = True, figsize = (10, 5))\n",
    "\n",
    "avg_check.plot(\n",
    "    x = 'order_month', y = 'avg_check', kind = 'bar',\n",
    "    color = 'darkblue', grid = True, figsize = (10, 5), ax = ax)\n",
    "\n",
    "plt.title('Средний чек')\n",
    "plt.legend(['line', 'bar'])\n",
    "plt.ylabel('avg_check')\n",
    "plt.xticks(rotation = 315)\n",
    "plt.show()"
   ]
  },
  {
   "cell_type": "markdown",
   "metadata": {},
   "source": [
    "График показывает, что средний чек возрастает в декабре 2017, верятно, в связи с новогодними праздниками и показывает наибольшее падение в январе по той же причине."
   ]
  },
  {
   "cell_type": "markdown",
   "metadata": {},
   "source": [
    "[**Вернуться к оглавлению...**](#content)"
   ]
  },
  {
   "cell_type": "markdown",
   "metadata": {},
   "source": [
    "## 3.4. Количество приносимых денег (LTV) <a name=\"step_3_4\"></a>"
   ]
  },
  {
   "cell_type": "markdown",
   "metadata": {},
   "source": [
    "Для каждого пользователя находим источник, из которого он впервые пришёл на сайт."
   ]
  },
  {
   "cell_type": "code",
   "execution_count": 93,
   "metadata": {
    "scrolled": false
   },
   "outputs": [],
   "source": [
    "user_source = (\n",
    "    visits\n",
    "    .sort_values(by = ['uid', 'start_ts'])\n",
    "    .groupby('uid')\n",
    "    .agg({'source_id': 'first'})\n",
    "    .reset_index())"
   ]
  },
  {
   "cell_type": "markdown",
   "metadata": {},
   "source": [
    "Проводим над таблицей `orders_ltv` все необходимые настройки для дальнейшей работы."
   ]
  },
  {
   "cell_type": "code",
   "execution_count": 94,
   "metadata": {},
   "outputs": [],
   "source": [
    "orders_ltv = (\n",
    "    orders[orders['order_date'] < '2018-06-01'].copy())\n",
    "\n",
    "orders_ltv['order_date'] = pd.to_datetime(\n",
    "    orders['order_date'].dt.date, format = '%Y-%m-%d')\n",
    "\n",
    "orders_ltv['order_month'] = (\n",
    "    orders['order_date'].astype('datetime64[M]'))"
   ]
  },
  {
   "cell_type": "markdown",
   "metadata": {},
   "source": [
    "Для каждого пользователя получаем месяц перывой покупки."
   ]
  },
  {
   "cell_type": "code",
   "execution_count": 95,
   "metadata": {},
   "outputs": [],
   "source": [
    "first_order = (\n",
    "    orders_ltv\n",
    "    .groupby('uid')\n",
    "    .agg({'order_month': 'min'})\n",
    "    .reset_index()\n",
    "    .rename(columns = {'order_month': 'first_order_month'}))"
   ]
  },
  {
   "cell_type": "markdown",
   "metadata": {},
   "source": [
    "Соединим датафреймы `user_source` и `first_order_upd` и, в результате, определим, из какого источника пришёл пользователь, чтобы совершить свою первую покупку. Результат сохраним в переменной `first_order_with_source`."
   ]
  },
  {
   "cell_type": "code",
   "execution_count": 96,
   "metadata": {},
   "outputs": [],
   "source": [
    "first_order_with_source = first_order.merge(user_source, how = 'left', on = 'uid')"
   ]
  },
  {
   "cell_type": "code",
   "execution_count": 97,
   "metadata": {},
   "outputs": [
    {
     "data": {
      "text/html": [
       "<div>\n",
       "<style scoped>\n",
       "    .dataframe tbody tr th:only-of-type {\n",
       "        vertical-align: middle;\n",
       "    }\n",
       "\n",
       "    .dataframe tbody tr th {\n",
       "        vertical-align: top;\n",
       "    }\n",
       "\n",
       "    .dataframe thead th {\n",
       "        text-align: right;\n",
       "    }\n",
       "</style>\n",
       "<table border=\"1\" class=\"dataframe\">\n",
       "  <thead>\n",
       "    <tr style=\"text-align: right;\">\n",
       "      <th></th>\n",
       "      <th>uid</th>\n",
       "      <th>first_order_month</th>\n",
       "      <th>source_id</th>\n",
       "    </tr>\n",
       "  </thead>\n",
       "  <tbody>\n",
       "    <tr>\n",
       "      <td>0</td>\n",
       "      <td>313578113262317</td>\n",
       "      <td>2017-12-01</td>\n",
       "      <td>2</td>\n",
       "    </tr>\n",
       "    <tr>\n",
       "      <td>1</td>\n",
       "      <td>1575281904278712</td>\n",
       "      <td>2018-02-01</td>\n",
       "      <td>10</td>\n",
       "    </tr>\n",
       "    <tr>\n",
       "      <td>2</td>\n",
       "      <td>2429014661409475</td>\n",
       "      <td>2017-07-01</td>\n",
       "      <td>3</td>\n",
       "    </tr>\n",
       "    <tr>\n",
       "      <td>3</td>\n",
       "      <td>2464366381792757</td>\n",
       "      <td>2018-05-01</td>\n",
       "      <td>5</td>\n",
       "    </tr>\n",
       "    <tr>\n",
       "      <td>4</td>\n",
       "      <td>2551852515556206</td>\n",
       "      <td>2018-04-01</td>\n",
       "      <td>5</td>\n",
       "    </tr>\n",
       "    <tr>\n",
       "      <td>...</td>\n",
       "      <td>...</td>\n",
       "      <td>...</td>\n",
       "      <td>...</td>\n",
       "    </tr>\n",
       "    <tr>\n",
       "      <td>36501</td>\n",
       "      <td>18445147675727495770</td>\n",
       "      <td>2018-03-01</td>\n",
       "      <td>5</td>\n",
       "    </tr>\n",
       "    <tr>\n",
       "      <td>36502</td>\n",
       "      <td>18445407535914413204</td>\n",
       "      <td>2017-08-01</td>\n",
       "      <td>3</td>\n",
       "    </tr>\n",
       "    <tr>\n",
       "      <td>36503</td>\n",
       "      <td>18445601152732270159</td>\n",
       "      <td>2018-03-01</td>\n",
       "      <td>2</td>\n",
       "    </tr>\n",
       "    <tr>\n",
       "      <td>36504</td>\n",
       "      <td>18446156210226471712</td>\n",
       "      <td>2018-03-01</td>\n",
       "      <td>3</td>\n",
       "    </tr>\n",
       "    <tr>\n",
       "      <td>36505</td>\n",
       "      <td>18446167067214817906</td>\n",
       "      <td>2017-12-01</td>\n",
       "      <td>5</td>\n",
       "    </tr>\n",
       "  </tbody>\n",
       "</table>\n",
       "<p>36506 rows × 3 columns</p>\n",
       "</div>"
      ],
      "text/plain": [
       "                        uid first_order_month  source_id\n",
       "0           313578113262317        2017-12-01          2\n",
       "1          1575281904278712        2018-02-01         10\n",
       "2          2429014661409475        2017-07-01          3\n",
       "3          2464366381792757        2018-05-01          5\n",
       "4          2551852515556206        2018-04-01          5\n",
       "...                     ...               ...        ...\n",
       "36501  18445147675727495770        2018-03-01          5\n",
       "36502  18445407535914413204        2017-08-01          3\n",
       "36503  18445601152732270159        2018-03-01          2\n",
       "36504  18446156210226471712        2018-03-01          3\n",
       "36505  18446167067214817906        2017-12-01          5\n",
       "\n",
       "[36506 rows x 3 columns]"
      ]
     },
     "execution_count": 97,
     "metadata": {},
     "output_type": "execute_result"
    }
   ],
   "source": [
    "first_order_with_source"
   ]
  },
  {
   "cell_type": "markdown",
   "metadata": {},
   "source": [
    "Соеденими список заказов с датафреймом `first_order_with_source` и получим источник для каждого заказа."
   ]
  },
  {
   "cell_type": "code",
   "execution_count": 98,
   "metadata": {},
   "outputs": [],
   "source": [
    "orders_ltv = orders_ltv.merge(first_order_with_source, how = 'left', on = 'uid')\n",
    "orders_ltv['first_order_month'] = pd.to_datetime(orders_ltv['first_order_month'], format = '%Y-%m-%d')"
   ]
  },
  {
   "cell_type": "markdown",
   "metadata": {},
   "source": [
    "Посчитаем \"время жизни\" для каждой когорты, сформированной по принципу \"оформил свой первый заказ в этом месяце\"."
   ]
  },
  {
   "cell_type": "code",
   "execution_count": 99,
   "metadata": {},
   "outputs": [],
   "source": [
    "orders_ltv['lifetime'] = (\n",
    "    (orders_ltv['order_month'] - \n",
    "     orders_ltv['first_order_month']) /\n",
    "    np.timedelta64(1, 'M')).round().astype('int64')"
   ]
  },
  {
   "cell_type": "code",
   "execution_count": 100,
   "metadata": {},
   "outputs": [
    {
     "data": {
      "text/html": [
       "<div>\n",
       "<style scoped>\n",
       "    .dataframe tbody tr th:only-of-type {\n",
       "        vertical-align: middle;\n",
       "    }\n",
       "\n",
       "    .dataframe tbody tr th {\n",
       "        vertical-align: top;\n",
       "    }\n",
       "\n",
       "    .dataframe thead th {\n",
       "        text-align: right;\n",
       "    }\n",
       "</style>\n",
       "<table border=\"1\" class=\"dataframe\">\n",
       "  <thead>\n",
       "    <tr style=\"text-align: right;\">\n",
       "      <th></th>\n",
       "      <th>order_date</th>\n",
       "      <th>revenue</th>\n",
       "      <th>uid</th>\n",
       "      <th>order_month</th>\n",
       "      <th>first_order_month</th>\n",
       "      <th>source_id</th>\n",
       "      <th>lifetime</th>\n",
       "    </tr>\n",
       "  </thead>\n",
       "  <tbody>\n",
       "    <tr>\n",
       "      <td>0</td>\n",
       "      <td>2017-12-20</td>\n",
       "      <td>17.00</td>\n",
       "      <td>10329302124590727494</td>\n",
       "      <td>2017-12-01</td>\n",
       "      <td>2017-12-01</td>\n",
       "      <td>1</td>\n",
       "      <td>0</td>\n",
       "    </tr>\n",
       "    <tr>\n",
       "      <td>1</td>\n",
       "      <td>2018-02-19</td>\n",
       "      <td>0.55</td>\n",
       "      <td>11627257723692907447</td>\n",
       "      <td>2018-02-01</td>\n",
       "      <td>2018-02-01</td>\n",
       "      <td>2</td>\n",
       "      <td>0</td>\n",
       "    </tr>\n",
       "    <tr>\n",
       "      <td>2</td>\n",
       "      <td>2017-07-01</td>\n",
       "      <td>0.37</td>\n",
       "      <td>17903680561304213844</td>\n",
       "      <td>2017-07-01</td>\n",
       "      <td>2017-07-01</td>\n",
       "      <td>2</td>\n",
       "      <td>0</td>\n",
       "    </tr>\n",
       "    <tr>\n",
       "      <td>3</td>\n",
       "      <td>2018-05-20</td>\n",
       "      <td>0.55</td>\n",
       "      <td>16109239769442553005</td>\n",
       "      <td>2018-05-01</td>\n",
       "      <td>2018-05-01</td>\n",
       "      <td>2</td>\n",
       "      <td>0</td>\n",
       "    </tr>\n",
       "    <tr>\n",
       "      <td>4</td>\n",
       "      <td>2017-12-27</td>\n",
       "      <td>0.37</td>\n",
       "      <td>14200605875248379450</td>\n",
       "      <td>2017-12-01</td>\n",
       "      <td>2017-12-01</td>\n",
       "      <td>3</td>\n",
       "      <td>0</td>\n",
       "    </tr>\n",
       "    <tr>\n",
       "      <td>...</td>\n",
       "      <td>...</td>\n",
       "      <td>...</td>\n",
       "      <td>...</td>\n",
       "      <td>...</td>\n",
       "      <td>...</td>\n",
       "      <td>...</td>\n",
       "      <td>...</td>\n",
       "    </tr>\n",
       "    <tr>\n",
       "      <td>50356</td>\n",
       "      <td>2017-06-04</td>\n",
       "      <td>4.64</td>\n",
       "      <td>12296626599487328624</td>\n",
       "      <td>2017-06-01</td>\n",
       "      <td>2017-06-01</td>\n",
       "      <td>4</td>\n",
       "      <td>0</td>\n",
       "    </tr>\n",
       "    <tr>\n",
       "      <td>50357</td>\n",
       "      <td>2017-10-10</td>\n",
       "      <td>5.80</td>\n",
       "      <td>11369640365507475976</td>\n",
       "      <td>2017-10-01</td>\n",
       "      <td>2017-10-01</td>\n",
       "      <td>10</td>\n",
       "      <td>0</td>\n",
       "    </tr>\n",
       "    <tr>\n",
       "      <td>50358</td>\n",
       "      <td>2018-04-14</td>\n",
       "      <td>0.30</td>\n",
       "      <td>1786462140797698849</td>\n",
       "      <td>2018-04-01</td>\n",
       "      <td>2018-04-01</td>\n",
       "      <td>3</td>\n",
       "      <td>0</td>\n",
       "    </tr>\n",
       "    <tr>\n",
       "      <td>50359</td>\n",
       "      <td>2017-10-16</td>\n",
       "      <td>3.67</td>\n",
       "      <td>3993697860786194247</td>\n",
       "      <td>2017-10-01</td>\n",
       "      <td>2017-10-01</td>\n",
       "      <td>3</td>\n",
       "      <td>0</td>\n",
       "    </tr>\n",
       "    <tr>\n",
       "      <td>50360</td>\n",
       "      <td>2018-03-11</td>\n",
       "      <td>3.42</td>\n",
       "      <td>83872787173869366</td>\n",
       "      <td>2018-03-01</td>\n",
       "      <td>2018-03-01</td>\n",
       "      <td>4</td>\n",
       "      <td>0</td>\n",
       "    </tr>\n",
       "  </tbody>\n",
       "</table>\n",
       "<p>50361 rows × 7 columns</p>\n",
       "</div>"
      ],
      "text/plain": [
       "      order_date  revenue                   uid order_month first_order_month  \\\n",
       "0     2017-12-20    17.00  10329302124590727494  2017-12-01        2017-12-01   \n",
       "1     2018-02-19     0.55  11627257723692907447  2018-02-01        2018-02-01   \n",
       "2     2017-07-01     0.37  17903680561304213844  2017-07-01        2017-07-01   \n",
       "3     2018-05-20     0.55  16109239769442553005  2018-05-01        2018-05-01   \n",
       "4     2017-12-27     0.37  14200605875248379450  2017-12-01        2017-12-01   \n",
       "...          ...      ...                   ...         ...               ...   \n",
       "50356 2017-06-04     4.64  12296626599487328624  2017-06-01        2017-06-01   \n",
       "50357 2017-10-10     5.80  11369640365507475976  2017-10-01        2017-10-01   \n",
       "50358 2018-04-14     0.30   1786462140797698849  2018-04-01        2018-04-01   \n",
       "50359 2017-10-16     3.67   3993697860786194247  2017-10-01        2017-10-01   \n",
       "50360 2018-03-11     3.42     83872787173869366  2018-03-01        2018-03-01   \n",
       "\n",
       "       source_id  lifetime  \n",
       "0              1         0  \n",
       "1              2         0  \n",
       "2              2         0  \n",
       "3              2         0  \n",
       "4              3         0  \n",
       "...          ...       ...  \n",
       "50356          4         0  \n",
       "50357         10         0  \n",
       "50358          3         0  \n",
       "50359          3         0  \n",
       "50360          4         0  \n",
       "\n",
       "[50361 rows x 7 columns]"
      ]
     },
     "execution_count": 100,
     "metadata": {},
     "output_type": "execute_result"
    }
   ],
   "source": [
    "orders_ltv"
   ]
  },
  {
   "cell_type": "markdown",
   "metadata": {},
   "source": [
    "Посчитаем суммарную выручку для каждого источника на каждом периоде жизни."
   ]
  },
  {
   "cell_type": "code",
   "execution_count": 101,
   "metadata": {},
   "outputs": [],
   "source": [
    "sum_revenue = orders_ltv.pivot_table(\n",
    "    index = 'source_id',\n",
    "    columns = 'lifetime',\n",
    "    values = 'revenue',\n",
    "    aggfunc = 'sum')"
   ]
  },
  {
   "cell_type": "markdown",
   "metadata": {},
   "source": [
    "Просуммируем значения в строках таблицы, получив тем самым суммарную выручку за каждый месяц."
   ]
  },
  {
   "cell_type": "code",
   "execution_count": 102,
   "metadata": {},
   "outputs": [],
   "source": [
    "cumsum_revenue = sum_revenue.fillna(0).cumsum(axis = 1)"
   ]
  },
  {
   "cell_type": "markdown",
   "metadata": {},
   "source": [
    "Выведем полученный результат на экран."
   ]
  },
  {
   "cell_type": "code",
   "execution_count": 103,
   "metadata": {},
   "outputs": [
    {
     "data": {
      "text/html": [
       "<div>\n",
       "<style scoped>\n",
       "    .dataframe tbody tr th:only-of-type {\n",
       "        vertical-align: middle;\n",
       "    }\n",
       "\n",
       "    .dataframe tbody tr th {\n",
       "        vertical-align: top;\n",
       "    }\n",
       "\n",
       "    .dataframe thead th {\n",
       "        text-align: right;\n",
       "    }\n",
       "</style>\n",
       "<table border=\"1\" class=\"dataframe\">\n",
       "  <thead>\n",
       "    <tr style=\"text-align: right;\">\n",
       "      <th>lifetime</th>\n",
       "      <th>0</th>\n",
       "      <th>1</th>\n",
       "      <th>2</th>\n",
       "      <th>3</th>\n",
       "      <th>4</th>\n",
       "      <th>5</th>\n",
       "      <th>6</th>\n",
       "      <th>7</th>\n",
       "      <th>8</th>\n",
       "      <th>9</th>\n",
       "      <th>10</th>\n",
       "      <th>11</th>\n",
       "    </tr>\n",
       "    <tr>\n",
       "      <th>source_id</th>\n",
       "      <th></th>\n",
       "      <th></th>\n",
       "      <th></th>\n",
       "      <th></th>\n",
       "      <th></th>\n",
       "      <th></th>\n",
       "      <th></th>\n",
       "      <th></th>\n",
       "      <th></th>\n",
       "      <th></th>\n",
       "      <th></th>\n",
       "      <th></th>\n",
       "    </tr>\n",
       "  </thead>\n",
       "  <tbody>\n",
       "    <tr>\n",
       "      <td>1</td>\n",
       "      <td>13867.30</td>\n",
       "      <td>15353.65</td>\n",
       "      <td>16559.33</td>\n",
       "      <td>18486.59</td>\n",
       "      <td>20638.88</td>\n",
       "      <td>22893.73</td>\n",
       "      <td>24963.11</td>\n",
       "      <td>26449.62</td>\n",
       "      <td>27965.69</td>\n",
       "      <td>29495.56</td>\n",
       "      <td>30457.49</td>\n",
       "      <td>31086.27</td>\n",
       "    </tr>\n",
       "    <tr>\n",
       "      <td>2</td>\n",
       "      <td>17472.45</td>\n",
       "      <td>18837.29</td>\n",
       "      <td>22858.23</td>\n",
       "      <td>25083.98</td>\n",
       "      <td>27404.58</td>\n",
       "      <td>29690.86</td>\n",
       "      <td>33316.97</td>\n",
       "      <td>36894.38</td>\n",
       "      <td>40161.35</td>\n",
       "      <td>43439.34</td>\n",
       "      <td>44488.27</td>\n",
       "      <td>46923.61</td>\n",
       "    </tr>\n",
       "    <tr>\n",
       "      <td>3</td>\n",
       "      <td>42185.13</td>\n",
       "      <td>44000.69</td>\n",
       "      <td>45493.47</td>\n",
       "      <td>47435.30</td>\n",
       "      <td>49314.82</td>\n",
       "      <td>50407.62</td>\n",
       "      <td>51600.11</td>\n",
       "      <td>52482.17</td>\n",
       "      <td>53389.94</td>\n",
       "      <td>53923.83</td>\n",
       "      <td>54299.24</td>\n",
       "      <td>54506.35</td>\n",
       "    </tr>\n",
       "    <tr>\n",
       "      <td>4</td>\n",
       "      <td>42419.73</td>\n",
       "      <td>44057.31</td>\n",
       "      <td>45905.32</td>\n",
       "      <td>47988.04</td>\n",
       "      <td>49562.77</td>\n",
       "      <td>51354.67</td>\n",
       "      <td>52417.08</td>\n",
       "      <td>53778.25</td>\n",
       "      <td>55076.66</td>\n",
       "      <td>55866.51</td>\n",
       "      <td>56371.07</td>\n",
       "      <td>56696.83</td>\n",
       "    </tr>\n",
       "    <tr>\n",
       "      <td>5</td>\n",
       "      <td>30107.54</td>\n",
       "      <td>31533.19</td>\n",
       "      <td>33401.82</td>\n",
       "      <td>35087.46</td>\n",
       "      <td>37678.22</td>\n",
       "      <td>40497.56</td>\n",
       "      <td>42457.61</td>\n",
       "      <td>43709.41</td>\n",
       "      <td>48437.05</td>\n",
       "      <td>49487.70</td>\n",
       "      <td>52069.28</td>\n",
       "      <td>52621.88</td>\n",
       "    </tr>\n",
       "    <tr>\n",
       "      <td>7</td>\n",
       "      <td>1.22</td>\n",
       "      <td>1.22</td>\n",
       "      <td>1.22</td>\n",
       "      <td>1.22</td>\n",
       "      <td>1.22</td>\n",
       "      <td>1.22</td>\n",
       "      <td>1.22</td>\n",
       "      <td>1.22</td>\n",
       "      <td>1.22</td>\n",
       "      <td>1.22</td>\n",
       "      <td>1.22</td>\n",
       "      <td>1.22</td>\n",
       "    </tr>\n",
       "    <tr>\n",
       "      <td>9</td>\n",
       "      <td>3710.92</td>\n",
       "      <td>4140.19</td>\n",
       "      <td>4367.73</td>\n",
       "      <td>4696.56</td>\n",
       "      <td>4925.57</td>\n",
       "      <td>5112.39</td>\n",
       "      <td>5334.22</td>\n",
       "      <td>5505.44</td>\n",
       "      <td>5588.46</td>\n",
       "      <td>5657.65</td>\n",
       "      <td>5735.24</td>\n",
       "      <td>5759.40</td>\n",
       "    </tr>\n",
       "    <tr>\n",
       "      <td>10</td>\n",
       "      <td>3747.78</td>\n",
       "      <td>3892.14</td>\n",
       "      <td>3981.65</td>\n",
       "      <td>4080.62</td>\n",
       "      <td>4193.83</td>\n",
       "      <td>4269.45</td>\n",
       "      <td>4342.48</td>\n",
       "      <td>4415.28</td>\n",
       "      <td>4432.62</td>\n",
       "      <td>4440.86</td>\n",
       "      <td>4443.55</td>\n",
       "      <td>4450.33</td>\n",
       "    </tr>\n",
       "  </tbody>\n",
       "</table>\n",
       "</div>"
      ],
      "text/plain": [
       "lifetime         0         1         2         3         4         5   \\\n",
       "source_id                                                               \n",
       "1          13867.30  15353.65  16559.33  18486.59  20638.88  22893.73   \n",
       "2          17472.45  18837.29  22858.23  25083.98  27404.58  29690.86   \n",
       "3          42185.13  44000.69  45493.47  47435.30  49314.82  50407.62   \n",
       "4          42419.73  44057.31  45905.32  47988.04  49562.77  51354.67   \n",
       "5          30107.54  31533.19  33401.82  35087.46  37678.22  40497.56   \n",
       "7              1.22      1.22      1.22      1.22      1.22      1.22   \n",
       "9           3710.92   4140.19   4367.73   4696.56   4925.57   5112.39   \n",
       "10          3747.78   3892.14   3981.65   4080.62   4193.83   4269.45   \n",
       "\n",
       "lifetime         6         7         8         9         10        11  \n",
       "source_id                                                              \n",
       "1          24963.11  26449.62  27965.69  29495.56  30457.49  31086.27  \n",
       "2          33316.97  36894.38  40161.35  43439.34  44488.27  46923.61  \n",
       "3          51600.11  52482.17  53389.94  53923.83  54299.24  54506.35  \n",
       "4          52417.08  53778.25  55076.66  55866.51  56371.07  56696.83  \n",
       "5          42457.61  43709.41  48437.05  49487.70  52069.28  52621.88  \n",
       "7              1.22      1.22      1.22      1.22      1.22      1.22  \n",
       "9           5334.22   5505.44   5588.46   5657.65   5735.24   5759.40  \n",
       "10          4342.48   4415.28   4432.62   4440.86   4443.55   4450.33  "
      ]
     },
     "execution_count": 103,
     "metadata": {},
     "output_type": "execute_result"
    }
   ],
   "source": [
    "cumsum_revenue"
   ]
  },
  {
   "cell_type": "markdown",
   "metadata": {},
   "source": [
    "Найдём количество уникальных пользователей в каждом источнике за весь исследуемый период."
   ]
  },
  {
   "cell_type": "code",
   "execution_count": 104,
   "metadata": {},
   "outputs": [],
   "source": [
    "cohort_sizes = (\n",
    "    first_order_with_source\n",
    "    .groupby('source_id')\n",
    "    .agg({'uid': 'nunique'})\n",
    "    .rename(columns = {'uid': 'cohort_size'}))"
   ]
  },
  {
   "cell_type": "code",
   "execution_count": 105,
   "metadata": {},
   "outputs": [
    {
     "data": {
      "text/html": [
       "<div>\n",
       "<style scoped>\n",
       "    .dataframe tbody tr th:only-of-type {\n",
       "        vertical-align: middle;\n",
       "    }\n",
       "\n",
       "    .dataframe tbody tr th {\n",
       "        vertical-align: top;\n",
       "    }\n",
       "\n",
       "    .dataframe thead th {\n",
       "        text-align: right;\n",
       "    }\n",
       "</style>\n",
       "<table border=\"1\" class=\"dataframe\">\n",
       "  <thead>\n",
       "    <tr style=\"text-align: right;\">\n",
       "      <th></th>\n",
       "      <th>cohort_size</th>\n",
       "    </tr>\n",
       "    <tr>\n",
       "      <th>source_id</th>\n",
       "      <th></th>\n",
       "    </tr>\n",
       "  </thead>\n",
       "  <tbody>\n",
       "    <tr>\n",
       "      <td>1</td>\n",
       "      <td>2895</td>\n",
       "    </tr>\n",
       "    <tr>\n",
       "      <td>2</td>\n",
       "      <td>3503</td>\n",
       "    </tr>\n",
       "    <tr>\n",
       "      <td>3</td>\n",
       "      <td>10466</td>\n",
       "    </tr>\n",
       "    <tr>\n",
       "      <td>4</td>\n",
       "      <td>10296</td>\n",
       "    </tr>\n",
       "    <tr>\n",
       "      <td>5</td>\n",
       "      <td>6930</td>\n",
       "    </tr>\n",
       "    <tr>\n",
       "      <td>7</td>\n",
       "      <td>1</td>\n",
       "    </tr>\n",
       "    <tr>\n",
       "      <td>9</td>\n",
       "      <td>1088</td>\n",
       "    </tr>\n",
       "    <tr>\n",
       "      <td>10</td>\n",
       "      <td>1327</td>\n",
       "    </tr>\n",
       "  </tbody>\n",
       "</table>\n",
       "</div>"
      ],
      "text/plain": [
       "           cohort_size\n",
       "source_id             \n",
       "1                 2895\n",
       "2                 3503\n",
       "3                10466\n",
       "4                10296\n",
       "5                 6930\n",
       "7                    1\n",
       "9                 1088\n",
       "10                1327"
      ]
     },
     "execution_count": 105,
     "metadata": {},
     "output_type": "execute_result"
    }
   ],
   "source": [
    "cohort_sizes"
   ]
  },
  {
   "cell_type": "markdown",
   "metadata": {},
   "source": [
    "Соеденим таблицы `cumsum_revenue` и `cohort_sizes`."
   ]
  },
  {
   "cell_type": "code",
   "execution_count": 106,
   "metadata": {},
   "outputs": [],
   "source": [
    "cumsum_revenue = cumsum_revenue.merge(\n",
    "    cohort_sizes, how = 'left', on = 'source_id')"
   ]
  },
  {
   "cell_type": "markdown",
   "metadata": {},
   "source": [
    "Посчитаем `ltv` (пожизенная ценность клиента) разделив суммарную в каждом месяце на общее количество уникальных пользователей за весь период для каждого источника."
   ]
  },
  {
   "cell_type": "code",
   "execution_count": 107,
   "metadata": {},
   "outputs": [],
   "source": [
    "ltv = (\n",
    "    cumsum_revenue\n",
    "    .div(cumsum_revenue['cohort_size'], axis = 0)\n",
    "    .drop(columns = 'cohort_size'))"
   ]
  },
  {
   "cell_type": "code",
   "execution_count": 108,
   "metadata": {},
   "outputs": [
    {
     "data": {
      "image/png": "[encoded data removed]",
      "text/plain": [
       "<Figure size 864x432 with 2 Axes>"
      ]
     },
     "metadata": {},
     "output_type": "display_data"
    }
   ],
   "source": [
    "plt.figure(figsize = (12, 6))\n",
    "yticks = ltv.index\n",
    "sns.heatmap(ltv, annot = True, fmt = '.3f', linewidths = 1,\n",
    "            yticklabels = yticks, linecolor = 'gray')\n",
    "plt.title('Пожизненная ценность клиента (LTV)')\n",
    "plt.xlabel('cohort_lifetime')\n",
    "plt.yticks(rotation = 0)\n",
    "plt.show()"
   ]
  },
  {
   "cell_type": "markdown",
   "metadata": {},
   "source": [
    "[**Вернуться к оглавлению...**](#content)"
   ]
  },
  {
   "cell_type": "markdown",
   "metadata": {},
   "source": [
    "## Шаг 3. Вывод (продажи) <a name=\"step_3_end\"></a>"
   ]
  },
  {
   "cell_type": "markdown",
   "metadata": {},
   "source": [
    "**1.** В какой момент пользователи начинают покупать?\n",
    "\n",
    "* Из графика, представленного в расчётах, видно, что в среднем, в зависимости от периода, проходит от 2 до 5 часов с момента первого посещения пользователем сервиса до его первой покупки. Кроме того, стоит отметить положительную динамику к снижению времени, проходящего с момента первого посещения до первой покупки. Пользователи в 2018 году начинают покупать быстрее. Это хороший знак.\n",
    "\n",
    "**2.** Количество покупок.\n",
    "\n",
    "* По графику зависимости количества покупок от месяца можно сделать вывод, что общее количество покупок возрастает в ноябре и декабре. Вероятно, в предверии новогодних праздников. И показатель общего количества покупко в первые месяцы 2018 года в среднем выше, чем в конце 2017. Этот факт говорит о положительной динамике.\n",
    "\n",
    "**3.** Средний чек.\n",
    "\n",
    "* График показывает, что средний чек возрастает в декабре 2017, верятно, в связи с новогодними праздниками и показывает наибольшее падение в январе, вероятно, по той же причине.\n",
    "\n",
    "**4.** Пожизненная ценность клиента (LTV).\n",
    "\n",
    "Исходя из сводной таблицы, где для каждого источника для каждогого месяца жизни посчитана накопительная выручка видно, что у источника номер 7 нет никакой положительной динамики исовершена одна единственная покупка на втором месяце жизни. Можно сделать предположение, что это техническая ошибка. И, на самом деле, пользователь, пришёл из какого-то друого источника."
   ]
  },
  {
   "cell_type": "markdown",
   "metadata": {},
   "source": [
    "[**Вернуться к оглавлению...**](#content)"
   ]
  },
  {
   "cell_type": "markdown",
   "metadata": {},
   "source": [
    "# Шаг 4. Маркетинг. Расчёт метрик <a name=\"step_4\"></a>"
   ]
  },
  {
   "cell_type": "markdown",
   "metadata": {},
   "source": [
    "## 4.1. Расчёт метрик CAC и ROI <a name=\"step_4_1\"></a>"
   ]
  },
  {
   "cell_type": "markdown",
   "metadata": {},
   "source": [
    "Посчитаем общие затраты на каждый из источников."
   ]
  },
  {
   "cell_type": "code",
   "execution_count": 109,
   "metadata": {},
   "outputs": [],
   "source": [
    "costs_per_source = costs.groupby('source_id')['costs'].sum().reset_index()"
   ]
  },
  {
   "cell_type": "markdown",
   "metadata": {},
   "source": [
    "Добавим параметр `colors` для удобства построения графиков. Чтобы за каждым источником был закреплён свой собственный цвет."
   ]
  },
  {
   "cell_type": "code",
   "execution_count": 110,
   "metadata": {},
   "outputs": [],
   "source": [
    "costs_per_source['colors'] = (\n",
    "    pd.Series(['red', 'green', 'blue',\n",
    "               'darkcyan', 'orange', 'black', 'dodgerblue']))"
   ]
  },
  {
   "cell_type": "markdown",
   "metadata": {},
   "source": [
    "Создадим датафрейм `cac`, образованный в результате соединения датафреймов `costs_per_source` и `ltv`."
   ]
  },
  {
   "cell_type": "code",
   "execution_count": 111,
   "metadata": {},
   "outputs": [],
   "source": [
    "cac = costs_per_source.merge(cohort_sizes, how = 'left', on = 'source_id')"
   ]
  },
  {
   "cell_type": "markdown",
   "metadata": {},
   "source": [
    "Посчитаем метрику `cac` (стоимость привлечения клиента) для пользователей всех источников."
   ]
  },
  {
   "cell_type": "code",
   "execution_count": 112,
   "metadata": {},
   "outputs": [],
   "source": [
    "cac['cac'] = cac['costs'] / cac['cohort_size']"
   ]
  },
  {
   "cell_type": "code",
   "execution_count": 113,
   "metadata": {},
   "outputs": [],
   "source": [
    "cac = cac.set_index('source_id')"
   ]
  },
  {
   "cell_type": "markdown",
   "metadata": {},
   "source": [
    "Выведем полученный результат на экран."
   ]
  },
  {
   "cell_type": "code",
   "execution_count": 114,
   "metadata": {},
   "outputs": [],
   "source": [
    "cac_plot = cac.sort_values(by = 'cac', ascending = False).reset_index()"
   ]
  },
  {
   "cell_type": "code",
   "execution_count": 115,
   "metadata": {},
   "outputs": [
    {
     "data": {
      "text/html": [
       "<div>\n",
       "<style scoped>\n",
       "    .dataframe tbody tr th:only-of-type {\n",
       "        vertical-align: middle;\n",
       "    }\n",
       "\n",
       "    .dataframe tbody tr th {\n",
       "        vertical-align: top;\n",
       "    }\n",
       "\n",
       "    .dataframe thead th {\n",
       "        text-align: right;\n",
       "    }\n",
       "</style>\n",
       "<table border=\"1\" class=\"dataframe\">\n",
       "  <thead>\n",
       "    <tr style=\"text-align: right;\">\n",
       "      <th></th>\n",
       "      <th>source_id</th>\n",
       "      <th>costs</th>\n",
       "      <th>colors</th>\n",
       "      <th>cohort_size</th>\n",
       "      <th>cac</th>\n",
       "    </tr>\n",
       "  </thead>\n",
       "  <tbody>\n",
       "    <tr>\n",
       "      <td>0</td>\n",
       "      <td>3</td>\n",
       "      <td>141321.63</td>\n",
       "      <td>blue</td>\n",
       "      <td>10466</td>\n",
       "      <td>13.502927</td>\n",
       "    </tr>\n",
       "    <tr>\n",
       "      <td>1</td>\n",
       "      <td>2</td>\n",
       "      <td>42806.04</td>\n",
       "      <td>green</td>\n",
       "      <td>3503</td>\n",
       "      <td>12.219823</td>\n",
       "    </tr>\n",
       "    <tr>\n",
       "      <td>2</td>\n",
       "      <td>5</td>\n",
       "      <td>51757.10</td>\n",
       "      <td>orange</td>\n",
       "      <td>6930</td>\n",
       "      <td>7.468557</td>\n",
       "    </tr>\n",
       "    <tr>\n",
       "      <td>3</td>\n",
       "      <td>1</td>\n",
       "      <td>20833.27</td>\n",
       "      <td>red</td>\n",
       "      <td>2895</td>\n",
       "      <td>7.196294</td>\n",
       "    </tr>\n",
       "    <tr>\n",
       "      <td>4</td>\n",
       "      <td>4</td>\n",
       "      <td>61073.60</td>\n",
       "      <td>darkcyan</td>\n",
       "      <td>10296</td>\n",
       "      <td>5.931779</td>\n",
       "    </tr>\n",
       "    <tr>\n",
       "      <td>5</td>\n",
       "      <td>9</td>\n",
       "      <td>5517.49</td>\n",
       "      <td>black</td>\n",
       "      <td>1088</td>\n",
       "      <td>5.071222</td>\n",
       "    </tr>\n",
       "    <tr>\n",
       "      <td>6</td>\n",
       "      <td>10</td>\n",
       "      <td>5822.49</td>\n",
       "      <td>dodgerblue</td>\n",
       "      <td>1327</td>\n",
       "      <td>4.387709</td>\n",
       "    </tr>\n",
       "  </tbody>\n",
       "</table>\n",
       "</div>"
      ],
      "text/plain": [
       "   source_id      costs      colors  cohort_size        cac\n",
       "0          3  141321.63        blue        10466  13.502927\n",
       "1          2   42806.04       green         3503  12.219823\n",
       "2          5   51757.10      orange         6930   7.468557\n",
       "3          1   20833.27         red         2895   7.196294\n",
       "4          4   61073.60    darkcyan        10296   5.931779\n",
       "5          9    5517.49       black         1088   5.071222\n",
       "6         10    5822.49  dodgerblue         1327   4.387709"
      ]
     },
     "execution_count": 115,
     "metadata": {},
     "output_type": "execute_result"
    }
   ],
   "source": [
    "cac_plot"
   ]
  },
  {
   "cell_type": "code",
   "execution_count": 116,
   "metadata": {},
   "outputs": [
    {
     "data": {
      "image/png": "[encoded data removed]",
      "text/plain": [
       "<Figure size 720x360 with 1 Axes>"
      ]
     },
     "metadata": {},
     "output_type": "display_data"
    }
   ],
   "source": [
    "cac_plot.plot(x = 'source_id', y = 'cac', kind = 'bar', \n",
    "              grid = True, color = cac['colors'].values, figsize = (10, 5))\n",
    "\n",
    "plt.title('Стоимость привлечения клиента для каждого источника')\n",
    "plt.ylabel('avg_check')\n",
    "plt.xticks(rotation = 0)\n",
    "plt.show()"
   ]
  },
  {
   "cell_type": "markdown",
   "metadata": {},
   "source": [
    "Дороже всего обходится клиент, приходящий из иссточника № 3, в то время как, самым дешёвым, с точки зрения привлечения, клиентом является клиент, впервые пришедший из источника № 10."
   ]
  },
  {
   "cell_type": "markdown",
   "metadata": {},
   "source": [
    "Оценим качество вложений в маркетинговую кампанию и расчитаем метрику `romi`."
   ]
  },
  {
   "cell_type": "code",
   "execution_count": 117,
   "metadata": {},
   "outputs": [],
   "source": [
    "romi = ltv.merge(cac['cac'], how = 'inner', on = 'source_id')\n",
    "romi = romi.div(romi['cac'], axis = 0).drop(columns = 'cac')"
   ]
  },
  {
   "cell_type": "markdown",
   "metadata": {},
   "source": [
    "Выведем полученную сводную таблицу `romi` на экран в виде тепловой карты."
   ]
  },
  {
   "cell_type": "code",
   "execution_count": 118,
   "metadata": {},
   "outputs": [
    {
     "data": {
      "image/png": "[encoded data removed]",
      "text/plain": [
       "<Figure size 864x432 with 2 Axes>"
      ]
     },
     "metadata": {},
     "output_type": "display_data"
    }
   ],
   "source": [
    "plt.figure(figsize=(12, 6))\n",
    "yticks = romi.index\n",
    "sns.heatmap(romi, annot = True, fmt = '.3f', linewidths = 1,\n",
    "            yticklabels = yticks, linecolor = 'gray', vmax = 1, vmin = 0.14)\n",
    "plt.title('Возврат на маркетинговые инвестиции ROMI')\n",
    "plt.xlabel('cohort_lifetime')\n",
    "plt.yticks(rotation = 0)\n",
    "plt.show()"
   ]
  },
  {
   "cell_type": "markdown",
   "metadata": {},
   "source": [
    "[**Вернуться к оглавлению...**](#content)"
   ]
  },
  {
   "cell_type": "markdown",
   "metadata": {},
   "source": [
    "## 4.2. Сколько денег потратили? <a name=\"step_4_2\"></a>"
   ]
  },
  {
   "cell_type": "markdown",
   "metadata": {},
   "source": [
    "Найдём сколько денег потратила Афиша на все рекламные кампании за весь период."
   ]
  },
  {
   "cell_type": "code",
   "execution_count": 119,
   "metadata": {},
   "outputs": [
    {
     "name": "stdout",
     "output_type": "stream",
     "text": [
      "Суммарные затраты: 329131.62\n"
     ]
    }
   ],
   "source": [
    "print('Суммарные затраты: {}'.format(costs['costs'].sum()))"
   ]
  },
  {
   "cell_type": "markdown",
   "metadata": {},
   "source": [
    "Отобразим суммарные затраты по источникам на графике."
   ]
  },
  {
   "cell_type": "code",
   "execution_count": 120,
   "metadata": {},
   "outputs": [],
   "source": [
    "costs_per_source = (\n",
    "    costs_per_source\n",
    "    .sort_values(by = 'costs', ascending = False)\n",
    "    .reset_index(drop = True))"
   ]
  },
  {
   "cell_type": "code",
   "execution_count": 121,
   "metadata": {},
   "outputs": [
    {
     "data": {
      "image/png": "[encoded data removed]",
      "text/plain": [
       "<Figure size 720x360 with 1 Axes>"
      ]
     },
     "metadata": {},
     "output_type": "display_data"
    }
   ],
   "source": [
    "costs_per_source.plot(\n",
    "    x = 'source_id', y = 'costs',\n",
    "    kind = 'bar', grid = True, figsize = (10, 5),\n",
    "    color = costs_per_source['colors'].values, alpha = 0.8)\n",
    "\n",
    "plt.title('Суммарные затраты на каждый источник')\n",
    "plt.ylabel('costs')\n",
    "plt.xticks(rotation = 0)\n",
    "plt.show()"
   ]
  },
  {
   "cell_type": "markdown",
   "metadata": {},
   "source": [
    "Наибольшее зартраты приходятся на 3-й источник, в то время как он демонстрирует плохую окупаемость."
   ]
  },
  {
   "cell_type": "code",
   "execution_count": 122,
   "metadata": {},
   "outputs": [],
   "source": [
    "costs['month'] = costs['date'].astype('datetime64[M]').dt.strftime('%Y-%m')"
   ]
  },
  {
   "cell_type": "code",
   "execution_count": 123,
   "metadata": {},
   "outputs": [],
   "source": [
    "costs_per_month = (\n",
    "    costs\n",
    "    .groupby(['month', 'source_id'])\n",
    "    .agg({'costs': 'sum'}))"
   ]
  },
  {
   "cell_type": "code",
   "execution_count": 124,
   "metadata": {},
   "outputs": [
    {
     "data": {
      "text/html": [
       "<div>\n",
       "<style scoped>\n",
       "    .dataframe tbody tr th:only-of-type {\n",
       "        vertical-align: middle;\n",
       "    }\n",
       "\n",
       "    .dataframe tbody tr th {\n",
       "        vertical-align: top;\n",
       "    }\n",
       "\n",
       "    .dataframe thead th {\n",
       "        text-align: right;\n",
       "    }\n",
       "</style>\n",
       "<table border=\"1\" class=\"dataframe\">\n",
       "  <thead>\n",
       "    <tr style=\"text-align: right;\">\n",
       "      <th></th>\n",
       "      <th></th>\n",
       "      <th>costs</th>\n",
       "    </tr>\n",
       "    <tr>\n",
       "      <th>month</th>\n",
       "      <th>source_id</th>\n",
       "      <th></th>\n",
       "    </tr>\n",
       "  </thead>\n",
       "  <tbody>\n",
       "    <tr>\n",
       "      <td rowspan=\"5\" valign=\"top\">2017-06</td>\n",
       "      <td>1</td>\n",
       "      <td>1125.61</td>\n",
       "    </tr>\n",
       "    <tr>\n",
       "      <td>2</td>\n",
       "      <td>2427.38</td>\n",
       "    </tr>\n",
       "    <tr>\n",
       "      <td>3</td>\n",
       "      <td>7731.65</td>\n",
       "    </tr>\n",
       "    <tr>\n",
       "      <td>4</td>\n",
       "      <td>3514.80</td>\n",
       "    </tr>\n",
       "    <tr>\n",
       "      <td>5</td>\n",
       "      <td>2616.12</td>\n",
       "    </tr>\n",
       "  </tbody>\n",
       "</table>\n",
       "</div>"
      ],
      "text/plain": [
       "                     costs\n",
       "month   source_id         \n",
       "2017-06 1          1125.61\n",
       "        2          2427.38\n",
       "        3          7731.65\n",
       "        4          3514.80\n",
       "        5          2616.12"
      ]
     },
     "execution_count": 124,
     "metadata": {},
     "output_type": "execute_result"
    }
   ],
   "source": [
    "costs_per_month.head()"
   ]
  },
  {
   "cell_type": "code",
   "execution_count": 125,
   "metadata": {},
   "outputs": [],
   "source": [
    "costs_per_source = (\n",
    "    costs_per_source\n",
    "    .sort_values(by = 'source_id')\n",
    "    .reset_index(drop = True))"
   ]
  },
  {
   "cell_type": "code",
   "execution_count": 126,
   "metadata": {},
   "outputs": [
    {
     "data": {
      "image/png": "[encoded data removed]",
      "text/plain": [
       "<Figure size 720x360 with 1 Axes>"
      ]
     },
     "metadata": {},
     "output_type": "display_data"
    }
   ],
   "source": [
    "costs_per_month.unstack().plot(\n",
    "    grid = True, figsize = (10, 5),\n",
    "    color = costs_per_source['colors'].values)\n",
    "\n",
    "plt.legend(costs_per_source['source_id'].unique())\n",
    "plt.title('Зависимость объёма затрат от месяца')\n",
    "plt.ylabel('costs')\n",
    "plt.show()"
   ]
  },
  {
   "cell_type": "markdown",
   "metadata": {},
   "source": [
    "Прослеживается тенденция, что затраты на рекламные кампании возрастают к новогодним праздникам, начинают спадать в январе и выравниваются к апрелю 2018."
   ]
  },
  {
   "cell_type": "markdown",
   "metadata": {},
   "source": [
    "[**Вернуться к оглавлению...**](#content)"
   ]
  },
  {
   "cell_type": "markdown",
   "metadata": {},
   "source": [
    "# Шаг 5. Рекомендации меркетологам <a name=\"step_5\"></a>"
   ]
  },
  {
   "cell_type": "markdown",
   "metadata": {},
   "source": [
    "**Источник №1**\n",
    "\n",
    "* На тепловой карте мы видим, что источник под номером 1 практически окупился уже за первые 2 месяца, но окончательно достиг окупаемости на 3 месяц. Стоит увееличить вложения для привлечения большего количества клиентов.\n",
    "\n",
    "**Источник №2**\n",
    "\n",
    "* Источник под номером 2 окупился на 5 месяц и демонстрирует полжительную динамику. В этот источник можно смело продолжать делать вложения, так как он демонстрирует свою окупаемость и потенциально может оказаться эффективным с точки зрения получения прибыли.\n",
    "\n",
    "**Источники №5, 9**\n",
    "\n",
    "* Источники 5 и 9 окупились на 8 и 7 месяц соответственно. Вероятно, с увеличением вложений, они могут начать приводить больше клиентов готовых оформить заказ.\n",
    "\n",
    "**Источник №3**\n",
    "\n",
    "* Источник номер 3 как при самых больших суммарных затратах, так и при наибольших затратах на привлечение одного клиента показал себя самым худшим образом. От вложений в этот источник я бы рекомендовал отказаться.\n",
    "\n",
    "\n",
    "**Источник №4, 10**\n",
    "\n",
    "* Источникам 4 и 10 не удалось окупиться за год. Это плохо, вероятно, от вложений следует отказаться и сконцентрироваться на более успешных источниках."
   ]
  },
  {
   "cell_type": "markdown",
   "metadata": {},
   "source": [
    "[**Вернуться к оглавлению...**](#content)"
   ]
  },
  {
   "cell_type": "markdown",
   "metadata": {},
   "source": [
    "# Шаг 6. Общий вывод <a name=\"step_6\"></a>"
   ]
  },
  {
   "cell_type": "markdown",
   "metadata": {},
   "source": [
    "**Шаг 1. Изучение входных данных**\n",
    "\n",
    "**1.1. Изучение входных данных:**\n",
    "\n",
    "* Датасеты `visits.csv`, `orders.csv`, `costs.csv` были прочитаны при помощи метода `read_csv()`.\n",
    "\n",
    "\n",
    "* Пропущенные значения, в исследуемых датафреймах `visits`, `orders`, `costs`, не были обнаружены.\n",
    "\n",
    "\n",
    "\n",
    "* Типы данных во всех датафреймах были проверены на соответствие. В результате проверки было обнаружено, что некоторые параметры, хранящие в себе информацию о датах имели тип данных `object`. \n",
    "\n",
    "\n",
    "\n",
    "* В наименованиях некоторых параметров были обнаружены пробелы.\n",
    "\n",
    "**1.2. Подготовка данных к анализу:**\n",
    "\n",
    "В ходе предобробатки в данных были проивзедены следующие изменения:\n",
    "\n",
    "* Пробелы в наименованиях параметров были заменены на нижнее подчёркивание `_`.\n",
    "\n",
    "\n",
    "* Наименования параметров были приведены к нижнему регистру.\n",
    "\n",
    "\n",
    "* Наименование параметра `dt` датафрейма `costs` было изменено на `date`.\n",
    "\n",
    "\n",
    "\n",
    "* Параметры `ens_ts` и `start_ts` датафрейма `visits`, параметр `buy_ts` датафрейма `orders` и параметр `date` датафрейма `costs` были приведены к типу данных `datetime64`.\n",
    "\n",
    "\n",
    "* В датафрейме `visits` были удалены аномалии, где время дата и время начала сесии были больше даты и времени её окончания.\n",
    "\n",
    "\n",
    "* Из датафрейма `orders` были удалены строки в которых значения параметра `revenue` были равны нулю."
   ]
  },
  {
   "cell_type": "markdown",
   "metadata": {},
   "source": [
    "**1.** Для продукта была проведена оценка пользовательской активности. В результате были посчитаны следующие метрики:\n",
    "    \n",
    " \n",
    "* **DAU** = 907;\n",
    "    \n",
    " \n",
    "* **WAU** = 5716;\n",
    "    \n",
    " \n",
    "* **MAU** = 23228;\n",
    "    \n",
    "\n",
    "* **Sticky factor (WAU)** = 15.87;\n",
    "    \n",
    " \n",
    "* **Sticky factor (MAU)** = 3.90\n",
    "   \n",
    "Кроме того, был построен графики, сравнивающие метрики **dau**, **wau**, **mau** на двух разных типах устройств. График показал, что пользователей, использующих тип устройства `desktop` ежедневно/еженедельно/ежемесячно приходит больше, чем пользователей, использующих `touch`.\n",
    "\n",
    "Также стоит отметить, что на графике **dau** присутствуют два аномальных значения по количеству пришеддших пользователей. Два аномальных паплыва приходятся на 24 ноября 2017 и 31 мая 2018. Возможно, в этот на сервисе проводилась акция или розыгрыш билетов.\n",
    "\n",
    "**2.** Пользовательская сессия\n",
    "\n",
    "\n",
    "* Следующим шагом в изучения продукта была оценка пользовательской сессии. Первым делом был произведён подсчёт количества сессий в месяц и в день, в среднем приходящееся на одного пользователя. Результаты расчёта равны **1.28 сессий на одного пользователя**. Это значит, что пользователи не посещают сервис более одного раза в месяц. \n",
    "\n",
    "\n",
    "* Средняя продолжительность сессии **ASL** равна **1-й минуте**. Кроме того, продолжительности пользовательских сессий на разных типах устройств имеют статистические различия. Пользователи, использующие тип устройств `desktop` в среднем проводят больше времени за сессию. Можно сделать предположение, что сайт или приложение в мобильной версии отображаются некорректно или имеют прочие технические ошибки. Стоит это проверить.\n",
    "\n",
    "**3.** Retantion Rate и Churn Rate. Были построеные две тепловые карты для вышеупомянутых метрик. Тепловая карта метрики Churn Rate показала, что большой отток пользователей происходит на 2 месяце жизни когорты. Возможно, на этом этапе у пользователей возникают сложности с взаимодействием с продуктом или они уходят по каким-то другим причинам. "
   ]
  },
  {
   "cell_type": "markdown",
   "metadata": {},
   "source": [
    "**Шаг 3. Продажи. Расчёт метрик**\n",
    "\n",
    "**1.** В какой момент пользователи начинают покупать?\n",
    "\n",
    "* Из графика, представленного в расчётах, видно, что в среднем, в зависимости от периода, проходит от 2 до 5 часов с момента первого посещения пользователем сервиса до его первой покупки. Кроме того, стоит отметить положительную динамику к снижению времени, проходящего с момента первого посещения до первой покупки. Пользователи в 2018 году начинают покупать быстрее. Это хороший знак.\n",
    "\n",
    "**2.** Количество покупок.\n",
    "\n",
    "* По графику зависимости количества покупок от месяца можно сделать вывод, что общее количество покупок возрастает в ноябре и декабре. Вероятно, в предверии новогодних праздников. И показатель общего количества покупко в первые месяцы 2018 года в среднем выше, чем в конце 2017. Этот факт говорит о положительной динамике.\n",
    "\n",
    "**3.** Средний чек.\n",
    "\n",
    "* График показывает, что средний чек возрастает в декабре 2017, верятно, в связи с новогодними праздниками и показывает наибольшее падение в январе, вероятно, по той же причине.\n",
    "\n",
    "**4.** Пожизненная ценность клиента (LTV).\n",
    "\n",
    "Исходя из сводной таблицы, где для каждого источника для каждогого месяца жизни посчитана накопительная выручка видно, что у источника номер 7 нет никакой положительной динамики исовершена одна единственная покупка на втором месяце жизни. Можно сделать предположение, что это техническая ошибка. И, на самом деле, пользователь, пришёл из какого-то друого источника."
   ]
  },
  {
   "cell_type": "markdown",
   "metadata": {},
   "source": [
    "**Шаг 4,5. Рекомендации маркетологам**\n",
    "\n",
    "**Источник №1**\n",
    "\n",
    "* На тепловой карте мы видим, что источник под номером 1 практически окупился уже за первые 2 месяца, но окончательно достиг окупаемости на 3 месяц. Стоит увееличить вложения для привлечения большего количества клиентов.\n",
    "\n",
    "**Источник №2**\n",
    "\n",
    "* Источник под номером 2 окупился на 5 месяц и демонстрирует полжительную динамику. В этот источник можно смело продолжать делать вложения, так как он демонстрирует свою окупаемость и потенциально может оказаться эффективным с точки зрения получения прибыли.\n",
    "\n",
    "**Источники №5, 9**\n",
    "\n",
    "* Источники 5 и 9 окупились на 8 и 7 месяц соответственно. Вероятно, с увеличением вложений, они могут начать приводить больше клиентов готовых оформить заказ.\n",
    "\n",
    "**Источник №3**\n",
    "\n",
    "* Источник номер 3 как при самых больших суммарных затратах, так и при наибольших затратах на привлечение одного клиента показал себя самым худшим образом. От вложений в этот источник я бы рекомендовал отказаться.\n",
    "\n",
    "\n",
    "**Источник №4, 10**\n",
    "\n",
    "* Источникам 4 и 10 не удалось окупиться за год. Это плохо, вероятно, от вложений следует отказаться и сконцентрироваться на более успешных источниках."
   ]
  },
  {
   "cell_type": "markdown",
   "metadata": {},
   "source": [
    "[**Вернуться к оглавлению...**](#content)"
   ]
  }
 ],
 "metadata": {
  "kernelspec": {
   "display_name": "Python 3",
   "language": "python",
   "name": "python3"
  },
  "language_info": {
   "codemirror_mode": {
    "name": "ipython",
    "version": 3
   },
   "file_extension": ".py",
   "mimetype": "text/x-python",
   "name": "python",
   "nbconvert_exporter": "python",
   "pygments_lexer": "ipython3",
   "version": "3.7.9"
  }
 },
 "nbformat": 4,
 "nbformat_minor": 4
}
