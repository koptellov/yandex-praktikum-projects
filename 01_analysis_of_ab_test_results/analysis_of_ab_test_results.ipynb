{
 "cells": [
  {
   "cell_type": "markdown",
   "metadata": {},
   "source": [
    "# Аналитика в крупном интернет-магазине (анализ результатов A/B-теста) <a name=\"content\"></a>"
   ]
  },
  {
   "cell_type": "markdown",
   "metadata": {},
   "source": [
    "# Оглавление"
   ]
  },
  {
   "cell_type": "markdown",
   "metadata": {},
   "source": [
    "* [Описание проекта](#project_description)\n",
    "* [Описание данных](#data_description)\n",
    "* [Часть 1. Приоритизация гипотез](#step_1)\n",
    "    * [1.1. Изучение входных данных](#step_1_1)\n",
    "    * [1.2. Приоритизация гипотез](#step_1_2)\n",
    "    * [1.3. Вывод](#step_1_end)\n",
    "* [Часть 2. Анализ A/B-теста](#step_2)\n",
    "    * [Изучение входных данных](#step_2_00)\n",
    "    * [Расчёт куммулятивных метрик](#step_2_01)\n",
    "    * [2.1. График кумулятивной выручки по группам](#step_2_1)\n",
    "    * [2.2. График кумулятивного среднего чека по группам](#step_2_2)\n",
    "    * [2.3. График относительного изменения кумулятивного среднего чека группы B к группе A](#step_2_3)\n",
    "    * [2.4. График кумулятивной конверсии по группам](#step_2_4)\n",
    "    * [2.5. График относительного изменения кумулятивной конверсии группы B к группе A](#step_2_5)\n",
    "    * [2.6. Точечный график количества заказов по пользователям](#step_2_6)\n",
    "    * [2.7. Расчёт 95-го и 99-го перцентиля количества заказов на пользователя](#step_2_7)\n",
    "    * [2.8. Точечный график стоимостей заказов](#step_2_8)\n",
    "    * [2.9. Расчёт 95-го и 99-го перцентиля стоимости заказов](#step_2_9)\n",
    "    * [2.10. Расчёт статистической значимости различий в конверсии между группами по «сырым» данным](#step_2_10)\n",
    "    * [2.11. Расчёт статистической значимости различий в среднем чеке заказа между группами по «сырым» данным](#step_2_11)\n",
    "    * [2.12. Расчёт статистической значимости различий в конверсии между группами по «очищенным» данным](#step_2_12)\n",
    "    * [2.13. Расчёт статистической значимости различий в среднем чеке заказа между группами по «очищенным» данным](#step_2_13)\n",
    "    * [2.14. Решение по итогам анализа результатов A/B-теста](#step_2_14)"
   ]
  },
  {
   "cell_type": "markdown",
   "metadata": {},
   "source": [
    "# Описание проекта <a name=\"project_description\"></a>"
   ]
  },
  {
   "cell_type": "markdown",
   "metadata": {},
   "source": [
    "Отделом маркетинга подготовили список гипотез для увеличения выручки.\n",
    "\n",
    "Приоритизируйте гипотезы, запустите A/B-тест и проанализируйте результаты."
   ]
  },
  {
   "cell_type": "markdown",
   "metadata": {},
   "source": [
    "# Задачи исследовательского анализа <a name=\"analysis_tasks\"></a>"
   ]
  },
  {
   "cell_type": "markdown",
   "metadata": {},
   "source": [
    "* **Часть 1.** Приоритизация гипотез.\n",
    "\n",
    "\n",
    "* **Часть 2.** Анализ результатов A/B-теста."
   ]
  },
  {
   "cell_type": "markdown",
   "metadata": {},
   "source": [
    "[**Вернуться к оглавлению...**](#content)"
   ]
  },
  {
   "cell_type": "markdown",
   "metadata": {},
   "source": [
    "# Описание данных <a name=\"data_description\"></a>"
   ]
  },
  {
   "cell_type": "markdown",
   "metadata": {},
   "source": [
    "### Данные для первой части.\n",
    "\n",
    "Таблица `hypothesis`:\n",
    "\n",
    "* **Hypothesis** — краткое описание гипотезы;\n",
    "\n",
    "\n",
    "* **Reach** — охват пользователей по 10-балльной шкале;\n",
    "\n",
    "\n",
    "* **Impact** — влияние на пользователей по 10-балльной шкале;\n",
    "\n",
    "\n",
    "* **Confidence** — уверенность в гипотезе по 10-балльной шкале;\n",
    "\n",
    "\n",
    "* **Efforts** — затраты ресурсов на проверку гипотезы по 10-балльной шкале. Чем больше значение **Efforts**, тем дороже проверка гипотезы.\n",
    "\n",
    "\n",
    "### Данные для второй части.\n",
    "\n",
    "Таблица `orders`:\n",
    "\n",
    "* **transactionId** — идентификатор заказа;\n",
    "\n",
    "\n",
    "* **visitorId** — идентификатор пользователя, совершившего заказ;\n",
    "\n",
    "\n",
    "* **date** — дата, когда был совершён заказ;\n",
    "\n",
    "\n",
    "* **revenue** — выручка заказа;\n",
    "\n",
    "\n",
    "* **group** — группа A/B-теста, в которую попал заказ.\n",
    "\n",
    "Таблица `visitors`:\n",
    "\n",
    "* **date** — дата;\n",
    "\n",
    "\n",
    "* **group** — группа A/B-теста;\n",
    "\n",
    "\n",
    "* **visitors** — количество пользователей в указанную дату в указанной группе A/B-теста."
   ]
  },
  {
   "cell_type": "markdown",
   "metadata": {},
   "source": [
    "[**Вернуться к оглавлению...**](#content)"
   ]
  },
  {
   "cell_type": "markdown",
   "metadata": {},
   "source": [
    "# Часть 1. Приоритизация гипотез <a name=\"step_1\"></a>"
   ]
  },
  {
   "cell_type": "markdown",
   "metadata": {},
   "source": [
    "## 1.1. Изучение вдходных данных <a name=\"step_1_1\"></a>"
   ]
  },
  {
   "cell_type": "markdown",
   "metadata": {},
   "source": [
    "Импорт библиотек, необходимых для решения поставленной задачи."
   ]
  },
  {
   "cell_type": "code",
   "execution_count": 1,
   "metadata": {},
   "outputs": [],
   "source": [
    "import pandas as pd\n",
    "import numpy as np\n",
    "import datetime as dt\n",
    "from scipy import stats as st\n",
    "import matplotlib.pyplot as plt"
   ]
  },
  {
   "cell_type": "markdown",
   "metadata": {},
   "source": [
    "Чтение файла с входными данными."
   ]
  },
  {
   "cell_type": "code",
   "execution_count": 2,
   "metadata": {},
   "outputs": [],
   "source": [
    "hypothesis = pd.read_csv('../project_datasets/hypothesis.csv')"
   ]
  },
  {
   "cell_type": "markdown",
   "metadata": {},
   "source": [
    "Вывод датафрейма `hypothesis` на экран."
   ]
  },
  {
   "cell_type": "code",
   "execution_count": 3,
   "metadata": {},
   "outputs": [
    {
     "data": {
      "text/html": [
       "<div>\n",
       "<style scoped>\n",
       "    .dataframe tbody tr th:only-of-type {\n",
       "        vertical-align: middle;\n",
       "    }\n",
       "\n",
       "    .dataframe tbody tr th {\n",
       "        vertical-align: top;\n",
       "    }\n",
       "\n",
       "    .dataframe thead th {\n",
       "        text-align: right;\n",
       "    }\n",
       "</style>\n",
       "<table border=\"1\" class=\"dataframe\">\n",
       "  <thead>\n",
       "    <tr style=\"text-align: right;\">\n",
       "      <th></th>\n",
       "      <th>Hypothesis</th>\n",
       "      <th>Reach</th>\n",
       "      <th>Impact</th>\n",
       "      <th>Confidence</th>\n",
       "      <th>Efforts</th>\n",
       "    </tr>\n",
       "  </thead>\n",
       "  <tbody>\n",
       "    <tr>\n",
       "      <td>0</td>\n",
       "      <td>Добавить два новых канала привлечения трафика,...</td>\n",
       "      <td>3</td>\n",
       "      <td>10</td>\n",
       "      <td>8</td>\n",
       "      <td>6</td>\n",
       "    </tr>\n",
       "    <tr>\n",
       "      <td>1</td>\n",
       "      <td>Запустить собственную службу доставки, что сок...</td>\n",
       "      <td>2</td>\n",
       "      <td>5</td>\n",
       "      <td>4</td>\n",
       "      <td>10</td>\n",
       "    </tr>\n",
       "    <tr>\n",
       "      <td>2</td>\n",
       "      <td>Добавить блоки рекомендаций товаров на сайт ин...</td>\n",
       "      <td>8</td>\n",
       "      <td>3</td>\n",
       "      <td>7</td>\n",
       "      <td>3</td>\n",
       "    </tr>\n",
       "    <tr>\n",
       "      <td>3</td>\n",
       "      <td>Изменить структура категорий, что увеличит кон...</td>\n",
       "      <td>8</td>\n",
       "      <td>3</td>\n",
       "      <td>3</td>\n",
       "      <td>8</td>\n",
       "    </tr>\n",
       "    <tr>\n",
       "      <td>4</td>\n",
       "      <td>Изменить цвет фона главной страницы, чтобы уве...</td>\n",
       "      <td>3</td>\n",
       "      <td>1</td>\n",
       "      <td>1</td>\n",
       "      <td>1</td>\n",
       "    </tr>\n",
       "    <tr>\n",
       "      <td>5</td>\n",
       "      <td>Добавить страницу отзывов клиентов о магазине,...</td>\n",
       "      <td>3</td>\n",
       "      <td>2</td>\n",
       "      <td>2</td>\n",
       "      <td>3</td>\n",
       "    </tr>\n",
       "    <tr>\n",
       "      <td>6</td>\n",
       "      <td>Показать на главной странице баннеры с актуаль...</td>\n",
       "      <td>5</td>\n",
       "      <td>3</td>\n",
       "      <td>8</td>\n",
       "      <td>3</td>\n",
       "    </tr>\n",
       "    <tr>\n",
       "      <td>7</td>\n",
       "      <td>Добавить форму подписки на все основные страни...</td>\n",
       "      <td>10</td>\n",
       "      <td>7</td>\n",
       "      <td>8</td>\n",
       "      <td>5</td>\n",
       "    </tr>\n",
       "    <tr>\n",
       "      <td>8</td>\n",
       "      <td>Запустить акцию, дающую скидку на товар в день...</td>\n",
       "      <td>1</td>\n",
       "      <td>9</td>\n",
       "      <td>9</td>\n",
       "      <td>5</td>\n",
       "    </tr>\n",
       "  </tbody>\n",
       "</table>\n",
       "</div>"
      ],
      "text/plain": [
       "                                          Hypothesis  Reach  Impact  \\\n",
       "0  Добавить два новых канала привлечения трафика,...      3      10   \n",
       "1  Запустить собственную службу доставки, что сок...      2       5   \n",
       "2  Добавить блоки рекомендаций товаров на сайт ин...      8       3   \n",
       "3  Изменить структура категорий, что увеличит кон...      8       3   \n",
       "4  Изменить цвет фона главной страницы, чтобы уве...      3       1   \n",
       "5  Добавить страницу отзывов клиентов о магазине,...      3       2   \n",
       "6  Показать на главной странице баннеры с актуаль...      5       3   \n",
       "7  Добавить форму подписки на все основные страни...     10       7   \n",
       "8  Запустить акцию, дающую скидку на товар в день...      1       9   \n",
       "\n",
       "   Confidence  Efforts  \n",
       "0           8        6  \n",
       "1           4       10  \n",
       "2           7        3  \n",
       "3           3        8  \n",
       "4           1        1  \n",
       "5           2        3  \n",
       "6           8        3  \n",
       "7           8        5  \n",
       "8           9        5  "
      ]
     },
     "execution_count": 3,
     "metadata": {},
     "output_type": "execute_result"
    }
   ],
   "source": [
    "hypothesis"
   ]
  },
  {
   "cell_type": "markdown",
   "metadata": {},
   "source": [
    "Получение общей информации о датафрейме `hypothesis`."
   ]
  },
  {
   "cell_type": "code",
   "execution_count": 4,
   "metadata": {},
   "outputs": [
    {
     "name": "stdout",
     "output_type": "stream",
     "text": [
      "<class 'pandas.core.frame.DataFrame'>\n",
      "RangeIndex: 9 entries, 0 to 8\n",
      "Data columns (total 5 columns):\n",
      "Hypothesis    9 non-null object\n",
      "Reach         9 non-null int64\n",
      "Impact        9 non-null int64\n",
      "Confidence    9 non-null int64\n",
      "Efforts       9 non-null int64\n",
      "dtypes: int64(4), object(1)\n",
      "memory usage: 488.0+ bytes\n"
     ]
    }
   ],
   "source": [
    "hypothesis.info()"
   ]
  },
  {
   "cell_type": "markdown",
   "metadata": {},
   "source": [
    "**Вывод:** Данные корректны. Можно приступать к исследованию."
   ]
  },
  {
   "cell_type": "markdown",
   "metadata": {},
   "source": [
    "[**Вернуться к оглавлению...**](#content)"
   ]
  },
  {
   "cell_type": "markdown",
   "metadata": {},
   "source": [
    "## 1.2. Приоритизация гипотез <a name=\"step_1_2\"></a>"
   ]
  },
  {
   "cell_type": "markdown",
   "metadata": {},
   "source": [
    "Выведем на экран текст с описанием для каждой гипотезы."
   ]
  },
  {
   "cell_type": "code",
   "execution_count": 5,
   "metadata": {},
   "outputs": [
    {
     "name": "stdout",
     "output_type": "stream",
     "text": [
      "0. Добавить два новых канала привлечения трафика, что позволит привлекать на 30% больше пользователей \n",
      "\n",
      "1. Запустить собственную службу доставки, что сократит срок доставки заказов \n",
      "\n",
      "2. Добавить блоки рекомендаций товаров на сайт интернет магазина, чтобы повысить конверсию и средний чек заказа \n",
      "\n",
      "3. Изменить структура категорий, что увеличит конверсию, т.к. пользователи быстрее найдут нужный товар \n",
      "\n",
      "4. Изменить цвет фона главной страницы, чтобы увеличить вовлеченность пользователей \n",
      "\n",
      "5. Добавить страницу отзывов клиентов о магазине, что позволит увеличить количество заказов \n",
      "\n",
      "6. Показать на главной странице баннеры с актуальными акциями и распродажами, чтобы увеличить конверсию \n",
      "\n",
      "7. Добавить форму подписки на все основные страницы, чтобы собрать базу клиентов для email-рассылок \n",
      "\n",
      "8. Запустить акцию, дающую скидку на товар в день рождения \n",
      "\n"
     ]
    }
   ],
   "source": [
    "i = 0\n",
    "for h in hypothesis['Hypothesis']:\n",
    "    print(str(i) + '.', h, '\\n')\n",
    "    i += 1"
   ]
  },
  {
   "cell_type": "markdown",
   "metadata": {},
   "source": [
    "Итак, в нашем распоряжении 9 гипотез. Мы ознакомились с их описанием. Далее рассчитаем `ICE` и `RICE` для каждой из них."
   ]
  },
  {
   "cell_type": "code",
   "execution_count": 6,
   "metadata": {},
   "outputs": [],
   "source": [
    "hypothesis['ICE'] = (hypothesis['Impact'] * \n",
    "                     hypothesis['Confidence']) / hypothesis['Efforts']\n",
    "\n",
    "hypothesis['RICE'] = (hypothesis['Reach'] * hypothesis['Impact'] *\n",
    "                      hypothesis['Confidence']) / hypothesis['Efforts']"
   ]
  },
  {
   "cell_type": "markdown",
   "metadata": {},
   "source": [
    "Выведем на экран гипотезы с отсортированным, в порядке убывания, параметром `ICE`."
   ]
  },
  {
   "cell_type": "code",
   "execution_count": 7,
   "metadata": {},
   "outputs": [
    {
     "data": {
      "text/html": [
       "<div>\n",
       "<style scoped>\n",
       "    .dataframe tbody tr th:only-of-type {\n",
       "        vertical-align: middle;\n",
       "    }\n",
       "\n",
       "    .dataframe tbody tr th {\n",
       "        vertical-align: top;\n",
       "    }\n",
       "\n",
       "    .dataframe thead th {\n",
       "        text-align: right;\n",
       "    }\n",
       "</style>\n",
       "<table border=\"1\" class=\"dataframe\">\n",
       "  <thead>\n",
       "    <tr style=\"text-align: right;\">\n",
       "      <th></th>\n",
       "      <th>Hypothesis</th>\n",
       "      <th>ICE</th>\n",
       "    </tr>\n",
       "  </thead>\n",
       "  <tbody>\n",
       "    <tr>\n",
       "      <td>8</td>\n",
       "      <td>Запустить акцию, дающую скидку на товар в день...</td>\n",
       "      <td>16.200000</td>\n",
       "    </tr>\n",
       "    <tr>\n",
       "      <td>0</td>\n",
       "      <td>Добавить два новых канала привлечения трафика,...</td>\n",
       "      <td>13.333333</td>\n",
       "    </tr>\n",
       "    <tr>\n",
       "      <td>7</td>\n",
       "      <td>Добавить форму подписки на все основные страни...</td>\n",
       "      <td>11.200000</td>\n",
       "    </tr>\n",
       "    <tr>\n",
       "      <td>6</td>\n",
       "      <td>Показать на главной странице баннеры с актуаль...</td>\n",
       "      <td>8.000000</td>\n",
       "    </tr>\n",
       "    <tr>\n",
       "      <td>2</td>\n",
       "      <td>Добавить блоки рекомендаций товаров на сайт ин...</td>\n",
       "      <td>7.000000</td>\n",
       "    </tr>\n",
       "    <tr>\n",
       "      <td>1</td>\n",
       "      <td>Запустить собственную службу доставки, что сок...</td>\n",
       "      <td>2.000000</td>\n",
       "    </tr>\n",
       "    <tr>\n",
       "      <td>5</td>\n",
       "      <td>Добавить страницу отзывов клиентов о магазине,...</td>\n",
       "      <td>1.333333</td>\n",
       "    </tr>\n",
       "    <tr>\n",
       "      <td>3</td>\n",
       "      <td>Изменить структура категорий, что увеличит кон...</td>\n",
       "      <td>1.125000</td>\n",
       "    </tr>\n",
       "    <tr>\n",
       "      <td>4</td>\n",
       "      <td>Изменить цвет фона главной страницы, чтобы уве...</td>\n",
       "      <td>1.000000</td>\n",
       "    </tr>\n",
       "  </tbody>\n",
       "</table>\n",
       "</div>"
      ],
      "text/plain": [
       "                                          Hypothesis        ICE\n",
       "8  Запустить акцию, дающую скидку на товар в день...  16.200000\n",
       "0  Добавить два новых канала привлечения трафика,...  13.333333\n",
       "7  Добавить форму подписки на все основные страни...  11.200000\n",
       "6  Показать на главной странице баннеры с актуаль...   8.000000\n",
       "2  Добавить блоки рекомендаций товаров на сайт ин...   7.000000\n",
       "1  Запустить собственную службу доставки, что сок...   2.000000\n",
       "5  Добавить страницу отзывов клиентов о магазине,...   1.333333\n",
       "3  Изменить структура категорий, что увеличит кон...   1.125000\n",
       "4  Изменить цвет фона главной страницы, чтобы уве...   1.000000"
      ]
     },
     "execution_count": 7,
     "metadata": {},
     "output_type": "execute_result"
    }
   ],
   "source": [
    "hypothesis[['Hypothesis', 'ICE']].sort_values(by = 'ICE', ascending = False)"
   ]
  },
  {
   "cell_type": "markdown",
   "metadata": {},
   "source": [
    "Мы видим, что на данном этапе исследования самой перспективной гипотезой является гипотеза под номером 8. Затем идут гипотезы 0, 7 и 6."
   ]
  },
  {
   "cell_type": "markdown",
   "metadata": {},
   "source": [
    "Выведем на экран гипотезы с отсортированным, в порядке убывания, параметром `RICE`."
   ]
  },
  {
   "cell_type": "code",
   "execution_count": 8,
   "metadata": {},
   "outputs": [
    {
     "data": {
      "text/html": [
       "<div>\n",
       "<style scoped>\n",
       "    .dataframe tbody tr th:only-of-type {\n",
       "        vertical-align: middle;\n",
       "    }\n",
       "\n",
       "    .dataframe tbody tr th {\n",
       "        vertical-align: top;\n",
       "    }\n",
       "\n",
       "    .dataframe thead th {\n",
       "        text-align: right;\n",
       "    }\n",
       "</style>\n",
       "<table border=\"1\" class=\"dataframe\">\n",
       "  <thead>\n",
       "    <tr style=\"text-align: right;\">\n",
       "      <th></th>\n",
       "      <th>Hypothesis</th>\n",
       "      <th>RICE</th>\n",
       "    </tr>\n",
       "  </thead>\n",
       "  <tbody>\n",
       "    <tr>\n",
       "      <td>7</td>\n",
       "      <td>Добавить форму подписки на все основные страни...</td>\n",
       "      <td>112.0</td>\n",
       "    </tr>\n",
       "    <tr>\n",
       "      <td>2</td>\n",
       "      <td>Добавить блоки рекомендаций товаров на сайт ин...</td>\n",
       "      <td>56.0</td>\n",
       "    </tr>\n",
       "    <tr>\n",
       "      <td>0</td>\n",
       "      <td>Добавить два новых канала привлечения трафика,...</td>\n",
       "      <td>40.0</td>\n",
       "    </tr>\n",
       "    <tr>\n",
       "      <td>6</td>\n",
       "      <td>Показать на главной странице баннеры с актуаль...</td>\n",
       "      <td>40.0</td>\n",
       "    </tr>\n",
       "    <tr>\n",
       "      <td>8</td>\n",
       "      <td>Запустить акцию, дающую скидку на товар в день...</td>\n",
       "      <td>16.2</td>\n",
       "    </tr>\n",
       "    <tr>\n",
       "      <td>3</td>\n",
       "      <td>Изменить структура категорий, что увеличит кон...</td>\n",
       "      <td>9.0</td>\n",
       "    </tr>\n",
       "    <tr>\n",
       "      <td>1</td>\n",
       "      <td>Запустить собственную службу доставки, что сок...</td>\n",
       "      <td>4.0</td>\n",
       "    </tr>\n",
       "    <tr>\n",
       "      <td>5</td>\n",
       "      <td>Добавить страницу отзывов клиентов о магазине,...</td>\n",
       "      <td>4.0</td>\n",
       "    </tr>\n",
       "    <tr>\n",
       "      <td>4</td>\n",
       "      <td>Изменить цвет фона главной страницы, чтобы уве...</td>\n",
       "      <td>3.0</td>\n",
       "    </tr>\n",
       "  </tbody>\n",
       "</table>\n",
       "</div>"
      ],
      "text/plain": [
       "                                          Hypothesis   RICE\n",
       "7  Добавить форму подписки на все основные страни...  112.0\n",
       "2  Добавить блоки рекомендаций товаров на сайт ин...   56.0\n",
       "0  Добавить два новых канала привлечения трафика,...   40.0\n",
       "6  Показать на главной странице баннеры с актуаль...   40.0\n",
       "8  Запустить акцию, дающую скидку на товар в день...   16.2\n",
       "3  Изменить структура категорий, что увеличит кон...    9.0\n",
       "1  Запустить собственную службу доставки, что сок...    4.0\n",
       "5  Добавить страницу отзывов клиентов о магазине,...    4.0\n",
       "4  Изменить цвет фона главной страницы, чтобы уве...    3.0"
      ]
     },
     "execution_count": 8,
     "metadata": {},
     "output_type": "execute_result"
    }
   ],
   "source": [
    "hypothesis[['Hypothesis', 'RICE']].sort_values(by = 'RICE', ascending = False)"
   ]
  },
  {
   "cell_type": "markdown",
   "metadata": {},
   "source": [
    "Расчёт параметра `RICE` показал отличный от `ICE` результат. С учётом охвата пользователей самой перспективной гипотезой является гипотеза под номером 7. Далее идут гипотезы 2, 0 и 6."
   ]
  },
  {
   "cell_type": "code",
   "execution_count": 9,
   "metadata": {
    "scrolled": true
   },
   "outputs": [
    {
     "data": {
      "text/html": [
       "<div>\n",
       "<style scoped>\n",
       "    .dataframe tbody tr th:only-of-type {\n",
       "        vertical-align: middle;\n",
       "    }\n",
       "\n",
       "    .dataframe tbody tr th {\n",
       "        vertical-align: top;\n",
       "    }\n",
       "\n",
       "    .dataframe thead th {\n",
       "        text-align: right;\n",
       "    }\n",
       "</style>\n",
       "<table border=\"1\" class=\"dataframe\">\n",
       "  <thead>\n",
       "    <tr style=\"text-align: right;\">\n",
       "      <th></th>\n",
       "      <th>Hypothesis</th>\n",
       "      <th>Reach</th>\n",
       "      <th>Impact</th>\n",
       "      <th>Confidence</th>\n",
       "      <th>Efforts</th>\n",
       "      <th>ICE</th>\n",
       "      <th>RICE</th>\n",
       "    </tr>\n",
       "  </thead>\n",
       "  <tbody>\n",
       "    <tr>\n",
       "      <td>0</td>\n",
       "      <td>Добавить два новых канала привлечения трафика,...</td>\n",
       "      <td>3</td>\n",
       "      <td>10</td>\n",
       "      <td>8</td>\n",
       "      <td>6</td>\n",
       "      <td>13.333333</td>\n",
       "      <td>40.0</td>\n",
       "    </tr>\n",
       "    <tr>\n",
       "      <td>1</td>\n",
       "      <td>Запустить собственную службу доставки, что сок...</td>\n",
       "      <td>2</td>\n",
       "      <td>5</td>\n",
       "      <td>4</td>\n",
       "      <td>10</td>\n",
       "      <td>2.000000</td>\n",
       "      <td>4.0</td>\n",
       "    </tr>\n",
       "    <tr>\n",
       "      <td>2</td>\n",
       "      <td>Добавить блоки рекомендаций товаров на сайт ин...</td>\n",
       "      <td>8</td>\n",
       "      <td>3</td>\n",
       "      <td>7</td>\n",
       "      <td>3</td>\n",
       "      <td>7.000000</td>\n",
       "      <td>56.0</td>\n",
       "    </tr>\n",
       "    <tr>\n",
       "      <td>3</td>\n",
       "      <td>Изменить структура категорий, что увеличит кон...</td>\n",
       "      <td>8</td>\n",
       "      <td>3</td>\n",
       "      <td>3</td>\n",
       "      <td>8</td>\n",
       "      <td>1.125000</td>\n",
       "      <td>9.0</td>\n",
       "    </tr>\n",
       "    <tr>\n",
       "      <td>4</td>\n",
       "      <td>Изменить цвет фона главной страницы, чтобы уве...</td>\n",
       "      <td>3</td>\n",
       "      <td>1</td>\n",
       "      <td>1</td>\n",
       "      <td>1</td>\n",
       "      <td>1.000000</td>\n",
       "      <td>3.0</td>\n",
       "    </tr>\n",
       "    <tr>\n",
       "      <td>5</td>\n",
       "      <td>Добавить страницу отзывов клиентов о магазине,...</td>\n",
       "      <td>3</td>\n",
       "      <td>2</td>\n",
       "      <td>2</td>\n",
       "      <td>3</td>\n",
       "      <td>1.333333</td>\n",
       "      <td>4.0</td>\n",
       "    </tr>\n",
       "    <tr>\n",
       "      <td>6</td>\n",
       "      <td>Показать на главной странице баннеры с актуаль...</td>\n",
       "      <td>5</td>\n",
       "      <td>3</td>\n",
       "      <td>8</td>\n",
       "      <td>3</td>\n",
       "      <td>8.000000</td>\n",
       "      <td>40.0</td>\n",
       "    </tr>\n",
       "    <tr>\n",
       "      <td>7</td>\n",
       "      <td>Добавить форму подписки на все основные страни...</td>\n",
       "      <td>10</td>\n",
       "      <td>7</td>\n",
       "      <td>8</td>\n",
       "      <td>5</td>\n",
       "      <td>11.200000</td>\n",
       "      <td>112.0</td>\n",
       "    </tr>\n",
       "    <tr>\n",
       "      <td>8</td>\n",
       "      <td>Запустить акцию, дающую скидку на товар в день...</td>\n",
       "      <td>1</td>\n",
       "      <td>9</td>\n",
       "      <td>9</td>\n",
       "      <td>5</td>\n",
       "      <td>16.200000</td>\n",
       "      <td>16.2</td>\n",
       "    </tr>\n",
       "  </tbody>\n",
       "</table>\n",
       "</div>"
      ],
      "text/plain": [
       "                                          Hypothesis  Reach  Impact  \\\n",
       "0  Добавить два новых канала привлечения трафика,...      3      10   \n",
       "1  Запустить собственную службу доставки, что сок...      2       5   \n",
       "2  Добавить блоки рекомендаций товаров на сайт ин...      8       3   \n",
       "3  Изменить структура категорий, что увеличит кон...      8       3   \n",
       "4  Изменить цвет фона главной страницы, чтобы уве...      3       1   \n",
       "5  Добавить страницу отзывов клиентов о магазине,...      3       2   \n",
       "6  Показать на главной странице баннеры с актуаль...      5       3   \n",
       "7  Добавить форму подписки на все основные страни...     10       7   \n",
       "8  Запустить акцию, дающую скидку на товар в день...      1       9   \n",
       "\n",
       "   Confidence  Efforts        ICE   RICE  \n",
       "0           8        6  13.333333   40.0  \n",
       "1           4       10   2.000000    4.0  \n",
       "2           7        3   7.000000   56.0  \n",
       "3           3        8   1.125000    9.0  \n",
       "4           1        1   1.000000    3.0  \n",
       "5           2        3   1.333333    4.0  \n",
       "6           8        3   8.000000   40.0  \n",
       "7           8        5  11.200000  112.0  \n",
       "8           9        5  16.200000   16.2  "
      ]
     },
     "execution_count": 9,
     "metadata": {},
     "output_type": "execute_result"
    }
   ],
   "source": [
    "hypothesis"
   ]
  },
  {
   "cell_type": "markdown",
   "metadata": {},
   "source": [
    "**Вывод:** После расчёта `RICE` наиболее приоритетной гипотезей стала гипотеза под номером 7, так как в отличии от гипотезы под номером 8 она имеет значительно большую оценку по параметру `Reach` (10 против 1) при более низкой оценке параметра `Efforts` (8 против 9)."
   ]
  },
  {
   "cell_type": "markdown",
   "metadata": {},
   "source": [
    "[**Вернуться к оглавлению...**](#content)"
   ]
  },
  {
   "cell_type": "markdown",
   "metadata": {},
   "source": [
    "## 1.3. Вывод <a name=\"step_1_end\"></a>"
   ]
  },
  {
   "cell_type": "markdown",
   "metadata": {},
   "source": [
    "1. Данные датафрейма `hypothesis` были проверены на корректность. Результат проверки показал, что данные полностью корректны.\n",
    "\n",
    "\n",
    "2. Далее был произведён расчёт параметров `ICE` и `RICE` для каждой из гипотез. При расчёте параметра `ICE` наиболее перспективной гипотезой стала гипотеза под номером 8. После расчёта параметра `RICE` более приоритетной стала гипотеза под номером 7. Связано это с тем, что гипотеза под номером 7, в отличии от гипотезы под номером 8, имеет значительно большую оценку по параметру `Reach` (10 против 1) при более низкой оценке параметра `Efforts` (8 против 9)."
   ]
  },
  {
   "cell_type": "markdown",
   "metadata": {},
   "source": [
    "[**Вернуться к оглавлению...**](#content)"
   ]
  },
  {
   "cell_type": "markdown",
   "metadata": {},
   "source": [
    "# Часть 2. Часть 2. Анализ A/B-теста <a name=\"step_2\"></a>"
   ]
  },
  {
   "cell_type": "markdown",
   "metadata": {},
   "source": [
    "### Изучение вдходных данных <a name=\"step_2_00\"></a>"
   ]
  },
  {
   "cell_type": "markdown",
   "metadata": {},
   "source": [
    "Чтение файлов с входными данными."
   ]
  },
  {
   "cell_type": "code",
   "execution_count": 10,
   "metadata": {},
   "outputs": [],
   "source": [
    "orders = pd.read_csv('../project_datasets/orders.csv')\n",
    "visitors = pd.read_csv('../project_datasets/visitors.csv')"
   ]
  },
  {
   "cell_type": "markdown",
   "metadata": {},
   "source": [
    "Вывод нескольких строк датафрейма `orders` на экран."
   ]
  },
  {
   "cell_type": "markdown",
   "metadata": {},
   "source": [
    "Получение общей информации о датафрейме `orders`."
   ]
  },
  {
   "cell_type": "code",
   "execution_count": 11,
   "metadata": {},
   "outputs": [
    {
     "name": "stdout",
     "output_type": "stream",
     "text": [
      "<class 'pandas.core.frame.DataFrame'>\n",
      "RangeIndex: 1197 entries, 0 to 1196\n",
      "Data columns (total 5 columns):\n",
      "transactionId    1197 non-null int64\n",
      "visitorId        1197 non-null int64\n",
      "date             1197 non-null object\n",
      "revenue          1197 non-null int64\n",
      "group            1197 non-null object\n",
      "dtypes: int64(3), object(2)\n",
      "memory usage: 46.9+ KB\n"
     ]
    }
   ],
   "source": [
    "orders.info()"
   ]
  },
  {
   "cell_type": "markdown",
   "metadata": {},
   "source": [
    "Вывод нескольких строк датафрейма `visitors` на экран."
   ]
  },
  {
   "cell_type": "code",
   "execution_count": 12,
   "metadata": {},
   "outputs": [
    {
     "data": {
      "text/html": [
       "<div>\n",
       "<style scoped>\n",
       "    .dataframe tbody tr th:only-of-type {\n",
       "        vertical-align: middle;\n",
       "    }\n",
       "\n",
       "    .dataframe tbody tr th {\n",
       "        vertical-align: top;\n",
       "    }\n",
       "\n",
       "    .dataframe thead th {\n",
       "        text-align: right;\n",
       "    }\n",
       "</style>\n",
       "<table border=\"1\" class=\"dataframe\">\n",
       "  <thead>\n",
       "    <tr style=\"text-align: right;\">\n",
       "      <th></th>\n",
       "      <th>date</th>\n",
       "      <th>group</th>\n",
       "      <th>visitors</th>\n",
       "    </tr>\n",
       "  </thead>\n",
       "  <tbody>\n",
       "    <tr>\n",
       "      <td>0</td>\n",
       "      <td>2019-08-01</td>\n",
       "      <td>A</td>\n",
       "      <td>719</td>\n",
       "    </tr>\n",
       "    <tr>\n",
       "      <td>1</td>\n",
       "      <td>2019-08-02</td>\n",
       "      <td>A</td>\n",
       "      <td>619</td>\n",
       "    </tr>\n",
       "    <tr>\n",
       "      <td>2</td>\n",
       "      <td>2019-08-03</td>\n",
       "      <td>A</td>\n",
       "      <td>507</td>\n",
       "    </tr>\n",
       "    <tr>\n",
       "      <td>3</td>\n",
       "      <td>2019-08-04</td>\n",
       "      <td>A</td>\n",
       "      <td>717</td>\n",
       "    </tr>\n",
       "    <tr>\n",
       "      <td>4</td>\n",
       "      <td>2019-08-05</td>\n",
       "      <td>A</td>\n",
       "      <td>756</td>\n",
       "    </tr>\n",
       "    <tr>\n",
       "      <td>...</td>\n",
       "      <td>...</td>\n",
       "      <td>...</td>\n",
       "      <td>...</td>\n",
       "    </tr>\n",
       "    <tr>\n",
       "      <td>57</td>\n",
       "      <td>2019-08-27</td>\n",
       "      <td>B</td>\n",
       "      <td>720</td>\n",
       "    </tr>\n",
       "    <tr>\n",
       "      <td>58</td>\n",
       "      <td>2019-08-28</td>\n",
       "      <td>B</td>\n",
       "      <td>654</td>\n",
       "    </tr>\n",
       "    <tr>\n",
       "      <td>59</td>\n",
       "      <td>2019-08-29</td>\n",
       "      <td>B</td>\n",
       "      <td>531</td>\n",
       "    </tr>\n",
       "    <tr>\n",
       "      <td>60</td>\n",
       "      <td>2019-08-30</td>\n",
       "      <td>B</td>\n",
       "      <td>490</td>\n",
       "    </tr>\n",
       "    <tr>\n",
       "      <td>61</td>\n",
       "      <td>2019-08-31</td>\n",
       "      <td>B</td>\n",
       "      <td>718</td>\n",
       "    </tr>\n",
       "  </tbody>\n",
       "</table>\n",
       "<p>62 rows × 3 columns</p>\n",
       "</div>"
      ],
      "text/plain": [
       "          date group  visitors\n",
       "0   2019-08-01     A       719\n",
       "1   2019-08-02     A       619\n",
       "2   2019-08-03     A       507\n",
       "3   2019-08-04     A       717\n",
       "4   2019-08-05     A       756\n",
       "..         ...   ...       ...\n",
       "57  2019-08-27     B       720\n",
       "58  2019-08-28     B       654\n",
       "59  2019-08-29     B       531\n",
       "60  2019-08-30     B       490\n",
       "61  2019-08-31     B       718\n",
       "\n",
       "[62 rows x 3 columns]"
      ]
     },
     "execution_count": 12,
     "metadata": {},
     "output_type": "execute_result"
    }
   ],
   "source": [
    "visitors"
   ]
  },
  {
   "cell_type": "markdown",
   "metadata": {},
   "source": [
    "Получение общей информации о датафрейме `visitors`."
   ]
  },
  {
   "cell_type": "code",
   "execution_count": 13,
   "metadata": {},
   "outputs": [
    {
     "name": "stdout",
     "output_type": "stream",
     "text": [
      "<class 'pandas.core.frame.DataFrame'>\n",
      "RangeIndex: 62 entries, 0 to 61\n",
      "Data columns (total 3 columns):\n",
      "date        62 non-null object\n",
      "group       62 non-null object\n",
      "visitors    62 non-null int64\n",
      "dtypes: int64(1), object(2)\n",
      "memory usage: 1.6+ KB\n"
     ]
    }
   ],
   "source": [
    "visitors.info()"
   ]
  },
  {
   "cell_type": "markdown",
   "metadata": {},
   "source": [
    "Для удобства переименуем некоторые параметры."
   ]
  },
  {
   "cell_type": "code",
   "execution_count": 14,
   "metadata": {},
   "outputs": [],
   "source": [
    "orders = orders.rename(\n",
    "    columns = {'transactionId': 'order_id', 'visitorId': 'visitor_id'})"
   ]
  },
  {
   "cell_type": "markdown",
   "metadata": {},
   "source": [
    "Приведём параметр `date` в датафреймах `orders` и `visitors` к типу данных `datetime64`."
   ]
  },
  {
   "cell_type": "code",
   "execution_count": 15,
   "metadata": {},
   "outputs": [],
   "source": [
    "orders['date'] = orders['date'].map(lambda x: dt.datetime.strptime(x, '%Y-%m-%d'))\n",
    "visitors['date'] = visitors['date'].map(lambda x: dt.datetime.strptime(x , '%Y-%m-%d'))"
   ]
  },
  {
   "cell_type": "markdown",
   "metadata": {},
   "source": [
    "**Вывод:** Данные корректны. Можно приступать к исследованию."
   ]
  },
  {
   "cell_type": "markdown",
   "metadata": {},
   "source": [
    "[**Вернуться к оглавлению...**](#content)"
   ]
  },
  {
   "cell_type": "markdown",
   "metadata": {},
   "source": [
    "### Расчёт куммулятивных метрик <a name=\"step_2_01\"></a>"
   ]
  },
  {
   "cell_type": "markdown",
   "metadata": {},
   "source": [
    "Создадим датафрейм `orders_daily_A`, в котором для каждой выбранной даты рассчитаем количество транзакций и суммарную выручку для группы A."
   ]
  },
  {
   "cell_type": "code",
   "execution_count": 16,
   "metadata": {},
   "outputs": [],
   "source": [
    "orders_daily_A = (orders[orders['group'] == 'A']\n",
    "                  [['date', 'order_id', 'revenue']]\n",
    "                  .groupby('date', as_index = False)\n",
    "                  .agg({'order_id': 'nunique', 'revenue': 'sum'}))\n",
    "orders_daily_A.columns = ['date', 'orders_per_date_A', 'revenue_per_date_A']"
   ]
  },
  {
   "cell_type": "markdown",
   "metadata": {},
   "source": [
    "Создадим датафрейм `orders_cummulative_A`, в котором рассчитаем количество транзакций и суммарную выручку до выбранной даты включительно для группы A."
   ]
  },
  {
   "cell_type": "code",
   "execution_count": 17,
   "metadata": {},
   "outputs": [],
   "source": [
    "orders_cummulative_A = orders_daily_A.apply(\n",
    "    lambda x: orders_daily_A[orders_daily_A['date'] <= x['date']]\n",
    "    .agg({'date': 'max', 'orders_per_date_A': 'sum','revenue_per_date_A': 'sum'}), axis = 1)\n",
    "orders_cummulative_A.columns = ['date', 'orders_cummulative_A', 'revenue_cummulative_A']"
   ]
  },
  {
   "cell_type": "markdown",
   "metadata": {},
   "source": [
    "Создадим датафрейм `orders_daily_B`, в котором для каждой выбранной даты рассчитаем количество транзакций и суммарную выручку для группы B."
   ]
  },
  {
   "cell_type": "code",
   "execution_count": 18,
   "metadata": {},
   "outputs": [],
   "source": [
    "orders_daily_B = (orders[orders['group'] == 'B']\n",
    "                  [['date', 'order_id', 'revenue']]\n",
    "                  .groupby('date', as_index = False)\n",
    "                  .agg({'order_id': 'nunique', 'revenue': 'sum'}))\n",
    "orders_daily_B.columns = ['date', 'orders_per_date_B', 'revenue_per_date_B']"
   ]
  },
  {
   "cell_type": "markdown",
   "metadata": {},
   "source": [
    "Создадим датафрейм `orders_cummulative_B`, в котором рассчитаем количество транзакций и суммарную выручку до выбранной даты включительно для группы B."
   ]
  },
  {
   "cell_type": "code",
   "execution_count": 19,
   "metadata": {},
   "outputs": [],
   "source": [
    "orders_cummulative_B = orders_daily_B.apply(\n",
    "    lambda x: orders_daily_B[orders_daily_B['date'] <= x['date']]\n",
    "    .agg({'date': 'max', 'orders_per_date_B': 'sum','revenue_per_date_B': 'sum'}), axis = 1)\n",
    "orders_cummulative_B.columns = ['date', 'orders_cummulative_B', 'revenue_cummulative_B']"
   ]
  },
  {
   "cell_type": "markdown",
   "metadata": {},
   "source": [
    "Создадим датафрейм `visitors_daily_A`, в котором рассчитаем суммарное количество посетителей для выбранной даты в группе A."
   ]
  },
  {
   "cell_type": "code",
   "execution_count": 20,
   "metadata": {},
   "outputs": [],
   "source": [
    "visitors_daily_A = (\n",
    "    visitors[visitors['group'] == 'A']\n",
    "    [['date', 'visitors']].groupby('date')['visitors'].sum().reset_index())\n",
    "visitors_daily_A.columns = ['date', 'visitors_per_date_A']"
   ]
  },
  {
   "cell_type": "markdown",
   "metadata": {},
   "source": [
    "Создадим датафрейм `visitors_cummulative_A`, в котором рассчитаем суммарное количество посетителей до выбранной даты в группе A."
   ]
  },
  {
   "cell_type": "code",
   "execution_count": 21,
   "metadata": {},
   "outputs": [],
   "source": [
    "visitors_cummulative_A = visitors_daily_A.apply(\n",
    "    lambda x: visitors_daily_A[visitors_daily_A['date'] <= x['date']]\n",
    "    .agg({'date': 'max', 'visitors_per_date_A': 'sum'}), axis = 1)\n",
    "visitors_cummulative_A.columns = ['date', 'visitors_cummulative_A']"
   ]
  },
  {
   "cell_type": "markdown",
   "metadata": {},
   "source": [
    "Создадим датафрейм `visitors_daily_B`, в котором рассчитаем суммарное количество посетителей для выбранной даты в группе B."
   ]
  },
  {
   "cell_type": "code",
   "execution_count": 22,
   "metadata": {},
   "outputs": [],
   "source": [
    "visitors_daily_B = (\n",
    "    visitors[visitors['group'] == 'B']\n",
    "    [['date', 'visitors']].groupby('date')['visitors'].sum().reset_index())\n",
    "visitors_daily_B.columns = ['date', 'visitors_per_date_B']"
   ]
  },
  {
   "cell_type": "markdown",
   "metadata": {},
   "source": [
    "Создадим датафрейм `visitors_cummulative_B`, в котором рассчитаем суммарное количество посетителей до выбранной даты в группе B."
   ]
  },
  {
   "cell_type": "code",
   "execution_count": 23,
   "metadata": {},
   "outputs": [],
   "source": [
    "visitors_cummulative_B = visitors_daily_B.apply(\n",
    "    lambda x: visitors_daily_B[visitors_daily_B['date'] <= x['date']]\n",
    "    .agg({'date': 'max', 'visitors_per_date_B': 'sum'}), axis = 1)\n",
    "visitors_cummulative_B.columns = ['date', 'visitors_cummulative_B']"
   ]
  },
  {
   "cell_type": "markdown",
   "metadata": {},
   "source": [
    "Создадим единый датафрейм `df`, который будет включать в себя датафреймы:\n",
    "\n",
    "* `orders_daily_A`\n",
    "\n",
    "\n",
    "* `orders_daily_B`\n",
    "\n",
    "\n",
    "* `orders_cummulative_A`\n",
    "\n",
    "\n",
    "* `orders_cummulative_B`\n",
    "\n",
    "\n",
    "* `visitors_daily_A`\n",
    "\n",
    "\n",
    "* `visitors_daily_B`\n",
    "\n",
    "\n",
    "* `visitors_cummulative_A`\n",
    "\n",
    "\n",
    "* `visitors_cummulative_B`"
   ]
  },
  {
   "cell_type": "code",
   "execution_count": 24,
   "metadata": {},
   "outputs": [],
   "source": [
    "df = (orders_daily_A\n",
    "      .merge(orders_daily_B, how = 'left', on = 'date')\n",
    "      .merge(orders_cummulative_A, how = 'left', on = 'date')\n",
    "      .merge(orders_cummulative_B, how = 'left', on = 'date')\n",
    "      .merge(visitors_daily_A, how = 'left', on = 'date')\n",
    "      .merge(visitors_daily_B, how = 'left', on = 'date')\n",
    "      .merge(visitors_cummulative_A, how = 'left', on = 'date')\n",
    "      .merge(visitors_cummulative_B, how = 'left', on = 'date'))"
   ]
  },
  {
   "cell_type": "markdown",
   "metadata": {},
   "source": [
    "Выведем на экран несколько строк датафрейма `df` и приведём описание данных полученного датафрейма."
   ]
  },
  {
   "cell_type": "code",
   "execution_count": 25,
   "metadata": {},
   "outputs": [
    {
     "data": {
      "text/html": [
       "<div>\n",
       "<style scoped>\n",
       "    .dataframe tbody tr th:only-of-type {\n",
       "        vertical-align: middle;\n",
       "    }\n",
       "\n",
       "    .dataframe tbody tr th {\n",
       "        vertical-align: top;\n",
       "    }\n",
       "\n",
       "    .dataframe thead th {\n",
       "        text-align: right;\n",
       "    }\n",
       "</style>\n",
       "<table border=\"1\" class=\"dataframe\">\n",
       "  <thead>\n",
       "    <tr style=\"text-align: right;\">\n",
       "      <th></th>\n",
       "      <th>date</th>\n",
       "      <th>orders_per_date_A</th>\n",
       "      <th>revenue_per_date_A</th>\n",
       "      <th>orders_per_date_B</th>\n",
       "      <th>revenue_per_date_B</th>\n",
       "      <th>orders_cummulative_A</th>\n",
       "      <th>revenue_cummulative_A</th>\n",
       "      <th>orders_cummulative_B</th>\n",
       "      <th>revenue_cummulative_B</th>\n",
       "      <th>visitors_per_date_A</th>\n",
       "      <th>visitors_per_date_B</th>\n",
       "      <th>visitors_cummulative_A</th>\n",
       "      <th>visitors_cummulative_B</th>\n",
       "    </tr>\n",
       "  </thead>\n",
       "  <tbody>\n",
       "    <tr>\n",
       "      <td>0</td>\n",
       "      <td>2019-08-01</td>\n",
       "      <td>24</td>\n",
       "      <td>148579</td>\n",
       "      <td>21</td>\n",
       "      <td>101217</td>\n",
       "      <td>24</td>\n",
       "      <td>148579</td>\n",
       "      <td>21</td>\n",
       "      <td>101217</td>\n",
       "      <td>719</td>\n",
       "      <td>713</td>\n",
       "      <td>719</td>\n",
       "      <td>713</td>\n",
       "    </tr>\n",
       "    <tr>\n",
       "      <td>1</td>\n",
       "      <td>2019-08-02</td>\n",
       "      <td>20</td>\n",
       "      <td>93822</td>\n",
       "      <td>24</td>\n",
       "      <td>165531</td>\n",
       "      <td>44</td>\n",
       "      <td>242401</td>\n",
       "      <td>45</td>\n",
       "      <td>266748</td>\n",
       "      <td>619</td>\n",
       "      <td>581</td>\n",
       "      <td>1338</td>\n",
       "      <td>1294</td>\n",
       "    </tr>\n",
       "    <tr>\n",
       "      <td>2</td>\n",
       "      <td>2019-08-03</td>\n",
       "      <td>24</td>\n",
       "      <td>112473</td>\n",
       "      <td>16</td>\n",
       "      <td>114248</td>\n",
       "      <td>68</td>\n",
       "      <td>354874</td>\n",
       "      <td>61</td>\n",
       "      <td>380996</td>\n",
       "      <td>507</td>\n",
       "      <td>509</td>\n",
       "      <td>1845</td>\n",
       "      <td>1803</td>\n",
       "    </tr>\n",
       "    <tr>\n",
       "      <td>3</td>\n",
       "      <td>2019-08-04</td>\n",
       "      <td>16</td>\n",
       "      <td>70825</td>\n",
       "      <td>17</td>\n",
       "      <td>108571</td>\n",
       "      <td>84</td>\n",
       "      <td>425699</td>\n",
       "      <td>78</td>\n",
       "      <td>489567</td>\n",
       "      <td>717</td>\n",
       "      <td>770</td>\n",
       "      <td>2562</td>\n",
       "      <td>2573</td>\n",
       "    </tr>\n",
       "    <tr>\n",
       "      <td>4</td>\n",
       "      <td>2019-08-05</td>\n",
       "      <td>25</td>\n",
       "      <td>124218</td>\n",
       "      <td>23</td>\n",
       "      <td>92428</td>\n",
       "      <td>109</td>\n",
       "      <td>549917</td>\n",
       "      <td>101</td>\n",
       "      <td>581995</td>\n",
       "      <td>756</td>\n",
       "      <td>707</td>\n",
       "      <td>3318</td>\n",
       "      <td>3280</td>\n",
       "    </tr>\n",
       "  </tbody>\n",
       "</table>\n",
       "</div>"
      ],
      "text/plain": [
       "        date  orders_per_date_A  revenue_per_date_A  orders_per_date_B  \\\n",
       "0 2019-08-01                 24              148579                 21   \n",
       "1 2019-08-02                 20               93822                 24   \n",
       "2 2019-08-03                 24              112473                 16   \n",
       "3 2019-08-04                 16               70825                 17   \n",
       "4 2019-08-05                 25              124218                 23   \n",
       "\n",
       "   revenue_per_date_B  orders_cummulative_A  revenue_cummulative_A  \\\n",
       "0              101217                    24                 148579   \n",
       "1              165531                    44                 242401   \n",
       "2              114248                    68                 354874   \n",
       "3              108571                    84                 425699   \n",
       "4               92428                   109                 549917   \n",
       "\n",
       "   orders_cummulative_B  revenue_cummulative_B  visitors_per_date_A  \\\n",
       "0                    21                 101217                  719   \n",
       "1                    45                 266748                  619   \n",
       "2                    61                 380996                  507   \n",
       "3                    78                 489567                  717   \n",
       "4                   101                 581995                  756   \n",
       "\n",
       "   visitors_per_date_B  visitors_cummulative_A  visitors_cummulative_B  \n",
       "0                  713                     719                     713  \n",
       "1                  581                    1338                    1294  \n",
       "2                  509                    1845                    1803  \n",
       "3                  770                    2562                    2573  \n",
       "4                  707                    3318                    3280  "
      ]
     },
     "execution_count": 25,
     "metadata": {},
     "output_type": "execute_result"
    }
   ],
   "source": [
    "df.head()"
   ]
  },
  {
   "cell_type": "markdown",
   "metadata": {},
   "source": [
    "**Описание данных:**\n",
    "\n",
    "Таблица `df`:\n",
    "\n",
    "* `date` - дата;\n",
    "\n",
    "\n",
    "* `orders_per_date_A` - количество заказов в выбранную дату в группе А;\n",
    "\n",
    "\n",
    "* `revenue_per_date_A` - суммарная выручка в выбранную дату в группе А;\n",
    "\n",
    "\n",
    "* `orders_per_date_B` - количество заказов в выбранную дату в группе B;\n",
    "\n",
    "\n",
    "* `revenue_per_date_B` - суммарная выручка в выбранную дату в группе B;\n",
    "\n",
    "\n",
    "* `orders_cummulative_A` - суммарное число заказов до выбранной даты включительно в группе A;\n",
    "\n",
    "\n",
    "* `revenue_cummulative_A` - суммарная выручка до выбранной даты включительно в группе А;\n",
    "\n",
    "\n",
    "* `orders_cummulative_B` - суммарное число заказов до выбранной даты включительно в группе B;\n",
    "\n",
    "\n",
    "* `revenue_cummulative_B` - суммарная выручка до выбранной даты включительно в группе B;\n",
    "\n",
    "\n",
    "* `visitors_per_date_A` - суммарное число посетителей в выбранную дату в группе A;\n",
    "\n",
    "\n",
    "* `visitors_per_date_B` - суммарное число посетителей в выбранную дату в группе B;\n",
    "\n",
    "\n",
    "* `visitors_cummulative_A` - суммарное число посетителей до выбранной даты включительно в группе A;\n",
    "\n",
    "\n",
    "* `visitors_cummulative_B` - суммарное число посетителей до выбранной даты включительно в группе B."
   ]
  },
  {
   "cell_type": "markdown",
   "metadata": {},
   "source": [
    "[**Вернуться к оглавлению...**](#content)"
   ]
  },
  {
   "cell_type": "markdown",
   "metadata": {},
   "source": [
    "### 2.1. График кумулятивной выручки по группам <a name=\"step_2_1\"></a>"
   ]
  },
  {
   "cell_type": "code",
   "execution_count": 26,
   "metadata": {},
   "outputs": [
    {
     "data": {
      "image/png": "[encoded data removed]",
      "text/plain": [
       "<Figure size 864x288 with 1 Axes>"
      ]
     },
     "metadata": {
      "needs_background": "light"
     },
     "output_type": "display_data"
    }
   ],
   "source": [
    "plt.figure(figsize = (12, 4))\n",
    "plt.plot(df['date'].dt.day, df['revenue_cummulative_A'], label = 'A')\n",
    "plt.plot(df['date'].dt.day, df['revenue_cummulative_B'], label = 'B')\n",
    "plt.title('График кумулятивной выручки по группам (август 2019)')\n",
    "plt.xlabel('days_of_august_2019')\n",
    "plt.ylabel('revenue_cummulative')\n",
    "plt.legend()\n",
    "plt.grid()\n",
    "plt.show()"
   ]
  },
  {
   "cell_type": "markdown",
   "metadata": {},
   "source": [
    "**Вывод:** Выручка почти равномерно увеличивается в течение всего теста. Хороший знак. \n",
    "\n",
    "Однако графики выручки обеих групп в нескольких точках резко растут. Это может сигнализировать о всплесках числа заказов, либо о появлении очень дорогих заказов в выборке. "
   ]
  },
  {
   "cell_type": "markdown",
   "metadata": {},
   "source": [
    "[**Вернуться к оглавлению...**](#content)"
   ]
  },
  {
   "cell_type": "markdown",
   "metadata": {},
   "source": [
    "### 2.2. График кумулятивного среднего чека по группам <a name=\"step_2_2\"></a>"
   ]
  },
  {
   "cell_type": "code",
   "execution_count": 27,
   "metadata": {},
   "outputs": [
    {
     "data": {
      "image/png": "[encoded data removed]",
      "text/plain": [
       "<Figure size 864x288 with 1 Axes>"
      ]
     },
     "metadata": {
      "needs_background": "light"
     },
     "output_type": "display_data"
    }
   ],
   "source": [
    "plt.figure(figsize = (12, 4))\n",
    "plt.plot(df['date'].dt.day,\n",
    "         df['revenue_cummulative_A'] / df['orders_cummulative_A'], label = 'A')\n",
    "plt.plot(df['date'].dt.day,\n",
    "         df['revenue_cummulative_B'] / df['orders_cummulative_B'], label = 'B')\n",
    "plt.title('График кумулятивного среднего чека по группам (август 2019)')\n",
    "plt.xlabel('days_of_august_2019')\n",
    "plt.ylabel('average_check_cummulative')\n",
    "plt.legend()\n",
    "plt.grid()\n",
    "plt.show()"
   ]
  },
  {
   "cell_type": "markdown",
   "metadata": {},
   "source": [
    "**Вывод:** Средний чек группы A становиться равномерным к концу теста. Средний чек группы B во время второй половины теста совершает резкий скачок. Возможно, во второй половине теста в группу B попали очень крупные заказы."
   ]
  },
  {
   "cell_type": "markdown",
   "metadata": {},
   "source": [
    "[**Вернуться к оглавлению...**](#content)"
   ]
  },
  {
   "cell_type": "markdown",
   "metadata": {},
   "source": [
    "### 2.3. График относительного изменения кумулятивного среднего чека группы B к группе A <a name=\"step_2_3\"></a>"
   ]
  },
  {
   "cell_type": "code",
   "execution_count": 28,
   "metadata": {},
   "outputs": [
    {
     "data": {
      "image/png": "[encoded data removed]",
      "text/plain": [
       "<Figure size 864x288 with 1 Axes>"
      ]
     },
     "metadata": {
      "needs_background": "light"
     },
     "output_type": "display_data"
    }
   ],
   "source": [
    "plt.figure(figsize = (12, 4))\n",
    "plt.plot(\n",
    "    df['date'].dt.day,\n",
    "    (df['revenue_cummulative_B'] / df['orders_cummulative_B']) /\n",
    "    (df['revenue_cummulative_A'] / df['orders_cummulative_A']) - 1)\n",
    "plt.axhline(y = 0, color = 'black', linestyle = '--')\n",
    "plt.title('График относительного изменения кумулятивного среднего чека группы B к группе A')\n",
    "plt.xlabel('days_of_august_2019')\n",
    "plt.ylabel('average_check_cummulative')\n",
    "plt.grid()\n",
    "plt.show()"
   ]
  },
  {
   "cell_type": "markdown",
   "metadata": {},
   "source": [
    "**Вывод:** В нескольких точках график резко скачет между сегментами. Вероятнее всего, данные содержат крупные заказы и выбросы."
   ]
  },
  {
   "cell_type": "markdown",
   "metadata": {},
   "source": [
    "[**Вернуться к оглавлению...**](#content)"
   ]
  },
  {
   "cell_type": "markdown",
   "metadata": {},
   "source": [
    "### 2.4. График кумулятивной конверсии по группам <a name=\"step_2_4\"></a>"
   ]
  },
  {
   "cell_type": "code",
   "execution_count": 29,
   "metadata": {},
   "outputs": [
    {
     "data": {
      "image/png": "[encoded data removed]",
      "text/plain": [
       "<Figure size 864x288 with 1 Axes>"
      ]
     },
     "metadata": {
      "needs_background": "light"
     },
     "output_type": "display_data"
    }
   ],
   "source": [
    "plt.figure(figsize = (12, 4))\n",
    "plt.plot(\n",
    "    df['date'].dt.day,\n",
    "    df['orders_cummulative_A'] / df['visitors_cummulative_A'], label = 'A')\n",
    "plt.plot(\n",
    "    df['date'].dt.day,\n",
    "    df['orders_cummulative_B'] / df['visitors_cummulative_B'], label = 'B')\n",
    "plt.title('График кумулятивной конверсии по группам (августу 2019)')\n",
    "plt.xlabel('days_of_august_2019')\n",
    "plt.ylabel('conversion_cummulative')\n",
    "plt.legend()\n",
    "plt.grid()\n",
    "plt.show()"
   ]
  },
  {
   "cell_type": "markdown",
   "metadata": {},
   "source": [
    "**Вывод:** На графике изменения куммулятивной конверсии мы видим, что на второй неделе теста конверсия группы B значительно превосходит конверсию группы A."
   ]
  },
  {
   "cell_type": "markdown",
   "metadata": {},
   "source": [
    "[**Вернуться к оглавлению...**](#content)"
   ]
  },
  {
   "cell_type": "markdown",
   "metadata": {},
   "source": [
    "### 2.5. График относительного изменения кумулятивной конверсии группы B к группе A <a name=\"step_2_5\"></a>"
   ]
  },
  {
   "cell_type": "code",
   "execution_count": 30,
   "metadata": {},
   "outputs": [
    {
     "data": {
      "image/png": "[encoded data removed]",
      "text/plain": [
       "<Figure size 864x288 with 1 Axes>"
      ]
     },
     "metadata": {
      "needs_background": "light"
     },
     "output_type": "display_data"
    }
   ],
   "source": [
    "plt.figure(figsize = (12, 4))\n",
    "plt.plot(\n",
    "    df['date'].dt.day,\n",
    "    (df['orders_cummulative_B'] / df['visitors_cummulative_B']) /\n",
    "    (df['orders_cummulative_A'] / df['visitors_cummulative_A']) - 1)\n",
    "plt.axhline(y = 0, color = 'black', linestyle = '--') \n",
    "plt.title('График относительного изменения кумулятивной конверсии группы B к группе A')\n",
    "plt.xlabel('days_of_august_2019')\n",
    "plt.ylabel('conversion_cummulative')\n",
    "plt.grid()\n",
    "plt.show()"
   ]
  },
  {
   "cell_type": "markdown",
   "metadata": {},
   "source": [
    "**Вывод:** График относительного изменения куммулятивной конверсии подтверждает ранее полученные результаты. Конверсия группы B значительно вырывается вперёд на второй неделе теста."
   ]
  },
  {
   "cell_type": "markdown",
   "metadata": {},
   "source": [
    "[**Вернуться к оглавлению...**](#content)"
   ]
  },
  {
   "cell_type": "markdown",
   "metadata": {},
   "source": [
    "### 2.6. Точечный график количества заказов по пользователям <a name=\"step_2_6\"></a>"
   ]
  },
  {
   "cell_type": "markdown",
   "metadata": {},
   "source": [
    "Создадим датафрейм `orders_by_users`, в котором посчитаем количество заказов для каждого пользователя."
   ]
  },
  {
   "cell_type": "code",
   "execution_count": 31,
   "metadata": {},
   "outputs": [],
   "source": [
    "orders_by_users = (orders\n",
    "                   .groupby(['visitor_id', 'group'], as_index = False)\n",
    "                   .agg({'order_id': 'nunique'}))\n",
    "orders_by_users.columns = ['visitor_id', 'group', 'orders']"
   ]
  },
  {
   "cell_type": "code",
   "execution_count": 32,
   "metadata": {},
   "outputs": [
    {
     "data": {
      "image/png": "[encoded data removed]",
      "text/plain": [
       "<Figure size 864x288 with 1 Axes>"
      ]
     },
     "metadata": {
      "needs_background": "light"
     },
     "output_type": "display_data"
    }
   ],
   "source": [
    "plt.figure(figsize = (12, 4))\n",
    "plt.scatter(pd.Series(\n",
    "    range(0, len(orders_by_users['orders']))), orders_by_users['orders'])\n",
    "plt.title('Точечный график количества заказов по пользователям')\n",
    "plt.xlabel('visitors')\n",
    "plt.ylabel('orders')\n",
    "plt.grid()\n",
    "plt.show()"
   ]
  },
  {
   "cell_type": "markdown",
   "metadata": {},
   "source": [
    "**Вывод:** Большинство пользователей совершили всего один заказ, но пользователей совершивших 2-4 заказа тоже много. Рассчитаем их долю."
   ]
  },
  {
   "cell_type": "markdown",
   "metadata": {},
   "source": [
    "[**Вернуться к оглавлению...**](#content)"
   ]
  },
  {
   "cell_type": "markdown",
   "metadata": {},
   "source": [
    "### 2.7. Расчёт 95-го и 99-го перцентиля количества заказов на пользователя <a name=\"step_2_7\"></a>"
   ]
  },
  {
   "cell_type": "code",
   "execution_count": 33,
   "metadata": {},
   "outputs": [
    {
     "name": "stdout",
     "output_type": "stream",
     "text": [
      "Не более 5% пользователей совершали более: 2 заказов.\n",
      "Не более 1% пользователей совершали более: 4 заказов.\n"
     ]
    }
   ],
   "source": [
    "print('Не более 5% пользователей совершали более: {} заказов.'\n",
    "      .format(int(np.percentile(orders_by_users['orders'], 95))))\n",
    "print('Не более 1% пользователей совершали более: {} заказов.'\n",
    "      .format(int(np.percentile(orders_by_users['orders'], 99))))"
   ]
  },
  {
   "cell_type": "markdown",
   "metadata": {},
   "source": [
    "**Вывод:** Итак, результаты расчёта показали, не более 5% пользователей совершили более 2 заказов. Принимем количество заказов больше 2 на одного пользователя за аномальные значения и отсеим их по найденной границе."
   ]
  },
  {
   "cell_type": "markdown",
   "metadata": {},
   "source": [
    "[**Вернуться к оглавлению...**](#content)"
   ]
  },
  {
   "cell_type": "markdown",
   "metadata": {},
   "source": [
    "### 2.8. Точечный график стоимостей заказов <a name=\"step_2_8\"></a>"
   ]
  },
  {
   "cell_type": "code",
   "execution_count": 34,
   "metadata": {},
   "outputs": [
    {
     "data": {
      "image/png": "[encoded data removed]",
      "text/plain": [
       "<Figure size 864x288 with 1 Axes>"
      ]
     },
     "metadata": {
      "needs_background": "light"
     },
     "output_type": "display_data"
    }
   ],
   "source": [
    "plt.figure(figsize = (12, 4))\n",
    "plt.scatter(pd.Series(range(0, len(orders['revenue']))), orders['revenue'])\n",
    "plt.title('Точечный график стоимостей заказов')\n",
    "plt.xlabel('orders')\n",
    "plt.ylabel('revenue')\n",
    "plt.grid()\n",
    "plt.show()"
   ]
  },
  {
   "cell_type": "markdown",
   "metadata": {},
   "source": [
    "**Вывод:** Мы видим, что на графике присутствует некоторое количество очень дорогих заказов. Рассчитаем процентили, чтобы определить, какие значения являются выбросами."
   ]
  },
  {
   "cell_type": "markdown",
   "metadata": {},
   "source": [
    "[**Вернуться к оглавлению...**](#content)"
   ]
  },
  {
   "cell_type": "markdown",
   "metadata": {},
   "source": [
    "### 2.9. Расчёт 95-го и 99-го перцентиля стоимости заказов <a name=\"step_2_9\"></a>"
   ]
  },
  {
   "cell_type": "code",
   "execution_count": 35,
   "metadata": {},
   "outputs": [
    {
     "name": "stdout",
     "output_type": "stream",
     "text": [
      "Не более 5% заказов дороже: 28000 рублей.\n",
      "Не более 1% заказов дороже: 58233 рублей.\n"
     ]
    }
   ],
   "source": [
    "print('Не более 5% заказов дороже: {} рублей.'\n",
    "      .format(int(np.percentile(orders['revenue'], 95))))\n",
    "print('Не более 1% заказов дороже: {} рублей.'\n",
    "      .format(int(np.percentile(orders['revenue'], 99))))"
   ]
  },
  {
   "cell_type": "markdown",
   "metadata": {},
   "source": [
    "**Вывод:** Итак, результаты расчёта показали, что не более 5% пользователей совершали заказ на сумму свыше 28000 рублей, следовательно. Примем заказы на сумму свыше 28000 рублей за аномальные значения и отсеим их по найденной границе."
   ]
  },
  {
   "cell_type": "markdown",
   "metadata": {},
   "source": [
    "[**Вернуться к оглавлению...**](#content)"
   ]
  },
  {
   "cell_type": "markdown",
   "metadata": {},
   "source": [
    "### 2.10. Расчёт статистической значимости различий в конверсии между группами по «сырым» данным <a name=\"step_2_10\"></a>"
   ]
  },
  {
   "cell_type": "markdown",
   "metadata": {},
   "source": [
    "Создадим датафреймы `orders_by_users_A` и `orders_by_users_B`. В них для пользователей, которые совершили хотя бы 1 заказ посчитаем количество заказов."
   ]
  },
  {
   "cell_type": "code",
   "execution_count": 36,
   "metadata": {},
   "outputs": [],
   "source": [
    "orders_by_users_A = (\n",
    "    orders_by_users[orders_by_users['group'] == 'A']\n",
    "    [['visitor_id', 'orders']].copy())"
   ]
  },
  {
   "cell_type": "code",
   "execution_count": 37,
   "metadata": {},
   "outputs": [],
   "source": [
    "orders_by_users_B = (\n",
    "    orders_by_users[orders_by_users['group'] == 'B']\n",
    "    [['visitor_id', 'orders']].copy())"
   ]
  },
  {
   "cell_type": "markdown",
   "metadata": {},
   "source": [
    "Объявим переменные `sample_A` и `sample_B`, в которых пользователям из разных групп будет соответствовать количество заказов. Тем, кто ничего не заказал, будут соответствовать нули. Это нужно, чтобы подготовить выборки к проверке критерием Манна-Уитни.\n",
    "\n",
    "Переменные `sample_A` и `sample_B` должнs состоять из двух частей:\n",
    "\n",
    "* Список с количеством заказов для каждого из пользователей: `orders_by_usersA['orders']`.\n",
    "\n",
    "\n",
    "* Нули для пользователей, которые ничего не заказывали. Их количество равно разнице между суммой посетителей и количеством записей о заказах (пример расчёта для группы А): `df['visitors_per_date_A'].sum() - len(orders_by_users_A['orders'])`."
   ]
  },
  {
   "cell_type": "code",
   "execution_count": 38,
   "metadata": {},
   "outputs": [],
   "source": [
    "sample_A = pd.concat(\n",
    "    [orders_by_users_A['orders'], \n",
    "     pd.Series(0, name = 'orders', \n",
    "               index = np.arange(\n",
    "                   df['visitors_per_date_A'].sum() - \n",
    "                   len(orders_by_users_A['orders'])))\n",
    "    ], axis = 0)"
   ]
  },
  {
   "cell_type": "code",
   "execution_count": 39,
   "metadata": {},
   "outputs": [],
   "source": [
    "sample_B = pd.concat(\n",
    "    [orders_by_users_B['orders'], \n",
    "     pd.Series(0, name = 'orders', \n",
    "               index = np.arange(\n",
    "                   df['visitors_per_date_B'].sum() - \n",
    "                   len(orders_by_users_B['orders'])))\n",
    "    ], axis = 0)"
   ]
  },
  {
   "cell_type": "markdown",
   "metadata": {},
   "source": [
    "Проверим, существует ли статистически значимое различие между конверсиями в группах A и B."
   ]
  },
  {
   "cell_type": "markdown",
   "metadata": {},
   "source": [
    "<b>Формулировка нулевой гипотезы H<sub>0</sub>:</b> Конверсия  в группе A и конверсия в группе B **равны**.\n",
    "\n",
    "\n",
    "<b>Формулировка альтернативной гипотезы H<sub>1</sub>:</b> Конверсия  в группе A и конверсия в группе B **не равны**."
   ]
  },
  {
   "cell_type": "code",
   "execution_count": 40,
   "metadata": {},
   "outputs": [
    {
     "name": "stdout",
     "output_type": "stream",
     "text": [
      "p-значение: 0.008396177528376304\n",
      "Отвергаем нулевую гипотезу!\n"
     ]
    }
   ],
   "source": [
    "alpha = 0.05\n",
    "\n",
    "results = st.mannwhitneyu(sample_A, sample_B)\n",
    "\n",
    "print('p-значение:', results.pvalue)\n",
    "\n",
    "if (results.pvalue < alpha):\n",
    "    print('Отвергаем нулевую гипотезу!')\n",
    "else:\n",
    "    print('Не получилось отвергнуть нулевую гипотезу!')"
   ]
  },
  {
   "cell_type": "markdown",
   "metadata": {},
   "source": [
    "**Вывод:** В результате статистического расчёта \"сырых\" данных, значение p-value получилось меньше принятного уровня статистической значимости, следовательно, можно сделать вывод о том, что между конверсиями группы A и группы B существует статистически значимое различие."
   ]
  },
  {
   "cell_type": "markdown",
   "metadata": {},
   "source": [
    "Расчёт относительного показателя конверсии."
   ]
  },
  {
   "cell_type": "code",
   "execution_count": 41,
   "metadata": {},
   "outputs": [
    {
     "name": "stdout",
     "output_type": "stream",
     "text": [
      "13.81%\n"
     ]
    }
   ],
   "source": [
    "print(\"{0:.2%}\".format(sample_B.mean() / sample_A.mean() - 1)) "
   ]
  },
  {
   "cell_type": "markdown",
   "metadata": {},
   "source": [
    "**Вывод:** Результат расчёта говорит нам о том, что выигрыш группы B равен 13.81%."
   ]
  },
  {
   "cell_type": "markdown",
   "metadata": {},
   "source": [
    "[**Вернуться к оглавлению...**](#content)"
   ]
  },
  {
   "cell_type": "markdown",
   "metadata": {},
   "source": [
    "### 2.11. Расчёт статистической значимости различий в среднем чеке заказа между группами по «сырым» данным <a name=\"step_2_11\"></a>"
   ]
  },
  {
   "cell_type": "markdown",
   "metadata": {},
   "source": [
    "<b>Формулировка нулевой гипотезы H<sub>0</sub>:</b> Средний чек в группе A и средний чек в группе B **равны**.\n",
    "\n",
    "\n",
    "<b>Формулировка альтернативной гипотезы H<sub>1</sub>:</b> Средний чек в группе A и средний чек в группе B **не равны**."
   ]
  },
  {
   "cell_type": "code",
   "execution_count": 42,
   "metadata": {},
   "outputs": [
    {
     "name": "stdout",
     "output_type": "stream",
     "text": [
      "p-значение: 0.3646454927716229\n",
      "Не получилось отвергнуть нулевую гипотезу!\n"
     ]
    }
   ],
   "source": [
    "alpha = 0.05\n",
    "\n",
    "results = st.mannwhitneyu(\n",
    "    orders[orders['group'] == 'A']['revenue'],\n",
    "    orders[orders['group'] == 'B']['revenue'])\n",
    "\n",
    "print('p-значение:', results.pvalue)\n",
    "\n",
    "if (results.pvalue < alpha):\n",
    "    print('Отвергаем нулевую гипотезу!')\n",
    "else:\n",
    "    print('Не получилось отвергнуть нулевую гипотезу!')"
   ]
  },
  {
   "cell_type": "markdown",
   "metadata": {},
   "source": [
    "**Вывод:** Результат статистического расчёта показал, что в \"сырых данных\" нет статистически значимых различий между средним чеком группы A и группы B."
   ]
  },
  {
   "cell_type": "code",
   "execution_count": 43,
   "metadata": {},
   "outputs": [
    {
     "name": "stdout",
     "output_type": "stream",
     "text": [
      "25.87%\n"
     ]
    }
   ],
   "source": [
    "print('{:.2%}'.format(\n",
    "    orders[orders['group'] == 'B']['revenue'].mean() / \n",
    "    orders[orders['group'] == 'A']['revenue'].mean() - 1))"
   ]
  },
  {
   "cell_type": "markdown",
   "metadata": {},
   "source": [
    "**Вывод:** Однако, расчёт относительного показателя сообщает нам о том, что средний чек группы B в выигрыше на 25.87% относительно среднего чека группы A."
   ]
  },
  {
   "cell_type": "markdown",
   "metadata": {},
   "source": [
    "[**Вернуться к оглавлению...**](#content)"
   ]
  },
  {
   "cell_type": "markdown",
   "metadata": {},
   "source": [
    "### 2.12. Расчёт статистической значимости различий в конверсии между группами по «очищенным» данным <a name=\"step_2_12\"></a>"
   ]
  },
  {
   "cell_type": "markdown",
   "metadata": {},
   "source": [
    "Очистим данные от выбросов. Примем за аномальных пользователей тех, кто совершил от 3 заказов или совершил заказ дороже 28000 рублей. Так мы уберём 5% пользователей с наибольшим числом заказов и 5% пользователей с дорогими заказами.\n",
    "\n",
    "Сделаем срезы пользователей с числом заказов больше 2 — `users_with_many_orders` и пользователей, совершивших заказы дороже 28000 — `users_with_expensive_orders`. Объединим их в таблице `abnormal_users`."
   ]
  },
  {
   "cell_type": "code",
   "execution_count": 44,
   "metadata": {},
   "outputs": [],
   "source": [
    "users_with_many_orders = (\n",
    "    orders_by_users[orders_by_users['orders'] > 2]['visitor_id'])\n",
    "\n",
    "users_with_expensive_orders = (\n",
    "    orders[orders['revenue'] > 28000]['visitor_id'])\n",
    "\n",
    "abnormal_users = pd.concat(\n",
    "    [users_with_many_orders,\n",
    "     users_with_expensive_orders], axis = 0).drop_duplicates().sort_values()"
   ]
  },
  {
   "cell_type": "code",
   "execution_count": 45,
   "metadata": {},
   "outputs": [
    {
     "name": "stdout",
     "output_type": "stream",
     "text": [
      "Количество аномальных пользователей: 74\n"
     ]
    }
   ],
   "source": [
    "print('Количество аномальных пользователей: {}'.format(len(abnormal_users)))"
   ]
  },
  {
   "cell_type": "markdown",
   "metadata": {},
   "source": [
    "Всего 74 аномальных пользователей.\n",
    "\n",
    "Узнаем, как их действия повлияли на результаты теста. Посчитаем статистическую значимость различий в конверсии между группами теста по очищенным данным. Сначала подготовим выборки количества заказов по пользователям по группам теста:"
   ]
  },
  {
   "cell_type": "code",
   "execution_count": 46,
   "metadata": {},
   "outputs": [],
   "source": [
    "sample_A_filtered = pd.concat([\n",
    "    orders_by_users_A[np.logical_not(\n",
    "        orders_by_users_A['visitor_id'].isin(abnormal_users))]['orders'],\n",
    "    pd.Series(0, name = 'orders',\n",
    "              index = np.arange(df['visitors_per_date_A'].sum() - \n",
    "                                len(orders_by_users_A['orders'])))], axis = 0)"
   ]
  },
  {
   "cell_type": "code",
   "execution_count": 47,
   "metadata": {},
   "outputs": [],
   "source": [
    "sample_B_filtered = pd.concat([\n",
    "    orders_by_users_B[np.logical_not(\n",
    "        orders_by_users_B['visitor_id'].isin(abnormal_users))]['orders'],\n",
    "    pd.Series(0, name = 'orders',\n",
    "              index = np.arange(df['visitors_per_date_B'].sum() - \n",
    "                                len(orders_by_users_B['orders'])))], axis = 0)"
   ]
  },
  {
   "cell_type": "markdown",
   "metadata": {},
   "source": [
    "<b>Формулировка нулевой гипотезы H<sub>0</sub>:</b> Конверсия  в группе A и конверсия в группе B **равны**.\n",
    "\n",
    "\n",
    "<b>Формулировка альтернативной гипотезы H<sub>1</sub>:</b> Конверсия  в группе A и конверсия в группе B **не равны**."
   ]
  },
  {
   "cell_type": "code",
   "execution_count": 48,
   "metadata": {},
   "outputs": [
    {
     "name": "stdout",
     "output_type": "stream",
     "text": [
      "p-значение: 0.006521296371518379\n",
      "Отвергаем нулевую гипотезу!\n"
     ]
    }
   ],
   "source": [
    "alpha = 0.05\n",
    "\n",
    "results = st.mannwhitneyu(sample_A_filtered, sample_B_filtered)\n",
    "\n",
    "print('p-значение:', results.pvalue)\n",
    "\n",
    "if (results.pvalue < alpha):\n",
    "    print('Отвергаем нулевую гипотезу!')\n",
    "else:\n",
    "    print('Не получилось отвергнуть нулевую гипотезу!')"
   ]
  },
  {
   "cell_type": "markdown",
   "metadata": {},
   "source": [
    "**Вывод:** Результат расчёта статистической значимости различий в конверсии между группами по «очищенным» данным показал, что конверсии групп A и B после очистки данных по-прежнему имеют статистически значимые различия."
   ]
  },
  {
   "cell_type": "code",
   "execution_count": 49,
   "metadata": {},
   "outputs": [
    {
     "name": "stdout",
     "output_type": "stream",
     "text": [
      "17.27%\n"
     ]
    }
   ],
   "source": [
    "print(\"{0:.2%}\".format(sample_B_filtered.mean() / sample_A_filtered.mean() - 1))"
   ]
  },
  {
   "cell_type": "markdown",
   "metadata": {},
   "source": [
    "**Вывод:** Результат расчёта относительного показателя после очистки данных от выбросов сообщает, что конверсия группы B превосходит конверсию группы A на 17.27%. Этот показатель возрос на 3.46% относительно расчётов на \"сырых\" данных."
   ]
  },
  {
   "cell_type": "markdown",
   "metadata": {},
   "source": [
    "[**Вернуться к оглавлению...**](#content)"
   ]
  },
  {
   "cell_type": "markdown",
   "metadata": {},
   "source": [
    "### 2.13. Расчёт статистической значимости различий в среднем чеке заказа между группами по «очищенным» данным <a name=\"step_2_13\"></a>"
   ]
  },
  {
   "cell_type": "markdown",
   "metadata": {},
   "source": [
    "Создадим датафреймы `revenue_filtered_A` и `revenue_filtered_B`, в которых сохраним данные о выручках с заказов, очищенные от крупных заказов и выбросов."
   ]
  },
  {
   "cell_type": "code",
   "execution_count": 50,
   "metadata": {},
   "outputs": [],
   "source": [
    "revenue_filtered_A = orders[\n",
    "    np.logical_and(orders['group'] == 'A',\n",
    "                   np.logical_not(orders['visitor_id'].isin(abnormal_users)))]['revenue']\n",
    "\n",
    "revenue_filtered_B = orders[\n",
    "    np.logical_and(orders['group'] == 'B',\n",
    "                   np.logical_not(orders['visitor_id'].isin(abnormal_users)))]['revenue']"
   ]
  },
  {
   "cell_type": "markdown",
   "metadata": {},
   "source": [
    "Проведём расчёт статистической значимости различий в среднем чеке заказа между группами по «очищенным» данным."
   ]
  },
  {
   "cell_type": "code",
   "execution_count": 51,
   "metadata": {},
   "outputs": [
    {
     "name": "stdout",
     "output_type": "stream",
     "text": [
      "p-значение: 0.3692408756572825\n",
      "Не получилось отвергнуть нулевую гипотезу!\n"
     ]
    }
   ],
   "source": [
    "alpha = 0.05\n",
    "\n",
    "results = st.mannwhitneyu(revenue_filtered_A, revenue_filtered_B)\n",
    "\n",
    "print('p-значение:', results.pvalue)\n",
    "\n",
    "if (results.pvalue < alpha):\n",
    "    print('Отвергаем нулевую гипотезу!')\n",
    "else:\n",
    "    print('Не получилось отвергнуть нулевую гипотезу!')"
   ]
  },
  {
   "cell_type": "markdown",
   "metadata": {},
   "source": [
    "**Вывод:** Результат статистического расчёта очищенных данных показал, что средние чеки группы A и B по-прежнему не имеют статистически значимых различий."
   ]
  },
  {
   "cell_type": "code",
   "execution_count": 52,
   "metadata": {},
   "outputs": [
    {
     "name": "stdout",
     "output_type": "stream",
     "text": [
      "-1.96%\n"
     ]
    }
   ],
   "source": [
    "print('{:.2%}'.format(revenue_filtered_B.mean() / revenue_filtered_A.mean() - 1))"
   ]
  },
  {
   "cell_type": "markdown",
   "metadata": {},
   "source": [
    "**Вывод:** Однако, расчёт относительного показателя сообщает нам о том, что, в отличие, \"сырых\" данных средний чек группы B уступает среднему чеку группы A на 1.96%."
   ]
  },
  {
   "cell_type": "markdown",
   "metadata": {},
   "source": [
    "[**Вернуться к оглавлению...**](#content)"
   ]
  },
  {
   "cell_type": "markdown",
   "metadata": {},
   "source": [
    "### 2.14. Решение по итогам анализа результатов A/B-теста <a name=\"step_2_14\"></a>"
   ]
  },
  {
   "cell_type": "markdown",
   "metadata": {},
   "source": [
    "* Есть статистически значимое различие по конверсии между группами как по сырым данным, так и после фильтрации аномалий.\n",
    "\n",
    "\n",
    "* Нет статистически значимого различия по среднему чеку между группа как по сырым данным, так и после фильтрации от аномалий.\n",
    "\n",
    "\n",
    "* График различия конверсии между группами сообщает, что результаты группы B лучше группы A: показатели зафиксировались около среднего значения.\n",
    "\n",
    "С учётом этих факторов, можно зафиксировать победу группы B."
   ]
  },
  {
   "cell_type": "markdown",
   "metadata": {},
   "source": [
    "[**Вернуться к оглавлению...**](#content)"
   ]
  }
 ],
 "metadata": {
  "kernelspec": {
   "display_name": "Python 3",
   "language": "python",
   "name": "python3"
  },
  "language_info": {
   "codemirror_mode": {
    "name": "ipython",
    "version": 3
   },
   "file_extension": ".py",
   "mimetype": "text/x-python",
   "name": "python",
   "nbconvert_exporter": "python",
   "pygments_lexer": "ipython3",
   "version": "3.7.9"
  }
 },
 "nbformat": 4,
 "nbformat_minor": 4
}
